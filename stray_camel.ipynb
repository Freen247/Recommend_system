{
 "nbformat": 4,
 "nbformat_minor": 2,
 "metadata": {
  "language_info": {
   "name": "python",
   "codemirror_mode": {
    "name": "ipython",
    "version": 3
   },
   "version": "3.6.7-final"
  },
  "orig_nbformat": 2,
  "file_extension": ".py",
  "mimetype": "text/x-python",
  "name": "python",
  "npconvert_exporter": "python",
  "pygments_lexer": "ipython3",
  "version": 3,
  "kernelspec": {
   "name": "python36764bitrecenvvirtualenvc590a763a4564b6f98e8e2c90348aa96",
   "display_name": "Python 3.6.7 64-bit ('rec_env': virtualenv)"
  }
 },
 "cells": [
  {
   "cell_type": "code",
   "execution_count": 7,
   "metadata": {},
   "outputs": [
    {
     "name": "stdout",
     "output_type": "stream",
     "text": "sys.version_info(major=3, minor=6, micro=7, releaselevel='final', serial=0)\ntensorflow 2.1.0\nmatplotlib 3.2.0\nnumpy 1.18.1\npandas 1.0.1\nsklearn 0.22.2.post1\ntensorflow 2.1.0\ntensorflow_core.keras 2.2.4-tf\n"
    }
   ],
   "source": [
    "import os, sys, re, pickle\n",
    "import matplotlib as mpl\n",
    "import matplotlib.pyplot as plt\n",
    "import numpy as np\n",
    "import sklearn\n",
    "import pandas as pd\n",
    "import tensorflow as tf\n",
    "from tensorflow import keras\n",
    "print(sys.version_info)\n",
    "for module in tf, mpl, np, pd, sklearn, tf, keras:\n",
    "    print(module.__name__, module.__version__)"
   ]
  },
  {
   "cell_type": "code",
   "execution_count": 114,
   "metadata": {},
   "outputs": [],
   "source": [
    "ORIGIN_DATA_DIR = os.getcwd()+'/data/BX-CSV-Dump/'\n",
    "FILTERED_DATA_DIR = os.getcwd()+'/tmp/'\n",
    "class DataLoad:\n",
    "    def __init__(self):\n",
    "        '''\n",
    "        books_with_blurbs.csv cloumns: ISBN,Title,Author,Year,Publisher,Blurb\n",
    "        BX-Book-Ratings.csv cloumns: User-ID,ISBN,Book-Rating\n",
    "        BX-Books.csv cloumns: ISBN,Book-Title,Book-Author,Year-Of-Publication,Publisher,Image-URL-S,Image-URL-M,Image-URL-L\n",
    "        BX-Users.csv cloumns: User-ID,Location,Age\n",
    "        '''\n",
    "        self.BX_Users = self.load_origin('BX-Users')\n",
    "        self.BX_Book_Ratings = self.load_origin('BX-Book-Ratings')\n",
    "        self.books_with_blurbs = self.load_origin('books_with_blurbs', ',')\n",
    "        #合并三个表\n",
    "        self.features = self.get_features()\n",
    "\n",
    "\n",
    "    def get_features(self):\n",
    "        try:\n",
    "            # 从缓存的文件夹FILTERED_DATA_DIR获取features的文件\n",
    "            pickled_data = pickle.load(open(FILTERED_DATA_DIR+'features.p', mode='rb'))\n",
    "            return pickled_data\n",
    "        except FileNotFoundError:\n",
    "            # 将所有的数据组成features大表\n",
    "            data = pd.merge(pd.merge(self.BX_Users, self.BX_Book_Ratings), self.books_with_blurbs)\n",
    "            # 因为没获得处理后的文件，所以我们在获取源文件后可以保存一下处理后的文件\n",
    "            pickle.dump(data, open(FILTERED_DATA_DIR+'features.p', 'wb'))\n",
    "            return data\n",
    "\n",
    "\n",
    "    def filtrator(self, \n",
    "        f_data: \"输入需要进行初步filter的数据\"\n",
    "        )->pd.DataFrame:\n",
    "        '''\n",
    "        源文件中的columns和各个值得第一列的第一个字符和最后一列的最后一个字符都带有双引号‘\"’,需要将其filter\n",
    "        数据中值为NULL，我们将其替换成'<PAD>'\n",
    "        '''\n",
    "        Nonetype_age = 0\n",
    "        f_data = f_data.rename(columns={f_data.columns[0]:f_data.columns[0][1:], f_data.columns[-1]:f_data.columns[-1][:-1]})\n",
    "        f_data[f_data.columns[0]] = f_data[f_data.columns[0]].map(lambda v:v[1:] if v!=None else Nonetype_age)\n",
    "        f_data[f_data.columns[-1]] = f_data[f_data.columns[-1]].map(lambda v:v[:-1] if v!=None else Nonetype_age)\n",
    "        try:\n",
    "            f_data = f_data[f_data['Location'].notnull()][f_data[f_data['Location'].notnull()]['Location'].str.contains('\\\";NULL')]\n",
    "            f_data['Location'] = f_data['Location'].map(lambda location:location[:-6])\n",
    "        except:\n",
    "            pass\n",
    "        return f_data\n",
    "\n",
    "\n",
    "    def load_origin(self, \n",
    "        filename: \"根据文件名获取源文件，获取正确得columns、values等值\", \n",
    "        sep: \"因为源文件的分隔方式sep不同，所以通过传参改编分隔方式\"=\"\\\";\\\"\", \n",
    "        )->pd.DataFrame:\n",
    "        try:\n",
    "            # 从缓存的文件夹FILTERED_DATA_DIR获取基本被过滤后的文件\n",
    "            pickled_data = pickle.load(open(FILTERED_DATA_DIR+filename+'.p', mode='rb'))\n",
    "            return pickled_data\n",
    "        except FileNotFoundError:\n",
    "            # 如果缓存的文件不存在或者没有，则在源目录ORIGIN_DATA_DIR获取\n",
    "            data = pd.read_csv(ORIGIN_DATA_DIR+filename+'.csv', engine='python',sep=sep, encoding='utf-8')\n",
    "            # \\\";\\\"  初始过滤的文件\n",
    "            # ,      初始不需要过滤的文件\n",
    "            data_dict = {\"\\\";\\\"\":self.filtrator(data), ',':data}\n",
    "            # 因为没获得处理后的文件，所以我们在获取源文件后可以保存一下处理后的文件\n",
    "            pickle.dump((data_dict[sep]), open(FILTERED_DATA_DIR+filename+'.p', 'wb'))\n",
    "            return data_dict[sep]\n",
    "        except UnicodeDecodeError as e:\n",
    "            ''' 测试时经常会出现编码错误，如果尝试更换编码方式无效，可以将编码错误的部分位置重新复制粘贴就可以了，这里我们都默认UTF-8'''\n",
    "            print('UnicodeDecodeError:',e)\n",
    "        except pd.errors.ParserError as e:\n",
    "            print(\"connect error|pandas Error: %s\" % e)\n",
    "\n",
    "\n",
    "    def __del__(self):\n",
    "        pass\n",
    "\n",
    "origin_DATA = DataLoad()"
   ]
  },
  {
   "cell_type": "code",
   "execution_count": 115,
   "metadata": {},
   "outputs": [
    {
     "data": {
      "text/html": "<div>\n<style scoped>\n    .dataframe tbody tr th:only-of-type {\n        vertical-align: middle;\n    }\n\n    .dataframe tbody tr th {\n        vertical-align: top;\n    }\n\n    .dataframe thead th {\n        text-align: right;\n    }\n</style>\n<table border=\"1\" class=\"dataframe\">\n  <thead>\n    <tr style=\"text-align: right;\">\n      <th></th>\n      <th>User-ID</th>\n      <th>Location</th>\n      <th>Age</th>\n      <th>ISBN</th>\n      <th>Book-Rating</th>\n      <th>Title</th>\n      <th>Author</th>\n      <th>Year</th>\n      <th>Publisher</th>\n      <th>Blurb</th>\n    </tr>\n  </thead>\n  <tbody>\n    <tr>\n      <th>0</th>\n      <td>8</td>\n      <td>timmins, ontario, canada</td>\n      <td>0</td>\n      <td>0060973129</td>\n      <td>0</td>\n      <td>Decision in Normandy</td>\n      <td>Carlo D'Este</td>\n      <td>1991</td>\n      <td>HarperPerennial</td>\n      <td>Here, for the first time in paperback, is an o...</td>\n    </tr>\n    <tr>\n      <th>1</th>\n      <td>8</td>\n      <td>timmins, ontario, canada</td>\n      <td>0</td>\n      <td>0374157065</td>\n      <td>0</td>\n      <td>Flu: The Story of the Great Influenza Pandemic...</td>\n      <td>Gina Bari Kolata</td>\n      <td>1999</td>\n      <td>Farrar Straus Giroux</td>\n      <td>The fascinating, true story of the world's dea...</td>\n    </tr>\n    <tr>\n      <th>2</th>\n      <td>169187</td>\n      <td>edmonton, alberta, canada</td>\n      <td>0</td>\n      <td>0374157065</td>\n      <td>0</td>\n      <td>Flu: The Story of the Great Influenza Pandemic...</td>\n      <td>Gina Bari Kolata</td>\n      <td>1999</td>\n      <td>Farrar Straus Giroux</td>\n      <td>The fascinating, true story of the world's dea...</td>\n    </tr>\n    <tr>\n      <th>3</th>\n      <td>208059</td>\n      <td>payson, arizona, usa</td>\n      <td>0</td>\n      <td>0374157065</td>\n      <td>6</td>\n      <td>Flu: The Story of the Great Influenza Pandemic...</td>\n      <td>Gina Bari Kolata</td>\n      <td>1999</td>\n      <td>Farrar Straus Giroux</td>\n      <td>The fascinating, true story of the world's dea...</td>\n    </tr>\n    <tr>\n      <th>4</th>\n      <td>209163</td>\n      <td>columbus, ohio, usa</td>\n      <td>0</td>\n      <td>0374157065</td>\n      <td>0</td>\n      <td>Flu: The Story of the Great Influenza Pandemic...</td>\n      <td>Gina Bari Kolata</td>\n      <td>1999</td>\n      <td>Farrar Straus Giroux</td>\n      <td>The fascinating, true story of the world's dea...</td>\n    </tr>\n    <tr>\n      <th>...</th>\n      <td>...</td>\n      <td>...</td>\n      <td>...</td>\n      <td>...</td>\n      <td>...</td>\n      <td>...</td>\n      <td>...</td>\n      <td>...</td>\n      <td>...</td>\n      <td>...</td>\n    </tr>\n    <tr>\n      <th>172097</th>\n      <td>278535</td>\n      <td>oshkosh, wisconsin, usa</td>\n      <td>0</td>\n      <td>038079943X</td>\n      <td>8</td>\n      <td>Mourning Shift : A Tory Bauer Mystery (Tory Ba...</td>\n      <td>Kathleen Taylor</td>\n      <td>1998</td>\n      <td>Avon</td>\n      <td>Tory Bauer is the quintessential diner waitres...</td>\n    </tr>\n    <tr>\n      <th>172098</th>\n      <td>278582</td>\n      <td>slidell, louisiana, usa</td>\n      <td>0</td>\n      <td>0312986327</td>\n      <td>0</td>\n      <td>Out on a Limb (A Claire Malloy Mystery)</td>\n      <td>Joan Hess</td>\n      <td>2003</td>\n      <td>St. Martin's Minotaur</td>\n      <td>Faberville bookstore owner Claire Malloy is ru...</td>\n    </tr>\n    <tr>\n      <th>172099</th>\n      <td>278582</td>\n      <td>slidell, louisiana, usa</td>\n      <td>0</td>\n      <td>0451208498</td>\n      <td>0</td>\n      <td>Thieves' Paradise</td>\n      <td>Eric Jerome Dickey</td>\n      <td>2003</td>\n      <td>Signet Book</td>\n      <td>Eric Jerome Dickey is back with a sexy, fast-p...</td>\n    </tr>\n    <tr>\n      <th>172100</th>\n      <td>278582</td>\n      <td>slidell, louisiana, usa</td>\n      <td>0</td>\n      <td>0743480562</td>\n      <td>6</td>\n      <td>CSI, Miami: Heat Wave</td>\n      <td>Max Allan Collins</td>\n      <td>2004</td>\n      <td>Pocket Star</td>\n      <td>Lieutenant Horatio Caine leads a crack team of...</td>\n    </tr>\n    <tr>\n      <th>172101</th>\n      <td>278637</td>\n      <td>strasbourg, alsace, france</td>\n      <td>0</td>\n      <td>2877304892</td>\n      <td>7</td>\n      <td>Je vous Ã?Â©cris</td>\n      <td>Inoue Hisashi</td>\n      <td>2000</td>\n      <td>Philippe Picquier</td>\n      <td>C’est au travers de leur correspondance que le...</td>\n    </tr>\n  </tbody>\n</table>\n<p>172102 rows × 10 columns</p>\n</div>",
      "text/plain": "       User-ID                    Location Age        ISBN Book-Rating  \\\n0            8    timmins, ontario, canada   0  0060973129           0   \n1            8    timmins, ontario, canada   0  0374157065           0   \n2       169187   edmonton, alberta, canada   0  0374157065           0   \n3       208059        payson, arizona, usa   0  0374157065           6   \n4       209163         columbus, ohio, usa   0  0374157065           0   \n...        ...                         ...  ..         ...         ...   \n172097  278535     oshkosh, wisconsin, usa   0  038079943X           8   \n172098  278582     slidell, louisiana, usa   0  0312986327           0   \n172099  278582     slidell, louisiana, usa   0  0451208498           0   \n172100  278582     slidell, louisiana, usa   0  0743480562           6   \n172101  278637  strasbourg, alsace, france   0  2877304892           7   \n\n                                                    Title              Author  \\\n0                                    Decision in Normandy        Carlo D'Este   \n1       Flu: The Story of the Great Influenza Pandemic...    Gina Bari Kolata   \n2       Flu: The Story of the Great Influenza Pandemic...    Gina Bari Kolata   \n3       Flu: The Story of the Great Influenza Pandemic...    Gina Bari Kolata   \n4       Flu: The Story of the Great Influenza Pandemic...    Gina Bari Kolata   \n...                                                   ...                 ...   \n172097  Mourning Shift : A Tory Bauer Mystery (Tory Ba...     Kathleen Taylor   \n172098            Out on a Limb (A Claire Malloy Mystery)           Joan Hess   \n172099                                  Thieves' Paradise  Eric Jerome Dickey   \n172100                              CSI, Miami: Heat Wave   Max Allan Collins   \n172101                                   Je vous Ã?Â©cris       Inoue Hisashi   \n\n        Year              Publisher  \\\n0       1991        HarperPerennial   \n1       1999   Farrar Straus Giroux   \n2       1999   Farrar Straus Giroux   \n3       1999   Farrar Straus Giroux   \n4       1999   Farrar Straus Giroux   \n...      ...                    ...   \n172097  1998                   Avon   \n172098  2003  St. Martin's Minotaur   \n172099  2003            Signet Book   \n172100  2004            Pocket Star   \n172101  2000      Philippe Picquier   \n\n                                                    Blurb  \n0       Here, for the first time in paperback, is an o...  \n1       The fascinating, true story of the world's dea...  \n2       The fascinating, true story of the world's dea...  \n3       The fascinating, true story of the world's dea...  \n4       The fascinating, true story of the world's dea...  \n...                                                   ...  \n172097  Tory Bauer is the quintessential diner waitres...  \n172098  Faberville bookstore owner Claire Malloy is ru...  \n172099  Eric Jerome Dickey is back with a sexy, fast-p...  \n172100  Lieutenant Horatio Caine leads a crack team of...  \n172101  C’est au travers de leur correspondance que le...  \n\n[172102 rows x 10 columns]"
     },
     "execution_count": 115,
     "metadata": {},
     "output_type": "execute_result"
    }
   ],
   "source": [
    "origin_DATA.features"
   ]
  }
 ]
}