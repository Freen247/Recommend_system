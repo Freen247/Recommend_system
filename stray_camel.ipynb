{
 "cells": [
  {
   "cell_type": "code",
   "execution_count": 7,
   "metadata": {},
   "outputs": [
    {
     "name": "stdout",
     "output_type": "stream",
     "text": [
      "sys.version_info(major=3, minor=6, micro=7, releaselevel='final', serial=0)\ntensorflow 2.1.0\nmatplotlib 3.2.0\nnumpy 1.18.1\npandas 1.0.1\nsklearn 0.22.2.post1\ntensorflow 2.1.0\ntensorflow_core.keras 2.2.4-tf\n"
     ]
    }
   ],
   "source": [
    "import os, sys, re, pickle\n",
    "import matplotlib as mpl\n",
    "import matplotlib.pyplot as plt\n",
    "import numpy as np\n",
    "import sklearn\n",
    "import pandas as pd\n",
    "import tensorflow as tf\n",
    "from tensorflow import keras\n",
    "print(sys.version_info)\n",
    "for module in tf, mpl, np, pd, sklearn, tf, keras:\n",
    "    print(module.__name__, module.__version__)"
   ]
  },
  {
   "cell_type": "code",
   "execution_count": null,
   "metadata": {},
   "outputs": [],
   "source": []
  },
  {
   "cell_type": "code",
   "execution_count": 114,
   "metadata": {},
   "outputs": [],
   "source": [
    "ORIGIN_DATA_DIR = os.getcwd()+'/data/BX-CSV-Dump/'\n",
    "FILTERED_DATA_DIR = os.getcwd()+'/tmp/'\n",
    "class DataLoad:\n",
    "    def __init__(self):\n",
    "        '''\n",
    "        books_with_blurbs.csv cloumns: ISBN,Title,Author,Year,Publisher,Blurb\n",
    "        BX-Book-Ratings.csv cloumns: User-ID,ISBN,Book-Rating\n",
    "        BX-Books.csv cloumns: ISBN,Book-Title,Book-Author,Year-Of-Publication,Publisher,Image-URL-S,Image-URL-M,Image-URL-L\n",
    "        BX-Users.csv cloumns: User-ID,Location,Age\n",
    "        '''\n",
    "        self.BX_Users = self.load_origin('BX-Users')\n",
    "        self.BX_Book_Ratings = self.load_origin('BX-Book-Ratings')\n",
    "        self.books_with_blurbs = self.load_origin('books_with_blurbs', ',')\n",
    "        #合并三个表\n",
    "        self.features = self.get_features()\n",
    "\n",
    "\n",
    "    def get_features(self):\n",
    "        try:\n",
    "            # 从缓存的文件夹FILTERED_DATA_DIR获取features的文件\n",
    "            pickled_data = pickle.load(open(FILTERED_DATA_DIR+'features.p', mode='rb'))\n",
    "            return pickled_data\n",
    "        except FileNotFoundError:\n",
    "            # 将所有的数据组成features大表\n",
    "            data = pd.merge(pd.merge(self.BX_Users, self.BX_Book_Ratings), self.books_with_blurbs)\n",
    "            # 因为没获得处理后的文件，所以我们在获取源文件后可以保存一下处理后的文件\n",
    "            pickle.dump(data, open(FILTERED_DATA_DIR+'features.p', 'wb'))\n",
    "            return data\n",
    "\n",
    "\n",
    "    def filtrator(self, \n",
    "        f_data: \"输入需要进行初步filter的数据\"\n",
    "        )->pd.DataFrame:\n",
    "        '''\n",
    "        源文件中的columns和各个值得第一列的第一个字符和最后一列的最后一个字符都带有双引号‘\"’,需要将其filter\n",
    "        数据中值为NULL，我们将其替换成'<PAD>'\n",
    "        '''\n",
    "        Nonetype_age = 0\n",
    "        f_data = f_data.rename(columns={f_data.columns[0]:f_data.columns[0][1:], f_data.columns[-1]:f_data.columns[-1][:-1]})\n",
    "        f_data[f_data.columns[0]] = f_data[f_data.columns[0]].map(lambda v:v[1:] if v!=None else Nonetype_age)\n",
    "        f_data[f_data.columns[-1]] = f_data[f_data.columns[-1]].map(lambda v:v[:-1] if v!=None else Nonetype_age)\n",
    "        try:\n",
    "            f_data = f_data[f_data['Location'].notnull()][f_data[f_data['Location'].notnull()]['Location'].str.contains('\\\";NULL')]\n",
    "            f_data['Location'] = f_data['Location'].map(lambda location:location[:-6])\n",
    "        except:\n",
    "            pass\n",
    "        return f_data\n",
    "\n",
    "\n",
    "    def load_origin(self, \n",
    "        filename: \"根据文件名获取源文件，获取正确得columns、values等值\", \n",
    "        sep: \"因为源文件的分隔方式sep不同，所以通过传参改编分隔方式\"=\"\\\";\\\"\", \n",
    "        )->pd.DataFrame:\n",
    "        try:\n",
    "            # 从缓存的文件夹FILTERED_DATA_DIR获取基本被过滤后的文件\n",
    "            pickled_data = pickle.load(open(FILTERED_DATA_DIR+filename+'.p', mode='rb'))\n",
    "            return pickled_data\n",
    "        except FileNotFoundError:\n",
    "            # 如果缓存的文件不存在或者没有，则在源目录ORIGIN_DATA_DIR获取\n",
    "            data = pd.read_csv(ORIGIN_DATA_DIR+filename+'.csv', engine='python',sep=sep, encoding='utf-8')\n",
    "            # \\\";\\\"  初始过滤的文件\n",
    "            # ,      初始不需要过滤的文件\n",
    "            data_dict = {\"\\\";\\\"\":self.filtrator(data), ',':data}\n",
    "            # 因为没获得处理后的文件，所以我们在获取源文件后可以保存一下处理后的文件\n",
    "            pickle.dump((data_dict[sep]), open(FILTERED_DATA_DIR+filename+'.p', 'wb'))\n",
    "            return data_dict[sep]\n",
    "        except UnicodeDecodeError as e:\n",
    "            ''' 测试时经常会出现编码错误，如果尝试更换编码方式无效，可以将编码错误的部分位置重新复制粘贴就可以了，这里我们都默认UTF-8'''\n",
    "            print('UnicodeDecodeError:',e)\n",
    "        except pd.errors.ParserError as e:\n",
    "            print(\"connect error|pandas Error: %s\" % e)\n",
    "\n",
    "\n",
    "    def __del__(self):\n",
    "        pass\n",
    "\n",
    "origin_DATA = DataLoad()"
   ]
  },
  {
   "cell_type": "code",
   "execution_count": 115,
   "metadata": {},
   "outputs": [
    {
     "data": {
      "text/html": [
       "<div>\n<style scoped>\n    .dataframe tbody tr th:only-of-type {\n        vertical-align: middle;\n    }\n\n    .dataframe tbody tr th {\n        vertical-align: top;\n    }\n\n    .dataframe thead th {\n        text-align: right;\n    }\n</style>\n<table border=\"1\" class=\"dataframe\">\n  <thead>\n    <tr style=\"text-align: right;\">\n      <th></th>\n      <th>User-ID</th>\n      <th>Location</th>\n      <th>Age</th>\n      <th>ISBN</th>\n      <th>Book-Rating</th>\n      <th>Title</th>\n      <th>Author</th>\n      <th>Year</th>\n      <th>Publisher</th>\n      <th>Blurb</th>\n    </tr>\n  </thead>\n  <tbody>\n    <tr>\n      <th>0</th>\n      <td>8</td>\n      <td>timmins, ontario, canada</td>\n      <td>0</td>\n      <td>0060973129</td>\n      <td>0</td>\n      <td>Decision in Normandy</td>\n      <td>Carlo D'Este</td>\n      <td>1991</td>\n      <td>HarperPerennial</td>\n      <td>Here, for the first time in paperback, is an o...</td>\n    </tr>\n    <tr>\n      <th>1</th>\n      <td>8</td>\n      <td>timmins, ontario, canada</td>\n      <td>0</td>\n      <td>0374157065</td>\n      <td>0</td>\n      <td>Flu: The Story of the Great Influenza Pandemic...</td>\n      <td>Gina Bari Kolata</td>\n      <td>1999</td>\n      <td>Farrar Straus Giroux</td>\n      <td>The fascinating, true story of the world's dea...</td>\n    </tr>\n    <tr>\n      <th>2</th>\n      <td>169187</td>\n      <td>edmonton, alberta, canada</td>\n      <td>0</td>\n      <td>0374157065</td>\n      <td>0</td>\n      <td>Flu: The Story of the Great Influenza Pandemic...</td>\n      <td>Gina Bari Kolata</td>\n      <td>1999</td>\n      <td>Farrar Straus Giroux</td>\n      <td>The fascinating, true story of the world's dea...</td>\n    </tr>\n    <tr>\n      <th>3</th>\n      <td>208059</td>\n      <td>payson, arizona, usa</td>\n      <td>0</td>\n      <td>0374157065</td>\n      <td>6</td>\n      <td>Flu: The Story of the Great Influenza Pandemic...</td>\n      <td>Gina Bari Kolata</td>\n      <td>1999</td>\n      <td>Farrar Straus Giroux</td>\n      <td>The fascinating, true story of the world's dea...</td>\n    </tr>\n    <tr>\n      <th>4</th>\n      <td>209163</td>\n      <td>columbus, ohio, usa</td>\n      <td>0</td>\n      <td>0374157065</td>\n      <td>0</td>\n      <td>Flu: The Story of the Great Influenza Pandemic...</td>\n      <td>Gina Bari Kolata</td>\n      <td>1999</td>\n      <td>Farrar Straus Giroux</td>\n      <td>The fascinating, true story of the world's dea...</td>\n    </tr>\n    <tr>\n      <th>...</th>\n      <td>...</td>\n      <td>...</td>\n      <td>...</td>\n      <td>...</td>\n      <td>...</td>\n      <td>...</td>\n      <td>...</td>\n      <td>...</td>\n      <td>...</td>\n      <td>...</td>\n    </tr>\n    <tr>\n      <th>172097</th>\n      <td>278535</td>\n      <td>oshkosh, wisconsin, usa</td>\n      <td>0</td>\n      <td>038079943X</td>\n      <td>8</td>\n      <td>Mourning Shift : A Tory Bauer Mystery (Tory Ba...</td>\n      <td>Kathleen Taylor</td>\n      <td>1998</td>\n      <td>Avon</td>\n      <td>Tory Bauer is the quintessential diner waitres...</td>\n    </tr>\n    <tr>\n      <th>172098</th>\n      <td>278582</td>\n      <td>slidell, louisiana, usa</td>\n      <td>0</td>\n      <td>0312986327</td>\n      <td>0</td>\n      <td>Out on a Limb (A Claire Malloy Mystery)</td>\n      <td>Joan Hess</td>\n      <td>2003</td>\n      <td>St. Martin's Minotaur</td>\n      <td>Faberville bookstore owner Claire Malloy is ru...</td>\n    </tr>\n    <tr>\n      <th>172099</th>\n      <td>278582</td>\n      <td>slidell, louisiana, usa</td>\n      <td>0</td>\n      <td>0451208498</td>\n      <td>0</td>\n      <td>Thieves' Paradise</td>\n      <td>Eric Jerome Dickey</td>\n      <td>2003</td>\n      <td>Signet Book</td>\n      <td>Eric Jerome Dickey is back with a sexy, fast-p...</td>\n    </tr>\n    <tr>\n      <th>172100</th>\n      <td>278582</td>\n      <td>slidell, louisiana, usa</td>\n      <td>0</td>\n      <td>0743480562</td>\n      <td>6</td>\n      <td>CSI, Miami: Heat Wave</td>\n      <td>Max Allan Collins</td>\n      <td>2004</td>\n      <td>Pocket Star</td>\n      <td>Lieutenant Horatio Caine leads a crack team of...</td>\n    </tr>\n    <tr>\n      <th>172101</th>\n      <td>278637</td>\n      <td>strasbourg, alsace, france</td>\n      <td>0</td>\n      <td>2877304892</td>\n      <td>7</td>\n      <td>Je vous Ã?Â©cris</td>\n      <td>Inoue Hisashi</td>\n      <td>2000</td>\n      <td>Philippe Picquier</td>\n      <td>C’est au travers de leur correspondance que le...</td>\n    </tr>\n  </tbody>\n</table>\n<p>172102 rows × 10 columns</p>\n</div>"
      ],
      "text/plain": [
       "       User-ID                    Location Age        ISBN Book-Rating  \\\n0            8    timmins, ontario, canada   0  0060973129           0   \n1            8    timmins, ontario, canada   0  0374157065           0   \n2       169187   edmonton, alberta, canada   0  0374157065           0   \n3       208059        payson, arizona, usa   0  0374157065           6   \n4       209163         columbus, ohio, usa   0  0374157065           0   \n...        ...                         ...  ..         ...         ...   \n172097  278535     oshkosh, wisconsin, usa   0  038079943X           8   \n172098  278582     slidell, louisiana, usa   0  0312986327           0   \n172099  278582     slidell, louisiana, usa   0  0451208498           0   \n172100  278582     slidell, louisiana, usa   0  0743480562           6   \n172101  278637  strasbourg, alsace, france   0  2877304892           7   \n\n                                                    Title              Author  \\\n0                                    Decision in Normandy        Carlo D'Este   \n1       Flu: The Story of the Great Influenza Pandemic...    Gina Bari Kolata   \n2       Flu: The Story of the Great Influenza Pandemic...    Gina Bari Kolata   \n3       Flu: The Story of the Great Influenza Pandemic...    Gina Bari Kolata   \n4       Flu: The Story of the Great Influenza Pandemic...    Gina Bari Kolata   \n...                                                   ...                 ...   \n172097  Mourning Shift : A Tory Bauer Mystery (Tory Ba...     Kathleen Taylor   \n172098            Out on a Limb (A Claire Malloy Mystery)           Joan Hess   \n172099                                  Thieves' Paradise  Eric Jerome Dickey   \n172100                              CSI, Miami: Heat Wave   Max Allan Collins   \n172101                                   Je vous Ã?Â©cris       Inoue Hisashi   \n\n        Year              Publisher  \\\n0       1991        HarperPerennial   \n1       1999   Farrar Straus Giroux   \n2       1999   Farrar Straus Giroux   \n3       1999   Farrar Straus Giroux   \n4       1999   Farrar Straus Giroux   \n...      ...                    ...   \n172097  1998                   Avon   \n172098  2003  St. Martin's Minotaur   \n172099  2003            Signet Book   \n172100  2004            Pocket Star   \n172101  2000      Philippe Picquier   \n\n                                                    Blurb  \n0       Here, for the first time in paperback, is an o...  \n1       The fascinating, true story of the world's dea...  \n2       The fascinating, true story of the world's dea...  \n3       The fascinating, true story of the world's dea...  \n4       The fascinating, true story of the world's dea...  \n...                                                   ...  \n172097  Tory Bauer is the quintessential diner waitres...  \n172098  Faberville bookstore owner Claire Malloy is ru...  \n172099  Eric Jerome Dickey is back with a sexy, fast-p...  \n172100  Lieutenant Horatio Caine leads a crack team of...  \n172101  C’est au travers de leur correspondance que le...  \n\n[172102 rows x 10 columns]"
      ]
     },
     "execution_count": 115,
     "metadata": {},
     "output_type": "execute_result"
    }
   ],
   "source": [
    "origin_DATA.features"
   ]
  },
  {
   "cell_type": "code",
   "execution_count": 116,
   "metadata": {},
   "outputs": [
    {
     "data": {
      "text/html": [
       "<div>\n<style scoped>\n    .dataframe tbody tr th:only-of-type {\n        vertical-align: middle;\n    }\n\n    .dataframe tbody tr th {\n        vertical-align: top;\n    }\n\n    .dataframe thead th {\n        text-align: right;\n    }\n</style>\n<table border=\"1\" class=\"dataframe\">\n  <thead>\n    <tr style=\"text-align: right;\">\n      <th></th>\n      <th>User-ID</th>\n      <th>Location</th>\n      <th>Age</th>\n    </tr>\n  </thead>\n  <tbody>\n    <tr>\n      <th>0</th>\n      <td>1</td>\n      <td>nyc, new york, usa</td>\n      <td>0</td>\n    </tr>\n    <tr>\n      <th>2</th>\n      <td>3</td>\n      <td>moscow, yukon territory, russia</td>\n      <td>0</td>\n    </tr>\n    <tr>\n      <th>4</th>\n      <td>5</td>\n      <td>farnborough, hants, united kingdom</td>\n      <td>0</td>\n    </tr>\n    <tr>\n      <th>6</th>\n      <td>7</td>\n      <td>washington, dc, usa</td>\n      <td>0</td>\n    </tr>\n    <tr>\n      <th>7</th>\n      <td>8</td>\n      <td>timmins, ontario, canada</td>\n      <td>0</td>\n    </tr>\n    <tr>\n      <th>...</th>\n      <td>...</td>\n      <td>...</td>\n      <td>...</td>\n    </tr>\n    <tr>\n      <th>278850</th>\n      <td>278850</td>\n      <td>sergnano, lombardia, italy</td>\n      <td>0</td>\n    </tr>\n    <tr>\n      <th>278854</th>\n      <td>278854</td>\n      <td>portland, oregon, usa</td>\n      <td>0</td>\n    </tr>\n    <tr>\n      <th>278856</th>\n      <td>278856</td>\n      <td>brampton, ontario, canada</td>\n      <td>0</td>\n    </tr>\n    <tr>\n      <th>278857</th>\n      <td>278857</td>\n      <td>knoxville, tennessee, usa</td>\n      <td>0</td>\n    </tr>\n    <tr>\n      <th>278858</th>\n      <td>278858</td>\n      <td>dublin, n/a, ireland</td>\n      <td>0</td>\n    </tr>\n  </tbody>\n</table>\n<p>110761 rows × 3 columns</p>\n</div>"
      ],
      "text/plain": [
       "       User-ID                            Location Age\n0            1                  nyc, new york, usa   0\n2            3     moscow, yukon territory, russia   0\n4            5  farnborough, hants, united kingdom   0\n6            7                 washington, dc, usa   0\n7            8            timmins, ontario, canada   0\n...        ...                                 ...  ..\n278850  278850          sergnano, lombardia, italy   0\n278854  278854               portland, oregon, usa   0\n278856  278856           brampton, ontario, canada   0\n278857  278857           knoxville, tennessee, usa   0\n278858  278858                dublin, n/a, ireland   0\n\n[110761 rows x 3 columns]"
      ]
     },
     "execution_count": 116,
     "metadata": {},
     "output_type": "execute_result"
    }
   ],
   "source": [
    "origin_DATA.BX_Users"
   ]
  },
  {
   "cell_type": "code",
   "execution_count": 119,
   "metadata": {},
   "outputs": [
    {
     "data": {
      "text/html": [
       "<div>\n<style scoped>\n    .dataframe tbody tr th:only-of-type {\n        vertical-align: middle;\n    }\n\n    .dataframe tbody tr th {\n        vertical-align: top;\n    }\n\n    .dataframe thead th {\n        text-align: right;\n    }\n</style>\n<table border=\"1\" class=\"dataframe\">\n  <thead>\n    <tr style=\"text-align: right;\">\n      <th></th>\n      <th>User-ID</th>\n      <th>ISBN</th>\n      <th>Book-Rating</th>\n    </tr>\n  </thead>\n  <tbody>\n    <tr>\n      <th>0</th>\n      <td>276725</td>\n      <td>034545104X</td>\n      <td>0</td>\n    </tr>\n    <tr>\n      <th>1</th>\n      <td>276726</td>\n      <td>0155061224</td>\n      <td>5</td>\n    </tr>\n    <tr>\n      <th>2</th>\n      <td>276727</td>\n      <td>0446520802</td>\n      <td>0</td>\n    </tr>\n    <tr>\n      <th>3</th>\n      <td>276729</td>\n      <td>052165615X</td>\n      <td>3</td>\n    </tr>\n    <tr>\n      <th>4</th>\n      <td>276729</td>\n      <td>0521795028</td>\n      <td>6</td>\n    </tr>\n    <tr>\n      <th>...</th>\n      <td>...</td>\n      <td>...</td>\n      <td>...</td>\n    </tr>\n    <tr>\n      <th>1149775</th>\n      <td>276704</td>\n      <td>1563526298</td>\n      <td>9</td>\n    </tr>\n    <tr>\n      <th>1149776</th>\n      <td>276706</td>\n      <td>0679447156</td>\n      <td>0</td>\n    </tr>\n    <tr>\n      <th>1149777</th>\n      <td>276709</td>\n      <td>0515107662</td>\n      <td>10</td>\n    </tr>\n    <tr>\n      <th>1149778</th>\n      <td>276721</td>\n      <td>0590442449</td>\n      <td>10</td>\n    </tr>\n    <tr>\n      <th>1149779</th>\n      <td>276723</td>\n      <td>05162443314</td>\n      <td>8</td>\n    </tr>\n  </tbody>\n</table>\n<p>1149780 rows × 3 columns</p>\n</div>"
      ],
      "text/plain": [
       "        User-ID         ISBN Book-Rating\n0        276725   034545104X           0\n1        276726   0155061224           5\n2        276727   0446520802           0\n3        276729   052165615X           3\n4        276729   0521795028           6\n...         ...          ...         ...\n1149775  276704   1563526298           9\n1149776  276706   0679447156           0\n1149777  276709   0515107662          10\n1149778  276721   0590442449          10\n1149779  276723  05162443314           8\n\n[1149780 rows x 3 columns]"
      ]
     },
     "execution_count": 119,
     "metadata": {},
     "output_type": "execute_result"
    }
   ],
   "source": [
    "origin_DATA.BX_Book_Ratings"
   ]
  },
  {
   "cell_type": "code",
   "execution_count": 120,
   "metadata": {},
   "outputs": [
    {
     "data": {
      "text/html": [
       "<div>\n<style scoped>\n    .dataframe tbody tr th:only-of-type {\n        vertical-align: middle;\n    }\n\n    .dataframe tbody tr th {\n        vertical-align: top;\n    }\n\n    .dataframe thead th {\n        text-align: right;\n    }\n</style>\n<table border=\"1\" class=\"dataframe\">\n  <thead>\n    <tr style=\"text-align: right;\">\n      <th></th>\n      <th>ISBN</th>\n      <th>Title</th>\n      <th>Author</th>\n      <th>Year</th>\n      <th>Publisher</th>\n      <th>Blurb</th>\n    </tr>\n  </thead>\n  <tbody>\n    <tr>\n      <th>0</th>\n      <td>0060973129</td>\n      <td>Decision in Normandy</td>\n      <td>Carlo D'Este</td>\n      <td>1991</td>\n      <td>HarperPerennial</td>\n      <td>Here, for the first time in paperback, is an o...</td>\n    </tr>\n    <tr>\n      <th>1</th>\n      <td>0374157065</td>\n      <td>Flu: The Story of the Great Influenza Pandemic...</td>\n      <td>Gina Bari Kolata</td>\n      <td>1999</td>\n      <td>Farrar Straus Giroux</td>\n      <td>The fascinating, true story of the world's dea...</td>\n    </tr>\n    <tr>\n      <th>2</th>\n      <td>0399135782</td>\n      <td>The Kitchen God's Wife</td>\n      <td>Amy Tan</td>\n      <td>1991</td>\n      <td>Putnam Pub Group</td>\n      <td>Winnie and Helen have kept each others worst s...</td>\n    </tr>\n    <tr>\n      <th>3</th>\n      <td>0425176428</td>\n      <td>What If?: The World's Foremost Military Histor...</td>\n      <td>Robert Cowley</td>\n      <td>2000</td>\n      <td>Berkley Publishing Group</td>\n      <td>Historians and inquisitive laymen alike love t...</td>\n    </tr>\n    <tr>\n      <th>4</th>\n      <td>1881320189</td>\n      <td>Goodbye to the Buttermilk Sky</td>\n      <td>Julia Oliver</td>\n      <td>1994</td>\n      <td>River City Pub</td>\n      <td>This highly praised first novel by fiction wri...</td>\n    </tr>\n    <tr>\n      <th>...</th>\n      <td>...</td>\n      <td>...</td>\n      <td>...</td>\n      <td>...</td>\n      <td>...</td>\n      <td>...</td>\n    </tr>\n    <tr>\n      <th>57505</th>\n      <td>0451458877</td>\n      <td>Tainted Trail</td>\n      <td>Wen Spencer</td>\n      <td>2002</td>\n      <td>Roc</td>\n      <td>Ukiah Oregon, half-man and half-alien raised b...</td>\n    </tr>\n    <tr>\n      <th>57506</th>\n      <td>0399148736</td>\n      <td>Twelve Mile Limit</td>\n      <td>Randy Wayne White</td>\n      <td>2002</td>\n      <td>Penguin Putnam</td>\n      <td>On a Friday in early November, four people hea...</td>\n    </tr>\n    <tr>\n      <th>57507</th>\n      <td>0399148841</td>\n      <td>The Man With the Red Tattoo (James Bond 007)</td>\n      <td>Raymond Benson</td>\n      <td>2002</td>\n      <td>Putnam Publishing Group</td>\n      <td>On a quiet late-night flight from Tokyo to Lon...</td>\n    </tr>\n    <tr>\n      <th>57508</th>\n      <td>0553578979</td>\n      <td>Iron Fist (Star Wars: X-Wing Series, Book 6)</td>\n      <td>Aaron Allston</td>\n      <td>1998</td>\n      <td>Bantam</td>\n      <td>They are the Rebel Alliance's ultimate strike ...</td>\n    </tr>\n    <tr>\n      <th>57509</th>\n      <td>0345391101</td>\n      <td>The Adventures of Lando Calrissian: Lando Calr...</td>\n      <td>L. Neil Smith</td>\n      <td>1994</td>\n      <td>Del Rey Books</td>\n      <td>For the price of one, you get three Lando Calr...</td>\n    </tr>\n  </tbody>\n</table>\n<p>57510 rows × 6 columns</p>\n</div>"
      ],
      "text/plain": [
       "             ISBN                                              Title  \\\n0      0060973129                               Decision in Normandy   \n1      0374157065  Flu: The Story of the Great Influenza Pandemic...   \n2      0399135782                             The Kitchen God's Wife   \n3      0425176428  What If?: The World's Foremost Military Histor...   \n4      1881320189                      Goodbye to the Buttermilk Sky   \n...           ...                                                ...   \n57505  0451458877                                      Tainted Trail   \n57506  0399148736                                  Twelve Mile Limit   \n57507  0399148841       The Man With the Red Tattoo (James Bond 007)   \n57508  0553578979       Iron Fist (Star Wars: X-Wing Series, Book 6)   \n57509  0345391101  The Adventures of Lando Calrissian: Lando Calr...   \n\n                  Author  Year                 Publisher  \\\n0           Carlo D'Este  1991           HarperPerennial   \n1       Gina Bari Kolata  1999      Farrar Straus Giroux   \n2                Amy Tan  1991          Putnam Pub Group   \n3          Robert Cowley  2000  Berkley Publishing Group   \n4           Julia Oliver  1994            River City Pub   \n...                  ...   ...                       ...   \n57505        Wen Spencer  2002                       Roc   \n57506  Randy Wayne White  2002            Penguin Putnam   \n57507     Raymond Benson  2002   Putnam Publishing Group   \n57508      Aaron Allston  1998                    Bantam   \n57509      L. Neil Smith  1994             Del Rey Books   \n\n                                                   Blurb  \n0      Here, for the first time in paperback, is an o...  \n1      The fascinating, true story of the world's dea...  \n2      Winnie and Helen have kept each others worst s...  \n3      Historians and inquisitive laymen alike love t...  \n4      This highly praised first novel by fiction wri...  \n...                                                  ...  \n57505  Ukiah Oregon, half-man and half-alien raised b...  \n57506  On a Friday in early November, four people hea...  \n57507  On a quiet late-night flight from Tokyo to Lon...  \n57508  They are the Rebel Alliance's ultimate strike ...  \n57509  For the price of one, you get three Lando Calr...  \n\n[57510 rows x 6 columns]"
      ]
     },
     "execution_count": 120,
     "metadata": {},
     "output_type": "execute_result"
    }
   ],
   "source": [
    "origin_DATA.books_with_blurbs"
   ]
  },
  {
   "cell_type": "code",
   "execution_count": null,
   "metadata": {},
   "outputs": [],
   "source": []
  }
 ],
 "metadata": {
  "language_info": {
   "name": "python",
   "codemirror_mode": {
    "name": "ipython",
    "version": 3
   },
   "version": "3.6.7-final"
  },
  "orig_nbformat": 2.0,
  "file_extension": ".py",
  "mimetype": "text/x-python",
  "name": "python",
  "npconvert_exporter": "python",
  "pygments_lexer": "ipython3",
  "version": 3.0,
  "kernelspec": {
   "name": "python36764bitrecenvvirtualenvc590a763a4564b6f98e8e2c90348aa96",
   "display_name": "Python 3.6.7 64-bit ('rec_env': virtualenv)"
  }
 },
 "nbformat": 4,
 "nbformat_minor": 2
}
