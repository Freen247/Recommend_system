{
 "nbformat": 4,
 "nbformat_minor": 2,
 "metadata": {
  "language_info": {
   "name": "python",
   "codemirror_mode": {
    "name": "ipython",
    "version": 3
   },
   "version": "3.6.7-final"
  },
  "orig_nbformat": 2,
  "file_extension": ".py",
  "mimetype": "text/x-python",
  "name": "python",
  "npconvert_exporter": "python",
  "pygments_lexer": "ipython3",
  "version": 3,
  "kernelspec": {
   "name": "python36764bitrecenvvirtualenvc590a763a4564b6f98e8e2c90348aa96",
   "display_name": "Python 3.6.7 64-bit ('rec_env': virtualenv)"
  }
 },
 "cells": [
  {
   "cell_type": "code",
   "execution_count": 105,
   "metadata": {},
   "outputs": [
    {
     "name": "stdout",
     "output_type": "stream",
     "text": "sys.version_info(major=3, minor=6, micro=7, releaselevel='final', serial=0)\ntensorflow 2.1.0\nmatplotlib 3.2.0\nnumpy 1.18.1\npandas 1.0.1\nsklearn 0.22.2.post1\ntensorflow 2.1.0\ntensorflow_core.keras 2.2.4-tf\n"
    }
   ],
   "source": [
    "import os, sys, re\n",
    "import matplotlib as mpl\n",
    "import matplotlib.pyplot as plt\n",
    "import numpy as np\n",
    "import sklearn\n",
    "import pandas as pd\n",
    "import tensorflow as tf\n",
    "\n",
    "from tensorflow import keras\n",
    "\n",
    "\n",
    "print(sys.version_info)\n",
    "for module in tf, mpl, np, pd, sklearn, tf, keras:\n",
    "    print(module.__name__, module.__version__)"
   ]
  },
  {
   "cell_type": "code",
   "execution_count": 154,
   "metadata": {},
   "outputs": [
    {
     "name": "stdout",
     "output_type": "stream",
     "text": "<bound method NDFrame.head of              \"ISBN                                         Book-Title  \\\n0       0195153448                                Classical Mythology   \n1       0002005018                                       Clara Callan   \n2       0060973129                               Decision in Normandy   \n3       0374157065  Flu: The Story of the Great Influenza Pandemic...   \n4       0393045218                             The Mummies of Urumchi   \n...            ...                                                ...   \n271374  0440400988                         There's a Bat in Bunk Five   \n271375  0525447644                            From One to One Hundred   \n271376  006008667X  Lily Dale : The True Story of the Town that Ta...   \n271377  0192126040                        Republic (World's Classics)   \n271378  0767409752  A Guided Tour of Rene Descartes' Meditations o...   \n\n                 Book-Author  Year-Of-Publication  \\\n0         Mark P. O. Morford                 2002   \n1       Richard Bruce Wright                 2001   \n2               Carlo D'Este                 1991   \n3           Gina Bari Kolata                 1999   \n4            E. J. W. Barber                 1999   \n...                      ...                  ...   \n271374        Paula Danziger                 1988   \n271375            Teri Sloat                 1991   \n271376      Christine Wicker                 2004   \n271377                 Plato                 1996   \n271378   Christopher  Biffle                 2000   \n\n                                               Publisher  \\\n0                                Oxford University Press   \n1                                  HarperFlamingo Canada   \n2                                        HarperPerennial   \n3                                   Farrar Straus Giroux   \n4                             W. W. Norton &amp; Company   \n...                                                  ...   \n271374                   Random House Childrens Pub (Mm)   \n271375                                      Dutton Books   \n271376                                HarperSanFrancisco   \n271377                           Oxford University Press   \n271378  McGraw-Hill Humanities/Social Sciences/Languages   \n\n                                              Image-URL-S  \\\n0       http://images.amazon.com/images/P/0195153448.0...   \n1       http://images.amazon.com/images/P/0002005018.0...   \n2       http://images.amazon.com/images/P/0060973129.0...   \n3       http://images.amazon.com/images/P/0374157065.0...   \n4       http://images.amazon.com/images/P/0393045218.0...   \n...                                                   ...   \n271374  http://images.amazon.com/images/P/0440400988.0...   \n271375  http://images.amazon.com/images/P/0525447644.0...   \n271376  http://images.amazon.com/images/P/006008667X.0...   \n271377  http://images.amazon.com/images/P/0192126040.0...   \n271378  http://images.amazon.com/images/P/0767409752.0...   \n\n                                              Image-URL-M  \\\n0       http://images.amazon.com/images/P/0195153448.0...   \n1       http://images.amazon.com/images/P/0002005018.0...   \n2       http://images.amazon.com/images/P/0060973129.0...   \n3       http://images.amazon.com/images/P/0374157065.0...   \n4       http://images.amazon.com/images/P/0393045218.0...   \n...                                                   ...   \n271374  http://images.amazon.com/images/P/0440400988.0...   \n271375  http://images.amazon.com/images/P/0525447644.0...   \n271376  http://images.amazon.com/images/P/006008667X.0...   \n271377  http://images.amazon.com/images/P/0192126040.0...   \n271378  http://images.amazon.com/images/P/0767409752.0...   \n\n                                             Image-URL-L\"  \n0       http://images.amazon.com/images/P/0195153448.0...  \n1       http://images.amazon.com/images/P/0002005018.0...  \n2       http://images.amazon.com/images/P/0060973129.0...  \n3       http://images.amazon.com/images/P/0374157065.0...  \n4       http://images.amazon.com/images/P/0393045218.0...  \n...                                                   ...  \n271374  http://images.amazon.com/images/P/0440400988.0...  \n271375  http://images.amazon.com/images/P/0525447644.0...  \n271376  http://images.amazon.com/images/P/006008667X.0...  \n271377  http://images.amazon.com/images/P/0192126040.0...  \n271378  http://images.amazon.com/images/P/0767409752.0...  \n\n[271379 rows x 8 columns]>\n<bound method NDFrame.head of        \"User-ID                                  Location   Age\"\n0             1                  nyc, new york, usa\";NULL  <PAD>\n1             2                 stockton, california, usa     18\n2             3     moscow, yukon territory, russia\";NULL  <PAD>\n3             4                 porto, v.n.gaia, portugal     17\n4             5  farnborough, hants, united kingdom\";NULL  <PAD>\n...         ...                                       ...    ...\n278854   278854               portland, oregon, usa\";NULL  <PAD>\n278855   278855        tacoma, washington, united kingdom     50\n278856   278856           brampton, ontario, canada\";NULL  <PAD>\n278857   278857           knoxville, tennessee, usa\";NULL  <PAD>\n278858   278858                dublin, n/a, ireland\";NULL  <PAD>\n\n[278859 rows x 3 columns]>\n<bound method NDFrame.head of         \"User-ID         ISBN Book-Rating\"\n0         276725   034545104X            0\n1         276726   0155061224            5\n2         276727   0446520802            0\n3         276729   052165615X            3\n4         276729   0521795028            6\n...          ...          ...          ...\n1149775   276704   1563526298            9\n1149776   276706   0679447156            0\n1149777   276709   0515107662           10\n1149778   276721   0590442449           10\n1149779   276723  05162443314            8\n\n[1149780 rows x 3 columns]>\n<bound method NDFrame.head of             ISBN                                              Title  \\\n0      060973129                               Decision in Normandy   \n1      374157065  Flu: The Story of the Great Influenza Pandemic...   \n2      399135782                             The Kitchen God's Wife   \n3      425176428  What If?: The World's Foremost Military Histor...   \n4      881320189                      Goodbye to the Buttermilk Sky   \n...          ...                                                ...   \n57505  451458877                                      Tainted Trail   \n57506  399148736                                  Twelve Mile Limit   \n57507  399148841       The Man With the Red Tattoo (James Bond 007)   \n57508  553578979       Iron Fist (Star Wars: X-Wing Series, Book 6)   \n57509  345391101  The Adventures of Lando Calrissian: Lando Calr...   \n\n                  Author  Year                 Publisher  \\\n0           Carlo D'Este  1991           HarperPerennial   \n1       Gina Bari Kolata  1999      Farrar Straus Giroux   \n2                Amy Tan  1991          Putnam Pub Group   \n3          Robert Cowley  2000  Berkley Publishing Group   \n4           Julia Oliver  1994            River City Pub   \n...                  ...   ...                       ...   \n57505        Wen Spencer  2002                       Roc   \n57506  Randy Wayne White  2002            Penguin Putnam   \n57507     Raymond Benson  2002   Putnam Publishing Group   \n57508      Aaron Allston  1998                    Bantam   \n57509      L. Neil Smith  1994             Del Rey Books   \n\n                                                   Blurb  \n0      Here, for the first time in paperback, is an o...  \n1      The fascinating, true story of the world's dea...  \n2      Winnie and Helen have kept each others worst s...  \n3      Historians and inquisitive laymen alike love t...  \n4      This highly praised first novel by fiction wri...  \n...                                                  ...  \n57505  Ukiah Oregon, half-man and half-alien raised b...  \n57506  On a Friday in early November, four people hea...  \n57507  On a quiet late-night flight from Tokyo to Lon...  \n57508  They are the Rebel Alliance's ultimate strike ...  \n57509  For the price of one, you get three Lando Calr...  \n\n[57510 rows x 6 columns]>\n"
    }
   ],
   "source": [
    "DATA_DIR = './data/BX-CSV-Dump/'\n",
    "class DataLoad:\n",
    "    '''\n",
    "    books_with_blurbs.csv cloumns: ISBN,Title,Author,Year,Publisher,Blurb\n",
    "    BX-Book-Ratings.csv cloumns: User-ID,ISBN,Book-Rating\n",
    "    BX-Books.csv cloumns: ISBN,Book-Title,Book-Author,Year-Of-Publication,Publisher,Image-URL-S,Image-URL-M,Image-URL-L\n",
    "    BX-Users.csv cloumns: User-ID,Location,Age\n",
    "    '''\n",
    "    def __init__(self):\n",
    "        self.BX_Books = self.load_origin('BX-Books')\n",
    "        self.BX_Users = self.load_origin('BX-Users')\n",
    "        self.BX_Book_Ratings = self.load_origin('BX-Book-Ratings')\n",
    "        self.books_with_blurbs = self.load_origin('books_with_blurbs', ',')\n",
    "\n",
    "    def load_origin(self, \n",
    "        filename: \"根据文件名获取源文件，获取正确得columns、values等值\", \n",
    "        sep: \"因为源文件的分隔方式sep不同，所以通过传参改编分隔方式\"=\"\\\";\\\"\", \n",
    "        )->\"返回dataframe格式数据\":\n",
    "        try:\n",
    "            data = pd.read_csv(DATA_DIR+filename+'.csv', engine='python',sep=sep, encoding='utf-8')\n",
    "            def Dquote_filter(f_data):\n",
    "                '''\n",
    "                源文件中的columns和各个值得第一列的第一个字符和最后一列的最后一个字符都带有双引号‘\"’,需要将其filter\n",
    "                数据中值为NULL，我们将其替换成'<PAD>'\n",
    "                '''\n",
    "                f_data.rename(columns={f_data.columns[0]:f_data.columns[0][1:], f_data.columns[-1]:f_data.columns[-1][:-1]})\n",
    "                f_data[f_data.columns[0]] = f_data[f_data.columns[0]].map(lambda v:v[1:] if v!=None else '<PAD>')\n",
    "                f_data[f_data.columns[-1]] = f_data[f_data.columns[-1]].map(lambda v:v[:-1] if v!=None else '<PAD>')\n",
    "                return f_data\n",
    "            data_dict = {\"\\\";\\\"\":Dquote_filter(data), ',':data}\n",
    "            print(data_dict[sep].head)\n",
    "            return data_dict[sep]\n",
    "        except UnicodeDecodeError as e:\n",
    "            print('UnicodeDecodeError:',e)\n",
    "origin_DATA = DataLoad()"
   ]
  },
  {
   "cell_type": "code",
   "execution_count": null,
   "metadata": {},
   "outputs": [],
   "source": []
  }
 ]
}