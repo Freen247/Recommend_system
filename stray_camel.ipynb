{
 "cells": [
  {
   "cell_type": "code",
   "execution_count": 1,
   "metadata": {},
   "outputs": [
    {
     "name": "stdout",
     "output_type": "stream",
     "text": [
      "sys.version_info(major=3, minor=6, micro=7, releaselevel='final', serial=0)\n",
      "tensorflow 2.1.0\n",
      "matplotlib 3.2.0\n",
      "numpy 1.18.1\n",
      "pandas 1.0.1\n",
      "sklearn 0.22.2.post1\n",
      "tensorflow 2.1.0\n",
      "tensorflow_core.python.keras.api._v2.keras 2.2.4-tf\n"
     ]
    }
   ],
   "source": [
    "import os, sys, re, pickle\n",
    "import matplotlib as mpl\n",
    "import matplotlib.pyplot as plt\n",
    "import numpy as np\n",
    "import sklearn\n",
    "import pandas as pd\n",
    "import tensorflow as tf\n",
    "from tensorflow import keras\n",
    "print(sys.version_info)\n",
    "for module in tf, mpl, np, pd, sklearn, tf, keras:\n",
    "    print(module.__name__, module.__version__)"
   ]
  },
  {
   "cell_type": "code",
   "execution_count": 18,
   "metadata": {},
   "outputs": [],
   "source": [
    "ORIGIN_DATA_DIR = os.getcwd()+'/all_fearures/BX-CSV-Dump/'\n",
    "FILTERED_DATA_DIR = os.getcwd()+'/tmp/'\n",
    "class DataLoad:\n",
    "    def __init__(self):\n",
    "        '''\n",
    "        books_with_blurbs.csv cloumns: ISBN,text,Author,Year,Publisher,Blurb\n",
    "        BX-Book-Ratings.csv cloumns: User-ID,ISBN,Book-Rating\n",
    "        BX-Books.csv cloumns: ISBN,Book-text,Book-Author,Year-Of-Publication,Publisher,Image-URL-S,Image-URL-M,Image-URL-L\n",
    "        BX-Users.csv cloumns: User-ID,Location,Age\n",
    "        '''\n",
    "        self.BX_Users = self.load_origin('BX-Users')\n",
    "        self.BX_Book_Ratings = self.load_origin('BX-Book-Ratings')\n",
    "        self.books_with_blurbs = self.load_origin('books_with_blurbs', ',')\n",
    "        #合并三个表\n",
    "        self.features = self.get_features()\n",
    "        self.labels = self.features.pop('Book-Rating')\n",
    "    def load_origin(self, \n",
    "        filename: \"根据文件名获取源文件，获取正确得columns、values等值\", \n",
    "        sep: \"因为源文件的分隔方式sep不同，所以通过传参改编分隔方式\"=\"\\\";\\\"\", \n",
    "        )->pd.DataFrame:\n",
    "        '''\n",
    "        获取原始数据，第一遍获取后将用pickle保存到本地，方便日后调用\n",
    "        '''\n",
    "        try:\n",
    "            # 从缓存的文件夹FILTERED_DATA_DIR获取基本被过滤后的文件\n",
    "            pickled_data = pickle.load(open(FILTERED_DATA_DIR+filename+'.p', mode='rb'))\n",
    "            return pickled_data\n",
    "        except FileNotFoundError:\n",
    "            # 如果缓存的文件不存在或者没有，则在源目录ORIGIN_DATA_DIR获取\n",
    "            all_fearures = pd.read_csv(ORIGIN_DATA_DIR+filename+'.csv', engine='python',sep=sep, encoding='utf-8')\n",
    "            # \\\";\\\"  初始过滤的文件\n",
    "            # ,      初始不需要过滤的文件\n",
    "            data_dict = {\"\\\";\\\"\":self.filtrator(all_fearures), ',':all_fearures}\n",
    "            # 因为没获得处理后的文件，所以我们在获取源文件后可以保存一下处理后的文件\n",
    "            pickle.dump((data_dict[sep]), open(FILTERED_DATA_DIR+filename+'.p', 'wb'))\n",
    "            return data_dict[sep]\n",
    "        except UnicodeDecodeError as e:\n",
    "            ''' 测试时经常会出现编码错误，如果尝试更换编码方式无效，可以将编码错误的部分位置重新复制粘贴就可以了，这里我们都默认UTF-8'''\n",
    "            print('UnicodeDecodeError:',e)\n",
    "        except pd.errors.ParserError as e:\n",
    "            print(\"connect error|pandas Error: %s\" % e)\n",
    "\n",
    "    def filtrator(self, \n",
    "        f_data: \"输入需要进行初步filter的数据\"\n",
    "        )->pd.DataFrame:\n",
    "        '''\n",
    "        源文件中的columns和各个值得第一列的第一个字符和最后一列的最后一个字符都带有双引号‘\"’,需要将其filter,Location字段当用户Age为null的时候，末尾会有\\\";NULL字符串 ，直接用切片调整\n",
    "        '''\n",
    "        Nonetype_age = 0\n",
    "        f_data = f_data.rename(columns={f_data.columns[0]:f_data.columns[0][1:], f_data.columns[-1]:f_data.columns[-1][:-1]})\n",
    "        f_data[f_data.columns[0]] = f_data[f_data.columns[0]].map(lambda v:v[1:] if v!=None else Nonetype_age)\n",
    "        f_data[f_data.columns[-1]] = f_data[f_data.columns[-1]].map(lambda v:v[:-1] if v!=None else Nonetype_age)\n",
    "        try:\n",
    "            f_data = f_data[f_data['Location'].notnull()][f_data[f_data['Location'].notnull()]['Location'].str.contains('\\\";NULL')]\n",
    "            f_data['Location'] = f_data['Location'].map(lambda location:location[:-6])\n",
    "        except:\n",
    "            pass\n",
    "        return f_data\n",
    "\n",
    "    def get_features(self):\n",
    "        '''\n",
    "        获取整个数据集的所有features，并对每个文本字段作xxxxx\n",
    "        User-ID\n",
    "        Location\n",
    "        ISBN\n",
    "        Book-Rating\n",
    "        Title\n",
    "        Author\n",
    "        Year\n",
    "        Publisher\n",
    "        Blurb\n",
    "        '''\n",
    "        try:\n",
    "            # 从缓存的文件夹FILTERED_DATA_DIR获取features的文件\n",
    "            pickled_data = pickle.load(open(FILTERED_DATA_DIR+'features.p', mode='rb'))\n",
    "            return pickled_data\n",
    "        except FileNotFoundError:\n",
    "            # 将所有的数据组成features大表\n",
    "            all_fearures = pd.merge(pd.merge(self.BX_Users, self.BX_Book_Ratings), self.books_with_blurbs)\n",
    "            # 因为没获得处理后的文件，所以我们在获取源文件后可以保存一下处理后的文件\n",
    "            all_fearures.pop('Age')\n",
    "            all_fearures['Title'] = self.feature2int(all_fearures['Title'], 'text')\n",
    "            all_fearures['Blurb'] = self.feature2int(all_fearures['Blurb'], 'text')\n",
    "            all_fearures['ISBN'] = self.feature2int(all_fearures['ISBN'], 'word')\n",
    "            all_fearures['Author'] = self.feature2int(all_fearures['Author'], 'word')\n",
    "            all_fearures['Publisher'] = self.feature2int(all_fearures['Publisher'], 'word')\n",
    "            all_fearures['Year'] = self.feature2int(all_fearures['Year'], 'word')\n",
    "            all_fearures['User-ID'] = self.feature2int(all_fearures['User-ID'], 'word')\n",
    "            all_fearures['Location'] = self.feature2int(all_fearures['Location'], 'list')\n",
    "            all_fearures['Book-Rating'] = all_fearures['Book-Rating'].astype('float32')\n",
    "#             pickle.dump(all_fearures, open(FILTERED_DATA_DIR+'features.p', 'wb'))\n",
    "            return all_fearures\n",
    "\n",
    "    def feature2int(self, \n",
    "        feature:'特征值',\n",
    "        feature_type:'text/word/list'):\n",
    "        '''\n",
    "        将文本字段比如title、blurb只取英文单词，并用空格为分隔符，做成一个带index值的集合，并用index值表示各个单词，作为文本得表示\n",
    "        '''\n",
    "        pattern = re.compile(r'[^a-zA-Z]')\n",
    "        filtered_map = {val:re.sub(pattern, ' ', str(val)) for ii,val in enumerate(set(feature)) }\n",
    "        letter_filter = lambda feature:feature.map({val:re.sub(pattern, ' ', str(val)) for ii,val in enumerate(set(feature)) })\n",
    "        text_words = set()\n",
    "        filtered_feature = letter_filter(feature)\n",
    "        for val in filtered_feature.str.split():\n",
    "            text_words.update(val)\n",
    "        text2int = {val:ii for ii, val in enumerate(text_words)}\n",
    "        text_map = {val:[text2int[row] for row in filtered_map[val].split()][:200] for ii,val in enumerate(set(feature))}\n",
    "        \n",
    "        word_map = {val:ii for ii,val in enumerate(set(feature))}\n",
    "        try:\n",
    "            cities = set()\n",
    "            for val in feature.str.split(','):\n",
    "                cities.update(val)\n",
    "            city_index = {val:ii for ii, val in enumerate(cities)}\n",
    "            list_map = {val:[city_index[row] for row in val.split(',')][:3] for ii,val in enumerate(set(feature))}\n",
    "        except AttributeError :\n",
    "            list_map = {}\n",
    "\n",
    "        feature_dict = {\n",
    "            'text':feature.map(text_map),\n",
    "            'word':feature.map(word_map),\n",
    "            'list':feature.map(list_map),\n",
    "            }\n",
    "        return feature_dict[feature_type]\n",
    "\n",
    "    def __del__(self):\n",
    "        pass\n",
    "\n",
    "origin_DATA = DataLoad()"
   ]
  },
  {
   "cell_type": "code",
   "execution_count": 19,
   "metadata": {},
   "outputs": [
    {
     "data": {
      "text/html": [
       "<div>\n",
       "<style scoped>\n",
       "    .dataframe tbody tr th:only-of-type {\n",
       "        vertical-align: middle;\n",
       "    }\n",
       "\n",
       "    .dataframe tbody tr th {\n",
       "        vertical-align: top;\n",
       "    }\n",
       "\n",
       "    .dataframe thead th {\n",
       "        text-align: right;\n",
       "    }\n",
       "</style>\n",
       "<table border=\"1\" class=\"dataframe\">\n",
       "  <thead>\n",
       "    <tr style=\"text-align: right;\">\n",
       "      <th></th>\n",
       "      <th>User-ID</th>\n",
       "      <th>Location</th>\n",
       "      <th>ISBN</th>\n",
       "      <th>Title</th>\n",
       "      <th>Author</th>\n",
       "      <th>Year</th>\n",
       "      <th>Publisher</th>\n",
       "      <th>Blurb</th>\n",
       "    </tr>\n",
       "  </thead>\n",
       "  <tbody>\n",
       "    <tr>\n",
       "      <th>0</th>\n",
       "      <td>940</td>\n",
       "      <td>[1401, 3424, 2903]</td>\n",
       "      <td>16778</td>\n",
       "      <td>[9824, 23412, 22339, 1487, 1487, 1487, 1487, 1...</td>\n",
       "      <td>11446</td>\n",
       "      <td>63</td>\n",
       "      <td>1887</td>\n",
       "      <td>[43238, 127172, 28249, 110191, 61356, 126135, ...</td>\n",
       "    </tr>\n",
       "    <tr>\n",
       "      <th>1</th>\n",
       "      <td>940</td>\n",
       "      <td>[1401, 3424, 2903]</td>\n",
       "      <td>24957</td>\n",
       "      <td>[16299, 21557, 19070, 21476, 10543, 22335, 189...</td>\n",
       "      <td>7382</td>\n",
       "      <td>71</td>\n",
       "      <td>1103</td>\n",
       "      <td>[57585, 125932, 47159, 113373, 57374, 28249, 6...</td>\n",
       "    </tr>\n",
       "    <tr>\n",
       "      <th>2</th>\n",
       "      <td>5414</td>\n",
       "      <td>[5603, 3840, 2903]</td>\n",
       "      <td>24957</td>\n",
       "      <td>[16299, 21557, 19070, 21476, 10543, 22335, 189...</td>\n",
       "      <td>7382</td>\n",
       "      <td>71</td>\n",
       "      <td>1103</td>\n",
       "      <td>[57585, 125932, 47159, 113373, 57374, 28249, 6...</td>\n",
       "    </tr>\n",
       "    <tr>\n",
       "      <th>3</th>\n",
       "      <td>15427</td>\n",
       "      <td>[6321, 1194, 5296]</td>\n",
       "      <td>24957</td>\n",
       "      <td>[16299, 21557, 19070, 21476, 10543, 22335, 189...</td>\n",
       "      <td>7382</td>\n",
       "      <td>71</td>\n",
       "      <td>1103</td>\n",
       "      <td>[57585, 125932, 47159, 113373, 57374, 28249, 6...</td>\n",
       "    </tr>\n",
       "    <tr>\n",
       "      <th>4</th>\n",
       "      <td>7287</td>\n",
       "      <td>[3405, 2889, 5296]</td>\n",
       "      <td>24957</td>\n",
       "      <td>[16299, 21557, 19070, 21476, 10543, 22335, 189...</td>\n",
       "      <td>7382</td>\n",
       "      <td>71</td>\n",
       "      <td>1103</td>\n",
       "      <td>[57585, 125932, 47159, 113373, 57374, 28249, 6...</td>\n",
       "    </tr>\n",
       "    <tr>\n",
       "      <th>...</th>\n",
       "      <td>...</td>\n",
       "      <td>...</td>\n",
       "      <td>...</td>\n",
       "      <td>...</td>\n",
       "      <td>...</td>\n",
       "      <td>...</td>\n",
       "      <td>...</td>\n",
       "      <td>...</td>\n",
       "    </tr>\n",
       "    <tr>\n",
       "      <th>172097</th>\n",
       "      <td>1491</td>\n",
       "      <td>[370, 968, 5296]</td>\n",
       "      <td>32297</td>\n",
       "      <td>[5119, 19964, 800, 10977, 8008, 8931, 10977, 8...</td>\n",
       "      <td>13128</td>\n",
       "      <td>70</td>\n",
       "      <td>2026</td>\n",
       "      <td>[93007, 21371, 53000, 28249, 48632, 123469, 39...</td>\n",
       "    </tr>\n",
       "    <tr>\n",
       "      <th>172098</th>\n",
       "      <td>7079</td>\n",
       "      <td>[3244, 4575, 5296]</td>\n",
       "      <td>30438</td>\n",
       "      <td>[20477, 19074, 5739, 14968, 800, 7132, 7507, 8...</td>\n",
       "      <td>11098</td>\n",
       "      <td>75</td>\n",
       "      <td>145</td>\n",
       "      <td>[67310, 52923, 29464, 19034, 20042, 53000, 396...</td>\n",
       "    </tr>\n",
       "    <tr>\n",
       "      <th>172099</th>\n",
       "      <td>7079</td>\n",
       "      <td>[3244, 4575, 5296]</td>\n",
       "      <td>33460</td>\n",
       "      <td>[22507, 12423, 1487, 1487, 1487, 1487, 1487, 1...</td>\n",
       "      <td>3385</td>\n",
       "      <td>75</td>\n",
       "      <td>2480</td>\n",
       "      <td>[75823, 21876, 89381, 53000, 8113, 85559, 1528...</td>\n",
       "    </tr>\n",
       "    <tr>\n",
       "      <th>172100</th>\n",
       "      <td>7079</td>\n",
       "      <td>[3244, 4575, 5296]</td>\n",
       "      <td>16729</td>\n",
       "      <td>[18460, 17985, 19551, 6077, 1487, 1487, 1487, ...</td>\n",
       "      <td>13280</td>\n",
       "      <td>76</td>\n",
       "      <td>2461</td>\n",
       "      <td>[42242, 6474, 30684, 2161, 15285, 68522, 36348...</td>\n",
       "    </tr>\n",
       "    <tr>\n",
       "      <th>172101</th>\n",
       "      <td>16994</td>\n",
       "      <td>[1083, 889, 2238]</td>\n",
       "      <td>34058</td>\n",
       "      <td>[10798, 8631, 18957, 1487, 1487, 1487, 1487, 1...</td>\n",
       "      <td>1821</td>\n",
       "      <td>72</td>\n",
       "      <td>2665</td>\n",
       "      <td>[72405, 121823, 54279, 123628, 45522, 35289, 9...</td>\n",
       "    </tr>\n",
       "  </tbody>\n",
       "</table>\n",
       "<p>172102 rows × 8 columns</p>\n",
       "</div>"
      ],
      "text/plain": [
       "        User-ID            Location   ISBN  \\\n",
       "0           940  [1401, 3424, 2903]  16778   \n",
       "1           940  [1401, 3424, 2903]  24957   \n",
       "2          5414  [5603, 3840, 2903]  24957   \n",
       "3         15427  [6321, 1194, 5296]  24957   \n",
       "4          7287  [3405, 2889, 5296]  24957   \n",
       "...         ...                 ...    ...   \n",
       "172097     1491    [370, 968, 5296]  32297   \n",
       "172098     7079  [3244, 4575, 5296]  30438   \n",
       "172099     7079  [3244, 4575, 5296]  33460   \n",
       "172100     7079  [3244, 4575, 5296]  16729   \n",
       "172101    16994   [1083, 889, 2238]  34058   \n",
       "\n",
       "                                                    Title  Author  Year  \\\n",
       "0       [9824, 23412, 22339, 1487, 1487, 1487, 1487, 1...   11446    63   \n",
       "1       [16299, 21557, 19070, 21476, 10543, 22335, 189...    7382    71   \n",
       "2       [16299, 21557, 19070, 21476, 10543, 22335, 189...    7382    71   \n",
       "3       [16299, 21557, 19070, 21476, 10543, 22335, 189...    7382    71   \n",
       "4       [16299, 21557, 19070, 21476, 10543, 22335, 189...    7382    71   \n",
       "...                                                   ...     ...   ...   \n",
       "172097  [5119, 19964, 800, 10977, 8008, 8931, 10977, 8...   13128    70   \n",
       "172098  [20477, 19074, 5739, 14968, 800, 7132, 7507, 8...   11098    75   \n",
       "172099  [22507, 12423, 1487, 1487, 1487, 1487, 1487, 1...    3385    75   \n",
       "172100  [18460, 17985, 19551, 6077, 1487, 1487, 1487, ...   13280    76   \n",
       "172101  [10798, 8631, 18957, 1487, 1487, 1487, 1487, 1...    1821    72   \n",
       "\n",
       "        Publisher                                              Blurb  \n",
       "0            1887  [43238, 127172, 28249, 110191, 61356, 126135, ...  \n",
       "1            1103  [57585, 125932, 47159, 113373, 57374, 28249, 6...  \n",
       "2            1103  [57585, 125932, 47159, 113373, 57374, 28249, 6...  \n",
       "3            1103  [57585, 125932, 47159, 113373, 57374, 28249, 6...  \n",
       "4            1103  [57585, 125932, 47159, 113373, 57374, 28249, 6...  \n",
       "...           ...                                                ...  \n",
       "172097       2026  [93007, 21371, 53000, 28249, 48632, 123469, 39...  \n",
       "172098        145  [67310, 52923, 29464, 19034, 20042, 53000, 396...  \n",
       "172099       2480  [75823, 21876, 89381, 53000, 8113, 85559, 1528...  \n",
       "172100       2461  [42242, 6474, 30684, 2161, 15285, 68522, 36348...  \n",
       "172101       2665  [72405, 121823, 54279, 123628, 45522, 35289, 9...  \n",
       "\n",
       "[172102 rows x 8 columns]"
      ]
     },
     "execution_count": 19,
     "metadata": {},
     "output_type": "execute_result"
    }
   ],
   "source": [
    "origin_DATA.features"
   ]
  },
  {
   "cell_type": "code",
   "execution_count": 20,
   "metadata": {},
   "outputs": [
    {
     "data": {
      "text/plain": [
       "0         0.0\n",
       "1         0.0\n",
       "2         0.0\n",
       "3         6.0\n",
       "4         0.0\n",
       "         ... \n",
       "172097    8.0\n",
       "172098    0.0\n",
       "172099    0.0\n",
       "172100    6.0\n",
       "172101    7.0\n",
       "Name: Book-Rating, Length: 172102, dtype: float32"
      ]
     },
     "execution_count": 20,
     "metadata": {},
     "output_type": "execute_result"
    }
   ],
   "source": [
    "origin_DATA.labels"
   ]
  },
  {
   "cell_type": "code",
   "execution_count": 24,
   "metadata": {
    "scrolled": true
   },
   "outputs": [
    {
     "data": {
      "text/plain": [
       "User-ID       int64\n",
       "Location     object\n",
       "ISBN          int64\n",
       "Title        object\n",
       "Author        int64\n",
       "Year          int64\n",
       "Publisher     int64\n",
       "Blurb        object\n",
       "dtype: object"
      ]
     },
     "execution_count": 24,
     "metadata": {},
     "output_type": "execute_result"
    }
   ],
   "source": [
    "origin_DATA.features.dtypes"
   ]
  },
  {
   "cell_type": "code",
   "execution_count": 25,
   "metadata": {},
   "outputs": [],
   "source": [
    "def distribution_analysis(data):\n",
    "    sections = data.value_counts()\n",
    "    '''\n",
    "    绘制折线图，表示数据的频率分布\n",
    "    '''\n",
    "    sections = sections.sort_index()\n",
    "    print('源数据频率分布\\n', sections)\n",
    "    return sections"
   ]
  },
  {
   "cell_type": "code",
   "execution_count": 26,
   "metadata": {},
   "outputs": [
    {
     "name": "stdout",
     "output_type": "stream",
     "text": [
      "源数据频率分布\n",
      " 0.0     94342\n",
      "1.0       361\n",
      "2.0       534\n",
      "3.0      1173\n",
      "4.0      1669\n",
      "5.0     10423\n",
      "6.0      6983\n",
      "7.0     14504\n",
      "8.0     19309\n",
      "9.0     11408\n",
      "10.0    11396\n",
      "Name: Book-Rating, dtype: int64\n"
     ]
    },
    {
     "data": {
      "text/plain": [
       "<matplotlib.axes._subplots.AxesSubplot at 0x1a09ac4e128>"
      ]
     },
     "execution_count": 26,
     "metadata": {},
     "output_type": "execute_result"
    },
    {
     "data": {
      "image/png": "[encoded data removed]",
      "text/plain": [
       "<Figure size 432x288 with 1 Axes>"
      ]
     },
     "metadata": {
      "needs_background": "light"
     },
     "output_type": "display_data"
    }
   ],
   "source": [
    "distribution_analysis(origin_DATA.labels).plot(y='Book-Rating', legend='Book-Rating')"
   ]
  },
  {
   "cell_type": "code",
   "execution_count": 27,
   "metadata": {},
   "outputs": [
    {
     "name": "stdout",
     "output_type": "stream",
     "text": [
      "源数据频率分布\n",
      " 0         1\n",
      "1         1\n",
      "2         1\n",
      "3        13\n",
      "4        18\n",
      "         ..\n",
      "28831     1\n",
      "28832     2\n",
      "28833     1\n",
      "28834     1\n",
      "28835     1\n",
      "Name: User-ID, Length: 28836, dtype: int64\n"
     ]
    },
    {
     "data": {
      "text/plain": [
       "<matplotlib.axes._subplots.AxesSubplot at 0x1a0c780f0b8>"
      ]
     },
     "execution_count": 27,
     "metadata": {},
     "output_type": "execute_result"
    },
    {
     "data": {
      "image/png": "[encoded data removed]",
      "text/plain": [
       "<Figure size 432x288 with 1 Axes>"
      ]
     },
     "metadata": {
      "needs_background": "light"
     },
     "output_type": "display_data"
    }
   ],
   "source": [
    "distribution_analysis(origin_DATA.features['User-ID']).plot(legend='User-ID')"
   ]
  },
  {
   "cell_type": "code",
   "execution_count": 28,
   "metadata": {},
   "outputs": [
    {
     "name": "stdout",
     "output_type": "stream",
     "text": [
      "源数据频率分布\n",
      " 0     1654\n",
      "1        8\n",
      "2        1\n",
      "3        3\n",
      "4        3\n",
      "      ... \n",
      "76    3321\n",
      "77      10\n",
      "78      10\n",
      "79       1\n",
      "80       5\n",
      "Name: Year, Length: 81, dtype: int64\n"
     ]
    },
    {
     "data": {
      "text/plain": [
       "<matplotlib.axes._subplots.AxesSubplot at 0x1a0c781d710>"
      ]
     },
     "execution_count": 28,
     "metadata": {},
     "output_type": "execute_result"
    },
    {
     "data": {
      "image/png": "[encoded data removed]",
      "text/plain": [
       "<Figure size 432x288 with 1 Axes>"
      ]
     },
     "metadata": {
      "needs_background": "light"
     },
     "output_type": "display_data"
    }
   ],
   "source": [
    "distribution_analysis(origin_DATA.features['Year']).plot(legend='Book-year')"
   ]
  },
  {
   "cell_type": "code",
   "execution_count": null,
   "metadata": {},
   "outputs": [],
   "source": []
  }
 ],
 "metadata": {
  "kernelspec": {
   "display_name": "Python 3.6.7 64-bit ('rec_env': virtualenv)",
   "language": "python",
   "name": "python36764bitrecenvvirtualenvc590a763a4564b6f98e8e2c90348aa96"
  },
  "language_info": {
   "codemirror_mode": {
    "name": "ipython",
    "version": 3
   },
   "file_extension": ".py",
   "mimetype": "text/x-python",
   "name": "python",
   "nbconvert_exporter": "python",
   "pygments_lexer": "ipython3",
   "version": "3.6.7"
  }
 },
 "nbformat": 4,
 "nbformat_minor": 4
}
