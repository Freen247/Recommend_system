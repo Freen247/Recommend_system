{
 "nbformat": 4,
 "nbformat_minor": 2,
 "metadata": {
  "language_info": {
   "name": "python",
   "codemirror_mode": {
    "name": "ipython",
    "version": 3
   },
   "version": "3.6.7-final"
  },
  "orig_nbformat": 2,
  "file_extension": ".py",
  "mimetype": "text/x-python",
  "name": "python",
  "npconvert_exporter": "python",
  "pygments_lexer": "ipython3",
  "version": 3,
  "kernelspec": {
   "name": "python3",
   "display_name": "Python 3"
  }
 },
 "cells": [
  {
   "cell_type": "code",
   "execution_count": 2,
   "metadata": {},
   "outputs": [],
   "source": [
    "import Prepro_data\n",
    "import numpy as np\n",
    "import pandas as pd"
   ]
  },
  {
   "cell_type": "code",
   "execution_count": 3,
   "metadata": {},
   "outputs": [
    {
     "output_type": "execute_result",
     "data": {
      "text/plain": "   User-ID            Location   ISBN  \\\n0     2918  [1242, 7251, 5372]  32719   \n1     2918  [1242, 7251, 5372]  23709   \n2    24974  [4759, 1444, 5372]  23709   \n3    18233    [7245, 30, 1600]  23709   \n4      240  [4723, 6498, 1600]  23709   \n\n                                               Title  Author  Year  Publisher  \\\n0  [18416, 3305, 2794, 2794, 2794, 2794, 2794, 27...   13704    63       2346   \n1  [5042, 20096, 12301, 3565, 6702, 20408, 4956, ...    6881    71       2064   \n2  [5042, 20096, 12301, 3565, 6702, 20408, 4956, ...    6881    71       2064   \n3  [5042, 20096, 12301, 3565, 6702, 20408, 4956, ...    6881    71       2064   \n4  [5042, 20096, 12301, 3565, 6702, 20408, 4956, ...    6881    71       2064   \n\n                                               Blurb  \n0  [16743, 70936, 91023, 94647, 30725, 94201, 110...  \n1  [26888, 9440, 6976, 72713, 117446, 20931, 2329...  \n2  [26888, 9440, 6976, 72713, 117446, 20931, 2329...  \n3  [26888, 9440, 6976, 72713, 117446, 20931, 2329...  \n4  [26888, 9440, 6976, 72713, 117446, 20931, 2329...  ",
      "text/html": "<div>\n<style scoped>\n    .dataframe tbody tr th:only-of-type {\n        vertical-align: middle;\n    }\n\n    .dataframe tbody tr th {\n        vertical-align: top;\n    }\n\n    .dataframe thead th {\n        text-align: right;\n    }\n</style>\n<table border=\"1\" class=\"dataframe\">\n  <thead>\n    <tr style=\"text-align: right;\">\n      <th></th>\n      <th>User-ID</th>\n      <th>Location</th>\n      <th>ISBN</th>\n      <th>Title</th>\n      <th>Author</th>\n      <th>Year</th>\n      <th>Publisher</th>\n      <th>Blurb</th>\n    </tr>\n  </thead>\n  <tbody>\n    <tr>\n      <th>0</th>\n      <td>2918</td>\n      <td>[1242, 7251, 5372]</td>\n      <td>32719</td>\n      <td>[18416, 3305, 2794, 2794, 2794, 2794, 2794, 27...</td>\n      <td>13704</td>\n      <td>63</td>\n      <td>2346</td>\n      <td>[16743, 70936, 91023, 94647, 30725, 94201, 110...</td>\n    </tr>\n    <tr>\n      <th>1</th>\n      <td>2918</td>\n      <td>[1242, 7251, 5372]</td>\n      <td>23709</td>\n      <td>[5042, 20096, 12301, 3565, 6702, 20408, 4956, ...</td>\n      <td>6881</td>\n      <td>71</td>\n      <td>2064</td>\n      <td>[26888, 9440, 6976, 72713, 117446, 20931, 2329...</td>\n    </tr>\n    <tr>\n      <th>2</th>\n      <td>24974</td>\n      <td>[4759, 1444, 5372]</td>\n      <td>23709</td>\n      <td>[5042, 20096, 12301, 3565, 6702, 20408, 4956, ...</td>\n      <td>6881</td>\n      <td>71</td>\n      <td>2064</td>\n      <td>[26888, 9440, 6976, 72713, 117446, 20931, 2329...</td>\n    </tr>\n    <tr>\n      <th>3</th>\n      <td>18233</td>\n      <td>[7245, 30, 1600]</td>\n      <td>23709</td>\n      <td>[5042, 20096, 12301, 3565, 6702, 20408, 4956, ...</td>\n      <td>6881</td>\n      <td>71</td>\n      <td>2064</td>\n      <td>[26888, 9440, 6976, 72713, 117446, 20931, 2329...</td>\n    </tr>\n    <tr>\n      <th>4</th>\n      <td>240</td>\n      <td>[4723, 6498, 1600]</td>\n      <td>23709</td>\n      <td>[5042, 20096, 12301, 3565, 6702, 20408, 4956, ...</td>\n      <td>6881</td>\n      <td>71</td>\n      <td>2064</td>\n      <td>[26888, 9440, 6976, 72713, 117446, 20931, 2329...</td>\n    </tr>\n  </tbody>\n</table>\n</div>"
     },
     "metadata": {},
     "execution_count": 3
    }
   ],
   "source": [
    "origin_DATA = Prepro_data.DataLoad()\n",
    "origin_DATA.features.head()"
   ]
  },
  {
   "cell_type": "code",
   "execution_count": 4,
   "metadata": {},
   "outputs": [
    {
     "output_type": "execute_result",
     "data": {
      "text/plain": "0         [Here, first, time, paperback, outstanding, mi...\n1         [The, fascinating, true, story, world, deadlie...\n2         [The, fascinating, true, story, world, deadlie...\n3         [The, fascinating, true, story, world, deadlie...\n4         [The, fascinating, true, story, world, deadlie...\n                                ...                        \n172097    [Tory, Bauer, quintessential, diner, waitress,...\n172098    [Faberville, bookstore, owner, Claire, Malloy,...\n172099    [Eric, Jerome, Dickey, back, sexy, fast, paced...\n172100    [Lieutenant, Horatio, Caine, leads, crack, tea...\n172101    [C, est, au, travers, de, leur, correspondance...\nName: Blurb, Length: 172102, dtype: object"
     },
     "metadata": {},
     "execution_count": 4
    }
   ],
   "source": [
    "origin_DATA.blurb2vect"
   ]
  },
  {
   "cell_type": "code",
   "execution_count": 5,
   "metadata": {},
   "outputs": [
    {
     "output_type": "stream",
     "name": "stdout",
     "text": "all user id =  28836\nall location =  7574\n"
    }
   ],
   "source": [
    "# user-id的字典,总共有28836个用户\n",
    "all_user = len(set(origin_DATA.features['User-ID']))\n",
    "new_user_id = {val: i for i, val in enumerate(set(origin_DATA.features['User-ID']))}\n",
    "print('all user id = ', all_user)\n",
    "# location的数量=7573(从0开始的)\n",
    "all_location = max([j for i in origin_DATA.features.Location for j in i]) +1 \n",
    "print('all location = ', all_location)"
   ]
  },
  {
   "cell_type": "code",
   "execution_count": 6,
   "metadata": {},
   "outputs": [
    {
     "output_type": "stream",
     "name": "stdout",
     "text": "all isbn =  38036\nall author =  15196\nall year =  81\nall publisher =  2909\nall title words =  23731\nall blurb words =  127035\n"
    }
   ],
   "source": [
    "# ISBN总数\n",
    "all_isbn = len(set(origin_DATA.features['ISBN']))\n",
    "print('all isbn = ', all_isbn)\n",
    "# author总数\n",
    "all_author = len(set(origin_DATA.features['Author']))\n",
    "print('all author = ', all_author)\n",
    "# year总数\n",
    "all_year = len(set(origin_DATA.features['Year']))\n",
    "print('all year = ', all_year)\n",
    "# publish总数\n",
    "all_publisher = len(set(origin_DATA.features['Publisher']))\n",
    "print('all publisher = ', all_publisher)\n",
    "# title中所有单词总数\n",
    "all_title_words = max([j for i in origin_DATA.features.Title for j in i]) +1 \n",
    "print('all title words = ', all_title_words)\n",
    "# blurb中所有单词总数\n",
    "all_blurb_words = max([j for i in origin_DATA.features.Blurb for j in i]) +1 \n",
    "print('all blurb words = ', all_blurb_words)"
   ]
  },
  {
   "cell_type": "code",
   "execution_count": 8,
   "metadata": {},
   "outputs": [
    {
     "output_type": "execute_result",
     "data": {
      "text/plain": "200.0"
     },
     "metadata": {},
     "execution_count": 8
    }
   ],
   "source": [
    "length  = [len(i) for i in origin_DATA.features['Blurb']]\n",
    "np.mean(np.array(length))"
   ]
  },
  {
   "cell_type": "code",
   "execution_count": null,
   "metadata": {},
   "outputs": [],
   "source": []
  }
 ]
}