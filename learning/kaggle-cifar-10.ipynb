{
 "nbformat": 4,
 "nbformat_minor": 2,
 "metadata": {
  "language_info": {
   "name": "python",
   "codemirror_mode": {
    "name": "ipython",
    "version": 3
   },
   "version": "3.6.7-final"
  },
  "orig_nbformat": 2,
  "file_extension": ".py",
  "mimetype": "text/x-python",
  "name": "python",
  "npconvert_exporter": "python",
  "pygments_lexer": "ipython3",
  "version": 3,
  "kernelspec": {
   "name": "python36764bitrecenvvirtualenvc590a763a4564b6f98e8e2c90348aa96",
   "display_name": "Python 3.6.7 64-bit ('rec_env': virtualenv)"
  }
 },
 "cells": [
  {
   "cell_type": "code",
   "execution_count": 2,
   "metadata": {},
   "outputs": [
    {
     "name": "stdout",
     "output_type": "stream",
     "text": "sys.version_info(major=3, minor=6, micro=7, releaselevel='final', serial=0)\ntensorflow 2.1.0\nmatplotlib 3.2.0\nnumpy 1.18.1\npandas 1.0.1\nsklearn 0.22.2.post1\ntensorflow 2.1.0\ntensorflow_core.python.keras.api._v2.keras 2.2.4-tf\n"
    }
   ],
   "source": [
    "\n",
    "import matplotlib as mpl\n",
    "import matplotlib.pyplot as plt\n",
    "import numpy as np\n",
    "import sklearn\n",
    "import pandas as pd\n",
    "import tensorflow as tf\n",
    "\n",
    "from tensorflow import keras\n",
    "import os, sys, time \n",
    "\n",
    "\n",
    "print(sys.version_info)\n",
    "for module in tf, mpl, np, pd, sklearn, tf, keras:\n",
    "    print(module.__name__, module.__version__)\n",
    "\n"
   ]
  },
  {
   "cell_type": "code",
   "execution_count": 13,
   "metadata": {},
   "outputs": [
    {
     "name": "stdout",
     "output_type": "stream",
     "text": "[('../cifar-10/train\\\\1.png', 'frog'), ('../cifar-10/train\\\\2.png', 'truck'), ('../cifar-10/train\\\\3.png', 'truck'), ('../cifar-10/train\\\\4.png', 'deer'), ('../cifar-10/train\\\\5.png', 'automobile')] \n\n[('../cifar-10/test\\\\1.png', 'cat'), ('../cifar-10/test\\\\2.png', 'cat'), ('../cifar-10/test\\\\3.png', 'cat'), ('../cifar-10/test\\\\4.png', 'cat'), ('../cifar-10/test\\\\5.png', 'cat')] \n\n50000 300000\n"
    }
   ],
   "source": [
    "# 定义cifar-10的数据集\n",
    "calss_name = [\n",
    "    'airplane',\n",
    "    'automobile',\n",
    "    'bird',\n",
    "    'cat',\n",
    "    'deer',\n",
    "    'dog',\n",
    "    'frog',\n",
    "    'horse',\n",
    "    'ship',\n",
    "    'truck',\n",
    "]\n",
    "train_labels_file = '../cifar-10/trainLabels.csv'\n",
    "test_csv_file = '../cifar-10/sampleSubmission.csv'\n",
    "train_folder = '../cifar-10/train'\n",
    "test_folder = '../cifar-10/test'\n",
    "\n",
    "def parse_csv_file(filepath, folder):\n",
    "    '''parases csv files into (filename(path), label) format'''\n",
    "    results = []\n",
    "    with open(filepath, 'r') as f:\n",
    "        lines = f.readlines()[1:]\n",
    "    for line in lines:\n",
    "        image_id, label_str = line.strip('\\n').split(',')\n",
    "        image_full_path = os.path.join(folder, image_id + '.png')\n",
    "        results.append((image_full_path, label_str))\n",
    "    return results\n",
    "\n",
    "train_labels_info = parse_csv_file(train_labels_file, train_folder)\n",
    "test_csv_info = parse_csv_file(test_csv_file, test_folder)\n",
    "\n",
    "import pprint\n",
    "print(train_labels_info[0:5],'\\n')\n",
    "print(test_csv_info[0:5],'\\n')\n",
    "print(len(train_labels_info), len(test_csv_info))"
   ]
  },
  {
   "cell_type": "code",
   "execution_count": 17,
   "metadata": {},
   "outputs": [
    {
     "name": "stdout",
     "output_type": "stream",
     "text": "filepath       class\n0  ../cifar-10/train\\1.png        frog\n1  ../cifar-10/train\\2.png       truck\n2  ../cifar-10/train\\3.png       truck\n3  ../cifar-10/train\\4.png        deer\n4  ../cifar-10/train\\5.png  automobile\n                      filepath       class\n0  ../cifar-10/train\\45001.png       horse\n1  ../cifar-10/train\\45002.png  automobile\n2  ../cifar-10/train\\45003.png        deer\n3  ../cifar-10/train\\45004.png  automobile\n4  ../cifar-10/train\\45005.png    airplane\n                      filepath       class\n0  ../cifar-10/train\\45001.png       horse\n1  ../cifar-10/train\\45002.png  automobile\n2  ../cifar-10/train\\45003.png        deer\n3  ../cifar-10/train\\45004.png  automobile\n4  ../cifar-10/train\\45005.png    airplane\n"
    }
   ],
   "source": [
    "# 将训练集分解为两部分\n",
    "train_df = pd.DataFrame(train_labels_info[:45000])\n",
    "valid_df = pd.DataFrame(train_labels_info[45000:])\n",
    "test_df = pd.DataFrame(test_csv_info)\n",
    "\n",
    "train_df.columns = ['filepath', 'class']\n",
    "valid_df.columns = ['filepath', 'class']\n",
    "test_df.columns = ['filepath', 'class']\n",
    "\n",
    "print(train_df.head())\n",
    "print(valid_df.head())\n",
    "print(valid_df.head())"
   ]
  },
  {
   "cell_type": "code",
   "execution_count": null,
   "metadata": {},
   "outputs": [],
   "source": [
    "height = 32\n",
    "width = 32\n",
    "channels = 3\n",
    "batch_size = 64\n",
    "num_classes = 10\n",
    "\n",
    "train_datagen = keras.preprocessing.image.ImageDataGenerator(\n",
    "    rescale=1./255,\n",
    "    rotation_range=0.2,\n",
    "    width_shift_range=0.2,\n",
    "    shear_range=0.2,\n",
    "    horizontal_flip=True,\n",
    "    fill_mode='nearest',\n",
    ")\n",
    "train_generator = train_datagen.flow_from_dataframe(\n",
    "    train_df,\n",
    "    directory='./',\n",
    "    x_col='filepath',\n",
    "    y_col='class',\n",
    "    classes=calss_name,\n",
    "    target_size=(height, width),\n",
    "    batch_size=batch_size,\n",
    "    seed=7,\n",
    "    shuffle=True,\n",
    "    class_mode='spars',\n",
    ")\n"
   ]
  }
 ]
}