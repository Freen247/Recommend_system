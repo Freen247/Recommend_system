{
 "nbformat": 4,
 "nbformat_minor": 2,
 "metadata": {
  "language_info": {
   "name": "python",
   "codemirror_mode": {
    "name": "ipython",
    "version": 3
   },
   "version": "3.6.7-final"
  },
  "orig_nbformat": 2,
  "file_extension": ".py",
  "mimetype": "text/x-python",
  "name": "python",
  "npconvert_exporter": "python",
  "pygments_lexer": "ipython3",
  "version": 3,
  "kernelspec": {
   "name": "python36764bitrecenvvirtualenvc590a763a4564b6f98e8e2c90348aa96",
   "display_name": "Python 3.6.7 64-bit ('rec_env': virtualenv)"
  }
 },
 "cells": [
  {
   "cell_type": "markdown",
   "metadata": {},
   "source": [
    "## 卷积神经网络(Convolutional Neural Networks)\n",
    "卷积操作、池化操作\n",
    "深度可分离卷积\n",
    "数据增强\n",
    "迁移学习\n",
    "\n",
    "###\n",
    "大致结构：\n",
    "- 卷积神经网络\n",
    "    - (convolution+subsampling)*n + fully connected layers,FC*m\n",
    "    - classification\n",
    "- 全卷积神经网络\n",
    "    - (convolution+subsampling)*n + pixelwise classification*K\n",
    "    - Object segment\n"
   ]
  },
  {
   "cell_type": "markdown",
   "metadata": {},
   "source": [
    "\n",
    "卷积操作：\n",
    "解决神经网络参数过多的问题，比如：图片大小为1000*1000， 下一层神经元为10^6，全链接参数为(10^3*10^3)*10^6=10^12，参数过多比较容易过拟合，需要更多训练数据\n",
    "\n",
    "卷积的特点：\n",
    "- 局部连接\n",
    "比如图片大小为1000*1000，下一层神经元为10^6，局部连接范围为10*10，全连接参数为(10*10)*10^6=10^8\n",
    "- 参数共享\n",
    "比如图片大小为1000*1000，下一层神经元为10^6，局部连接范围为10*10，全连接参数为10*10=100，ps这里运用了参数共享是指在局部内的像素数据分布相同，在图像中，其实很多局部的图像都是一样的，所以进行参数共享可以有效的优化数据，可能没有上面个提到的优化成100这么恐怖\n"
   ]
  },
  {
   "cell_type": "markdown",
   "metadata": {},
   "source": [
    "\n",
    "### 卷积--每个位置进行计算\n",
    "输入的图像：\n",
    "```\n",
    "[\n",
    "    [1,2,3,4,5],\n",
    "    [6,7,8,9,10],\n",
    "    [11,12,13,14,15],\n",
    "    [16,17,18,19,20],\n",
    "    [21,22,23,24,25],\n",
    "]\n",
    "```\n",
    "卷积核：\n",
    "```\n",
    "[\n",
    "    [1,0,1],\n",
    "    [0,1,0],\n",
    "    [1,0,1],\n",
    "]\n",
    "```\n",
    "输出size=输入size-卷积核size+1\n",
    "输出size=5-(3-1)\n",
    "\n",
    "### 池化操作--最大值池化\n",
    "输入的图像：\n",
    "```\n",
    "[\n",
    "    [1,2,3,4,5],\n",
    "    [6,7,8,9,10],\n",
    "    [11,12,13,14,15],\n",
    "    [16,17,18,19,20],\n",
    "    [21,22,23,24,25],\n",
    "]\n",
    "\n",
    "max-pool 操作\n",
    "stride = 2 步长\n",
    "kernel_size = 2*2 \n",
    "[\n",
    "    [x,x],\n",
    "    [x,x],\n",
    "]\n",
    "```\n",
    "\n",
    "输出：\n",
    "```\n",
    "[\n",
    "    [7,9],每个点都是kernel到达地方的矩阵的最大值\n",
    "    [17,19],\n",
    "]\n",
    "```\n",
    "还一种平均值池化：\n",
    "avg-pool 操作\n",
    "```\n",
    "[\n",
    "    [4,6],\n",
    "    [14,16],\n",
    "]\n",
    "```\n",
    "特点：\n",
    "- 尝试用不重叠，不补零\n",
    "- 没有用于求导的参数\n",
    "- 池化层参数为不长和池化核大小\n",
    "- 用于减少图像尺寸，从而减少计算量\n",
    "- 一定程度以动鲁棒\n",
    "- 损失空间位置"
   ]
  },
  {
   "cell_type": "code",
   "execution_count": 1,
   "metadata": {},
   "outputs": [
    {
     "name": "stdout",
     "output_type": "stream",
     "text": "sys.version_info(major=3, minor=6, micro=7, releaselevel='final', serial=0)\ntensorflow 2.1.0\nmatplotlib 3.2.0\nnumpy 1.18.1\npandas 1.0.1\nsklearn 0.22.2.post1\ntensorflow 2.1.0\ntensorflow_core.python.keras.api._v2.keras 2.2.4-tf\n"
    }
   ],
   "source": [
    "\n",
    "import matplotlib as mpl\n",
    "import matplotlib.pyplot as plt\n",
    "import numpy as np\n",
    "import sklearn\n",
    "import pandas as pd\n",
    "import tensorflow as tf\n",
    "\n",
    "from tensorflow import keras\n",
    "import os, sys, time \n",
    "\n",
    "\n",
    "print(sys.version_info)\n",
    "for module in tf, mpl, np, pd, sklearn, tf, keras:\n",
    "    print(module.__name__, module.__version__)\n",
    "\n"
   ]
  },
  {
   "cell_type": "code",
   "execution_count": 3,
   "metadata": {},
   "outputs": [
    {
     "name": "stdout",
     "output_type": "stream",
     "text": "x_valid.shape, y_valid.shape: (5000, 28, 28) (5000,)\nx_train.shape, y_train.shape (55000, 28, 28) (55000,)\nx_test.shape, y_test.shape (10000, 28, 28) (10000,)\n"
    }
   ],
   "source": [
    "fashion_mnist = keras.datasets.fashion_mnist\n",
    "(x_train_all, y_train_all), (x_test, y_test) = fashion_mnist.load_data()\n",
    "# fashion_mnist 训练集共有60000，将前5000作为验证集，后55000作为训练集\n",
    "x_valid, x_train = x_train_all[:5000], x_train_all[5000:]\n",
    "y_valid, y_train = y_train_all[:5000], y_train_all[5000:]\n",
    "\n",
    "print(\"x_valid.shape, y_valid.shape:\",x_valid.shape, y_valid.shape)\n",
    "print(\"x_train.shape, y_train.shape\",x_train.shape, y_train.shape)\n",
    "print(\"x_test.shape, y_test.shape\",x_test.shape, y_test.shape)"
   ]
  },
  {
   "cell_type": "code",
   "execution_count": 5,
   "metadata": {},
   "outputs": [
    {
     "data": {
      "image/png": "[encoded data removed]",
      "image/svg+xml": "<?xml version=\"1.0\" encoding=\"utf-8\" standalone=\"no\"?>\r\n<!DOCTYPE svg PUBLIC \"-//W3C//DTD SVG 1.1//EN\"\r\n  \"http://www.w3.org/Graphics/SVG/1.1/DTD/svg11.dtd\">\r\n<!-- Created with matplotlib (https://matplotlib.org/) -->\r\n<svg height=\"248.518125pt\" version=\"1.1\" viewBox=\"0 0 251.565 248.518125\" width=\"251.565pt\" xmlns=\"http://www.w3.org/2000/svg\" xmlns:xlink=\"http://www.w3.org/1999/xlink\">\r\n <defs>\r\n  <style type=\"text/css\">\r\n*{stroke-linecap:butt;stroke-linejoin:round;}\r\n  </style>\r\n </defs>\r\n <g id=\"figure_1\">\r\n  <g id=\"patch_1\">\r\n   <path d=\"M 0 248.518125 \r\nL 251.565 248.518125 \r\nL 251.565 0 \r\nL 0 0 \r\nz\r\n\" style=\"fill:none;\"/>\r\n  </g>\r\n  <g id=\"axes_1\">\r\n   <g id=\"patch_2\">\r\n    <path d=\"M 26.925 224.64 \r\nL 244.365 224.64 \r\nL 244.365 7.2 \r\nL 26.925 7.2 \r\nz\r\n\" style=\"fill:#ffffff;\"/>\r\n   </g>\r\n   <g clip-path=\"url(#p5135ca6a08)\">\r\n    <image height=\"218\" id=\"imaged18e1e603b\" transform=\"scale(1 -1)translate(0 -218)\" width=\"218\" x=\"26.925\" xlink:href=\"data:image/png;base64,\r\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\" y=\"-6.64\"/>\r\n   </g>\r\n   <g id=\"matplotlib.axis_1\">\r\n    <g id=\"xtick_1\">\r\n     <g id=\"line2d_1\">\r\n      <defs>\r\n       <path d=\"M 0 0 \r\nL 0 3.5 \r\n\" id=\"mce8b195209\" style=\"stroke:#000000;stroke-width:0.8;\"/>\r\n      </defs>\r\n      <g>\r\n       <use style=\"stroke:#000000;stroke-width:0.8;\" x=\"30.807857\" xlink:href=\"#mce8b195209\" y=\"224.64\"/>\r\n      </g>\r\n     </g>\r\n     <g id=\"text_1\">\r\n      <!-- 0 -->\r\n      <defs>\r\n       <path d=\"M 31.78125 66.40625 \r\nQ 24.171875 66.40625 20.328125 58.90625 \r\nQ 16.5 51.421875 16.5 36.375 \r\nQ 16.5 21.390625 20.328125 13.890625 \r\nQ 24.171875 6.390625 31.78125 6.390625 \r\nQ 39.453125 6.390625 43.28125 13.890625 \r\nQ 47.125 21.390625 47.125 36.375 \r\nQ 47.125 51.421875 43.28125 58.90625 \r\nQ 39.453125 66.40625 31.78125 66.40625 \r\nz\r\nM 31.78125 74.21875 \r\nQ 44.046875 74.21875 50.515625 64.515625 \r\nQ 56.984375 54.828125 56.984375 36.375 \r\nQ 56.984375 17.96875 50.515625 8.265625 \r\nQ 44.046875 -1.421875 31.78125 -1.421875 \r\nQ 19.53125 -1.421875 13.0625 8.265625 \r\nQ 6.59375 17.96875 6.59375 36.375 \r\nQ 6.59375 54.828125 13.0625 64.515625 \r\nQ 19.53125 74.21875 31.78125 74.21875 \r\nz\r\n\" id=\"DejaVuSans-48\"/>\r\n      </defs>\r\n      <g transform=\"translate(27.626607 239.238437)scale(0.1 -0.1)\">\r\n       <use xlink:href=\"#DejaVuSans-48\"/>\r\n      </g>\r\n     </g>\r\n    </g>\r\n    <g id=\"xtick_2\">\r\n     <g id=\"line2d_2\">\r\n      <g>\r\n       <use style=\"stroke:#000000;stroke-width:0.8;\" x=\"69.636429\" xlink:href=\"#mce8b195209\" y=\"224.64\"/>\r\n      </g>\r\n     </g>\r\n     <g id=\"text_2\">\r\n      <!-- 5 -->\r\n      <defs>\r\n       <path d=\"M 10.796875 72.90625 \r\nL 49.515625 72.90625 \r\nL 49.515625 64.59375 \r\nL 19.828125 64.59375 \r\nL 19.828125 46.734375 \r\nQ 21.96875 47.46875 24.109375 47.828125 \r\nQ 26.265625 48.1875 28.421875 48.1875 \r\nQ 40.625 48.1875 47.75 41.5 \r\nQ 54.890625 34.8125 54.890625 23.390625 \r\nQ 54.890625 11.625 47.5625 5.09375 \r\nQ 40.234375 -1.421875 26.90625 -1.421875 \r\nQ 22.3125 -1.421875 17.546875 -0.640625 \r\nQ 12.796875 0.140625 7.71875 1.703125 \r\nL 7.71875 11.625 \r\nQ 12.109375 9.234375 16.796875 8.0625 \r\nQ 21.484375 6.890625 26.703125 6.890625 \r\nQ 35.15625 6.890625 40.078125 11.328125 \r\nQ 45.015625 15.765625 45.015625 23.390625 \r\nQ 45.015625 31 40.078125 35.4375 \r\nQ 35.15625 39.890625 26.703125 39.890625 \r\nQ 22.75 39.890625 18.8125 39.015625 \r\nQ 14.890625 38.140625 10.796875 36.28125 \r\nz\r\n\" id=\"DejaVuSans-53\"/>\r\n      </defs>\r\n      <g transform=\"translate(66.455179 239.238437)scale(0.1 -0.1)\">\r\n       <use xlink:href=\"#DejaVuSans-53\"/>\r\n      </g>\r\n     </g>\r\n    </g>\r\n    <g id=\"xtick_3\">\r\n     <g id=\"line2d_3\">\r\n      <g>\r\n       <use style=\"stroke:#000000;stroke-width:0.8;\" x=\"108.465\" xlink:href=\"#mce8b195209\" y=\"224.64\"/>\r\n      </g>\r\n     </g>\r\n     <g id=\"text_3\">\r\n      <!-- 10 -->\r\n      <defs>\r\n       <path d=\"M 12.40625 8.296875 \r\nL 28.515625 8.296875 \r\nL 28.515625 63.921875 \r\nL 10.984375 60.40625 \r\nL 10.984375 69.390625 \r\nL 28.421875 72.90625 \r\nL 38.28125 72.90625 \r\nL 38.28125 8.296875 \r\nL 54.390625 8.296875 \r\nL 54.390625 0 \r\nL 12.40625 0 \r\nz\r\n\" id=\"DejaVuSans-49\"/>\r\n      </defs>\r\n      <g transform=\"translate(102.1025 239.238437)scale(0.1 -0.1)\">\r\n       <use xlink:href=\"#DejaVuSans-49\"/>\r\n       <use x=\"63.623047\" xlink:href=\"#DejaVuSans-48\"/>\r\n      </g>\r\n     </g>\r\n    </g>\r\n    <g id=\"xtick_4\">\r\n     <g id=\"line2d_4\">\r\n      <g>\r\n       <use style=\"stroke:#000000;stroke-width:0.8;\" x=\"147.293571\" xlink:href=\"#mce8b195209\" y=\"224.64\"/>\r\n      </g>\r\n     </g>\r\n     <g id=\"text_4\">\r\n      <!-- 15 -->\r\n      <g transform=\"translate(140.931071 239.238437)scale(0.1 -0.1)\">\r\n       <use xlink:href=\"#DejaVuSans-49\"/>\r\n       <use x=\"63.623047\" xlink:href=\"#DejaVuSans-53\"/>\r\n      </g>\r\n     </g>\r\n    </g>\r\n    <g id=\"xtick_5\">\r\n     <g id=\"line2d_5\">\r\n      <g>\r\n       <use style=\"stroke:#000000;stroke-width:0.8;\" x=\"186.122143\" xlink:href=\"#mce8b195209\" y=\"224.64\"/>\r\n      </g>\r\n     </g>\r\n     <g id=\"text_5\">\r\n      <!-- 20 -->\r\n      <defs>\r\n       <path d=\"M 19.1875 8.296875 \r\nL 53.609375 8.296875 \r\nL 53.609375 0 \r\nL 7.328125 0 \r\nL 7.328125 8.296875 \r\nQ 12.9375 14.109375 22.625 23.890625 \r\nQ 32.328125 33.6875 34.8125 36.53125 \r\nQ 39.546875 41.84375 41.421875 45.53125 \r\nQ 43.3125 49.21875 43.3125 52.78125 \r\nQ 43.3125 58.59375 39.234375 62.25 \r\nQ 35.15625 65.921875 28.609375 65.921875 \r\nQ 23.96875 65.921875 18.8125 64.3125 \r\nQ 13.671875 62.703125 7.8125 59.421875 \r\nL 7.8125 69.390625 \r\nQ 13.765625 71.78125 18.9375 73 \r\nQ 24.125 74.21875 28.421875 74.21875 \r\nQ 39.75 74.21875 46.484375 68.546875 \r\nQ 53.21875 62.890625 53.21875 53.421875 \r\nQ 53.21875 48.921875 51.53125 44.890625 \r\nQ 49.859375 40.875 45.40625 35.40625 \r\nQ 44.1875 33.984375 37.640625 27.21875 \r\nQ 31.109375 20.453125 19.1875 8.296875 \r\nz\r\n\" id=\"DejaVuSans-50\"/>\r\n      </defs>\r\n      <g transform=\"translate(179.759643 239.238437)scale(0.1 -0.1)\">\r\n       <use xlink:href=\"#DejaVuSans-50\"/>\r\n       <use x=\"63.623047\" xlink:href=\"#DejaVuSans-48\"/>\r\n      </g>\r\n     </g>\r\n    </g>\r\n    <g id=\"xtick_6\">\r\n     <g id=\"line2d_6\">\r\n      <g>\r\n       <use style=\"stroke:#000000;stroke-width:0.8;\" x=\"224.950714\" xlink:href=\"#mce8b195209\" y=\"224.64\"/>\r\n      </g>\r\n     </g>\r\n     <g id=\"text_6\">\r\n      <!-- 25 -->\r\n      <g transform=\"translate(218.588214 239.238437)scale(0.1 -0.1)\">\r\n       <use xlink:href=\"#DejaVuSans-50\"/>\r\n       <use x=\"63.623047\" xlink:href=\"#DejaVuSans-53\"/>\r\n      </g>\r\n     </g>\r\n    </g>\r\n   </g>\r\n   <g id=\"matplotlib.axis_2\">\r\n    <g id=\"ytick_1\">\r\n     <g id=\"line2d_7\">\r\n      <defs>\r\n       <path d=\"M 0 0 \r\nL -3.5 0 \r\n\" id=\"m202bcc1ab2\" style=\"stroke:#000000;stroke-width:0.8;\"/>\r\n      </defs>\r\n      <g>\r\n       <use style=\"stroke:#000000;stroke-width:0.8;\" x=\"26.925\" xlink:href=\"#m202bcc1ab2\" y=\"11.082857\"/>\r\n      </g>\r\n     </g>\r\n     <g id=\"text_7\">\r\n      <!-- 0 -->\r\n      <g transform=\"translate(13.5625 14.882076)scale(0.1 -0.1)\">\r\n       <use xlink:href=\"#DejaVuSans-48\"/>\r\n      </g>\r\n     </g>\r\n    </g>\r\n    <g id=\"ytick_2\">\r\n     <g id=\"line2d_8\">\r\n      <g>\r\n       <use style=\"stroke:#000000;stroke-width:0.8;\" x=\"26.925\" xlink:href=\"#m202bcc1ab2\" y=\"49.911429\"/>\r\n      </g>\r\n     </g>\r\n     <g id=\"text_8\">\r\n      <!-- 5 -->\r\n      <g transform=\"translate(13.5625 53.710647)scale(0.1 -0.1)\">\r\n       <use xlink:href=\"#DejaVuSans-53\"/>\r\n      </g>\r\n     </g>\r\n    </g>\r\n    <g id=\"ytick_3\">\r\n     <g id=\"line2d_9\">\r\n      <g>\r\n       <use style=\"stroke:#000000;stroke-width:0.8;\" x=\"26.925\" xlink:href=\"#m202bcc1ab2\" y=\"88.74\"/>\r\n      </g>\r\n     </g>\r\n     <g id=\"text_9\">\r\n      <!-- 10 -->\r\n      <g transform=\"translate(7.2 92.539219)scale(0.1 -0.1)\">\r\n       <use xlink:href=\"#DejaVuSans-49\"/>\r\n       <use x=\"63.623047\" xlink:href=\"#DejaVuSans-48\"/>\r\n      </g>\r\n     </g>\r\n    </g>\r\n    <g id=\"ytick_4\">\r\n     <g id=\"line2d_10\">\r\n      <g>\r\n       <use style=\"stroke:#000000;stroke-width:0.8;\" x=\"26.925\" xlink:href=\"#m202bcc1ab2\" y=\"127.568571\"/>\r\n      </g>\r\n     </g>\r\n     <g id=\"text_10\">\r\n      <!-- 15 -->\r\n      <g transform=\"translate(7.2 131.36779)scale(0.1 -0.1)\">\r\n       <use xlink:href=\"#DejaVuSans-49\"/>\r\n       <use x=\"63.623047\" xlink:href=\"#DejaVuSans-53\"/>\r\n      </g>\r\n     </g>\r\n    </g>\r\n    <g id=\"ytick_5\">\r\n     <g id=\"line2d_11\">\r\n      <g>\r\n       <use style=\"stroke:#000000;stroke-width:0.8;\" x=\"26.925\" xlink:href=\"#m202bcc1ab2\" y=\"166.397143\"/>\r\n      </g>\r\n     </g>\r\n     <g id=\"text_11\">\r\n      <!-- 20 -->\r\n      <g transform=\"translate(7.2 170.196362)scale(0.1 -0.1)\">\r\n       <use xlink:href=\"#DejaVuSans-50\"/>\r\n       <use x=\"63.623047\" xlink:href=\"#DejaVuSans-48\"/>\r\n      </g>\r\n     </g>\r\n    </g>\r\n    <g id=\"ytick_6\">\r\n     <g id=\"line2d_12\">\r\n      <g>\r\n       <use style=\"stroke:#000000;stroke-width:0.8;\" x=\"26.925\" xlink:href=\"#m202bcc1ab2\" y=\"205.225714\"/>\r\n      </g>\r\n     </g>\r\n     <g id=\"text_12\">\r\n      <!-- 25 -->\r\n      <g transform=\"translate(7.2 209.024933)scale(0.1 -0.1)\">\r\n       <use xlink:href=\"#DejaVuSans-50\"/>\r\n       <use x=\"63.623047\" xlink:href=\"#DejaVuSans-53\"/>\r\n      </g>\r\n     </g>\r\n    </g>\r\n   </g>\r\n   <g id=\"patch_3\">\r\n    <path d=\"M 26.925 224.64 \r\nL 26.925 7.2 \r\n\" style=\"fill:none;stroke:#000000;stroke-linecap:square;stroke-linejoin:miter;stroke-width:0.8;\"/>\r\n   </g>\r\n   <g id=\"patch_4\">\r\n    <path d=\"M 244.365 224.64 \r\nL 244.365 7.2 \r\n\" style=\"fill:none;stroke:#000000;stroke-linecap:square;stroke-linejoin:miter;stroke-width:0.8;\"/>\r\n   </g>\r\n   <g id=\"patch_5\">\r\n    <path d=\"M 26.925 224.64 \r\nL 244.365 224.64 \r\n\" style=\"fill:none;stroke:#000000;stroke-linecap:square;stroke-linejoin:miter;stroke-width:0.8;\"/>\r\n   </g>\r\n   <g id=\"patch_6\">\r\n    <path d=\"M 26.925 7.2 \r\nL 244.365 7.2 \r\n\" style=\"fill:none;stroke:#000000;stroke-linecap:square;stroke-linejoin:miter;stroke-width:0.8;\"/>\r\n   </g>\r\n  </g>\r\n </g>\r\n <defs>\r\n  <clipPath id=\"p5135ca6a08\">\r\n   <rect height=\"217.44\" width=\"217.44\" x=\"26.925\" y=\"7.2\"/>\r\n  </clipPath>\r\n </defs>\r\n</svg>\r\n",
      "text/plain": "<Figure size 432x288 with 1 Axes>"
     },
     "metadata": {
      "needs_background": "light"
     },
     "output_type": "display_data"
    }
   ],
   "source": [
    "# 数据集样本展示\n",
    "def show_single_img(img_arr):\n",
    "    plt.imshow(img_arr, cmap=\"binary\")\n",
    "    plt.show()\n",
    "show_single_img(x_train[0])"
   ]
  },
  {
   "cell_type": "code",
   "execution_count": 22,
   "metadata": {},
   "outputs": [],
   "source": [
    "'''\n",
    "对数据进行归一化处理\n",
    "定义：把数据经过处理后使之限定在一定的范围内。比如通常限制在区间[0, 1]或者[-1, 1]\n",
    "Z-score归一化\n",
    "'''\n",
    "from sklearn.preprocessing import StandardScaler\n",
    "scaler = StandardScaler()\n",
    "x_train_scaled = scaler.fit_transform(x_train.astype(np.float32).reshape(-1, 1)).reshape(-1, 28, 28)\n",
    "x_valid_scaled = scaler.fit_transform(x_valid.astype(np.float32).reshape(-1, 1)).reshape(-1, 28, 28)\n",
    "x_test_scaled = scaler.fit_transform(x_test.astype(np.float32).reshape(-1, 1)).reshape(-1, 28, 28)\n",
    "# 我们np里的数据是int类型，所以我们需要x_train.astype(np.float32)将数据转化成float32\n",
    "# fit_transform 不仅有数据转化为归一化的功能，还有fit（将数据存储下来）的功能.\n",
    "# Z_score = lambda d:scaler.fit_transform(d.astype(np.float32).reshape(-1,1)).reshape(-1,28,28)\n",
    "# x_train_scaled = Z_score(x_train)\n",
    "# x_valid_scaled = Z_score(x_valid)\n",
    "# x_test_scaled = Z_score(x_test)"
   ]
  },
  {
   "cell_type": "code",
   "execution_count": 24,
   "metadata": {},
   "outputs": [
    {
     "name": "stdout",
     "output_type": "stream",
     "text": "Model: \"sequential_8\"\n_________________________________________________________________\nLayer (type)                 Output Shape              Param #   \n=================================================================\nconv2d_3 (Conv2D)            (None, 28, 28, 32)        320       \n_________________________________________________________________\nconv2d_4 (Conv2D)            (None, 28, 28, 32)        9248      \n_________________________________________________________________\nmax_pooling2d (MaxPooling2D) (None, 14, 14, 32)        0         \n_________________________________________________________________\nconv2d_5 (Conv2D)            (None, 14, 14, 64)        18496     \n_________________________________________________________________\nconv2d_6 (Conv2D)            (None, 14, 14, 64)        36928     \n_________________________________________________________________\nmax_pooling2d_1 (MaxPooling2 (None, 7, 7, 64)          0         \n_________________________________________________________________\nconv2d_7 (Conv2D)            (None, 7, 7, 128)         73856     \n_________________________________________________________________\nconv2d_8 (Conv2D)            (None, 7, 7, 128)         147584    \n_________________________________________________________________\nmax_pooling2d_2 (MaxPooling2 (None, 3, 3, 128)         0         \n_________________________________________________________________\nflatten_1 (Flatten)          (None, 1152)              0         \n_________________________________________________________________\ndense_23 (Dense)             (None, 128)               147584    \n_________________________________________________________________\ndense_24 (Dense)             (None, 10)                1290      \n=================================================================\nTotal params: 435,306\nTrainable params: 435,306\nNon-trainable params: 0\n_________________________________________________________________\n"
    }
   ],
   "source": [
    "model = keras.models.Sequential()\n",
    "# padding='same' 要不要给输入加上padding\n",
    "model.add(keras.layers.Conv2D(filters=32, kernel_size=3, padding='same', activation='relu', input_shape=(28,28,1)))\n",
    "model.add(keras.layers.Conv2D(filters=32, kernel_size=3, padding='same', activation='relu'))\n",
    "# pool_size=2 源数据的长宽都会变成原来的1/2，导致数据量变为原来的1/4\n",
    "model.add(keras.layers.MaxPool2D(pool_size=2))\n",
    "\n",
    "# 所以在这一层需要讲filter变成两倍，防止损失数据\n",
    "model.add(keras.layers.Conv2D(filters=64, kernel_size=3, padding='same', activation='relu'))\n",
    "model.add(keras.layers.Conv2D(filters=64, kernel_size=3, padding='same', activation='relu'))\n",
    "model.add(keras.layers.MaxPool2D(pool_size=2))\n",
    "\n",
    "# 以下同理\n",
    "model.add(keras.layers.Conv2D(filters=128, kernel_size=3, padding='same', activation='relu'))\n",
    "model.add(keras.layers.Conv2D(filters=128, kernel_size=3, padding='same', activation='relu'))\n",
    "model.add(keras.layers.MaxPool2D(pool_size=2))\n",
    "\n",
    "# 链接全连接层\n",
    "model.add(keras.layers.Flatten())\n",
    "model.add(keras.layers.Dense(128, activation='relu'))\n",
    "# 输出层\n",
    "model.add(keras.layers.Dense(10, activation='softmax'))\n",
    "\n",
    "model.compile(loss='sparse_categorical_crossentropy', optimizer='sgd', metrics=['accuracy'])\n",
    "model.summary()"
   ]
  },
  {
   "cell_type": "code",
   "execution_count": null,
   "metadata": {},
   "outputs": [],
   "source": []
  }
 ]
}