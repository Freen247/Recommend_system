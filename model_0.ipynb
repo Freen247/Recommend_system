{
 "cells": [
  {
   "cell_type": "code",
   "execution_count": 2,
   "metadata": {},
   "outputs": [
    {
     "output_type": "stream",
     "name": "stdout",
     "text": "sys.version_info(major=3, minor=6, micro=7, releaselevel='final', serial=0)\ntensorflow 2.1.0\nmatplotlib 3.2.0\nnumpy 1.18.1\npandas 1.0.1\nsklearn 0.22.2.post1\ntensorflow 2.1.0\ntensorflow_core.python.keras.api._v2.keras 2.2.4-tf\n"
    }
   ],
   "source": [
    "import os, sys, re, pickle\n",
    "import matplotlib as mpl\n",
    "import matplotlib.pyplot as plt\n",
    "import numpy as np\n",
    "import sklearn\n",
    "import pandas as pd\n",
    "import tensorflow as tf\n",
    "import time\n",
    "from tensorflow import keras\n",
    "print(sys.version_info)\n",
    "for module in tf, mpl, np, pd, sklearn, tf, keras:\n",
    "    print(module.__name__, module.__version__)\n",
    "    \n",
    "from Data import Prepro_data"
   ]
  },
  {
   "cell_type": "code",
   "execution_count": 7,
   "metadata": {},
   "outputs": [
    {
     "output_type": "execute_result",
     "data": {
      "text/plain": "   User-ID            Location   ISBN  \\\n0     2918  [1242, 7251, 5372]  32719   \n1     2918  [1242, 7251, 5372]  23709   \n2    24974  [4759, 1444, 5372]  23709   \n3    18233    [7245, 30, 1600]  23709   \n4      240  [4723, 6498, 1600]  23709   \n\n                                               Title  Author  Year  Publisher  \\\n0  [18416, 3305, 2794, 2794, 2794, 2794, 2794, 27...   13704    63       2346   \n1  [5042, 20096, 12301, 3565, 6702, 20408, 4956, ...    6881    71       2064   \n2  [5042, 20096, 12301, 3565, 6702, 20408, 4956, ...    6881    71       2064   \n3  [5042, 20096, 12301, 3565, 6702, 20408, 4956, ...    6881    71       2064   \n4  [5042, 20096, 12301, 3565, 6702, 20408, 4956, ...    6881    71       2064   \n\n                                               Blurb  \n0  [16743, 70936, 91023, 94647, 30725, 94201, 110...  \n1  [26888, 9440, 6976, 72713, 117446, 20931, 2329...  \n2  [26888, 9440, 6976, 72713, 117446, 20931, 2329...  \n3  [26888, 9440, 6976, 72713, 117446, 20931, 2329...  \n4  [26888, 9440, 6976, 72713, 117446, 20931, 2329...  ",
      "text/html": "<div>\n<style scoped>\n    .dataframe tbody tr th:only-of-type {\n        vertical-align: middle;\n    }\n\n    .dataframe tbody tr th {\n        vertical-align: top;\n    }\n\n    .dataframe thead th {\n        text-align: right;\n    }\n</style>\n<table border=\"1\" class=\"dataframe\">\n  <thead>\n    <tr style=\"text-align: right;\">\n      <th></th>\n      <th>User-ID</th>\n      <th>Location</th>\n      <th>ISBN</th>\n      <th>Title</th>\n      <th>Author</th>\n      <th>Year</th>\n      <th>Publisher</th>\n      <th>Blurb</th>\n    </tr>\n  </thead>\n  <tbody>\n    <tr>\n      <th>0</th>\n      <td>2918</td>\n      <td>[1242, 7251, 5372]</td>\n      <td>32719</td>\n      <td>[18416, 3305, 2794, 2794, 2794, 2794, 2794, 27...</td>\n      <td>13704</td>\n      <td>63</td>\n      <td>2346</td>\n      <td>[16743, 70936, 91023, 94647, 30725, 94201, 110...</td>\n    </tr>\n    <tr>\n      <th>1</th>\n      <td>2918</td>\n      <td>[1242, 7251, 5372]</td>\n      <td>23709</td>\n      <td>[5042, 20096, 12301, 3565, 6702, 20408, 4956, ...</td>\n      <td>6881</td>\n      <td>71</td>\n      <td>2064</td>\n      <td>[26888, 9440, 6976, 72713, 117446, 20931, 2329...</td>\n    </tr>\n    <tr>\n      <th>2</th>\n      <td>24974</td>\n      <td>[4759, 1444, 5372]</td>\n      <td>23709</td>\n      <td>[5042, 20096, 12301, 3565, 6702, 20408, 4956, ...</td>\n      <td>6881</td>\n      <td>71</td>\n      <td>2064</td>\n      <td>[26888, 9440, 6976, 72713, 117446, 20931, 2329...</td>\n    </tr>\n    <tr>\n      <th>3</th>\n      <td>18233</td>\n      <td>[7245, 30, 1600]</td>\n      <td>23709</td>\n      <td>[5042, 20096, 12301, 3565, 6702, 20408, 4956, ...</td>\n      <td>6881</td>\n      <td>71</td>\n      <td>2064</td>\n      <td>[26888, 9440, 6976, 72713, 117446, 20931, 2329...</td>\n    </tr>\n    <tr>\n      <th>4</th>\n      <td>240</td>\n      <td>[4723, 6498, 1600]</td>\n      <td>23709</td>\n      <td>[5042, 20096, 12301, 3565, 6702, 20408, 4956, ...</td>\n      <td>6881</td>\n      <td>71</td>\n      <td>2064</td>\n      <td>[26888, 9440, 6976, 72713, 117446, 20931, 2329...</td>\n    </tr>\n  </tbody>\n</table>\n</div>"
     },
     "metadata": {},
     "execution_count": 7
    }
   ],
   "source": [
    "origin_DATA = Prepro_data.DataLoad()\n",
    "origin_DATA.features.head()"
   ]
  },
  {
   "cell_type": "code",
   "execution_count": 8,
   "metadata": {},
   "outputs": [
    {
     "output_type": "stream",
     "name": "stdout",
     "text": "all_user_id_number= 28836\nlocation_length=3,all_location_words_number=7574 \nall_isbn_words_number  38036\ntitle_length=15,all_title_words_number=23731\nall_author_words_number  15196\nall_year_words_number  81\nall_publisher_words_number  2909\nblurb_length=200,all_blurb_words_number=127035\n"
    }
   ],
   "source": [
    "#User-ID number,max_index\n",
    "all_user_id_number = len(set(origin_DATA.features['User-ID']))\n",
    "print('all_user_id_number=',all_user_id_number)\n",
    "\n",
    "#Location number index\n",
    "location_length = len(origin_DATA.features['Location'][0])\n",
    "all_location_words_number = max([j for i in origin_DATA.features['Location'] for j in i])+1\n",
    "print('location_length=%d,all_location_words_number=%d '% (location_length,all_location_words_number) )\n",
    "\n",
    "#ISBN numner\n",
    "all_isbn_words_number = len(set(origin_DATA.features['ISBN']))\n",
    "print('all_isbn_words_number ',all_isbn_words_number)\n",
    "\n",
    "#Title\n",
    "title_length = len(origin_DATA.features['Title'][0])\n",
    "all_title_words_number = max([j for i in origin_DATA.features['Title'] for j in i])+1\n",
    "print('title_length=%d,all_title_words_number=%d'% (title_length,all_title_words_number))\n",
    "\n",
    "#Author\n",
    "all_author_words_number = len(set(origin_DATA.features['Author']))\n",
    "print('all_author_words_number ',all_author_words_number)\n",
    "\n",
    "#Year\n",
    "all_year_words_number = len(set(origin_DATA.features['Year']))\n",
    "print('all_year_words_number ',all_year_words_number)\n",
    "\n",
    "# Publisher\n",
    "all_publisher_words_number = len(set(origin_DATA.features['Publisher']))\n",
    "print('all_publisher_words_number ',all_publisher_words_number)\n",
    "\n",
    "# Blurb\n",
    "blurb_length = len(origin_DATA.features['Blurb'][0])\n",
    "all_blurb_words_number = max([j for i in origin_DATA.features['Blurb'] for j in i])+1\n",
    "print('blurb_length=%d,all_blurb_words_number=%d'% (blurb_length,all_blurb_words_number))"
   ]
  },
  {
   "cell_type": "code",
   "execution_count": 9,
   "metadata": {
    "collapsed": true
   },
   "outputs": [],
   "source": [
    "\"\"\"\n",
    "超参数\n",
    "\"\"\"\n",
    "# Number of Epochs\n",
    "num_epochs = 5\n",
    "# Batch_size\n",
    "batch_size = 256\n",
    "# dropout_keep\n",
    "dropout_keep = 0.5\n",
    "# Learning_rate\n",
    "learning_rate = 0.001\n",
    "# embedding_dim\n",
    "embedding_dim = 16\n",
    "# 文本卷积滑动的单词个数\n",
    "window_sizes = {2,3,4,5}\n",
    "# filter num\n",
    "filter_num = 8\n",
    "# dense dim\n",
    "dense_dim = 32"
   ]
  },
  {
   "cell_type": "code",
   "execution_count": 10,
   "metadata": {
    "collapsed": true
   },
   "outputs": [],
   "source": [
    "def get_inputs():\n",
    "#     用户特征输入占位符\n",
    "    # 用户特征输入\n",
    "    user_id = keras.layers.Input(shape=(1,), dtype='int32', name='user_id_input')\n",
    "    user_location = keras.layers.Input(shape=(3,), dtype='int32', name='user_location_input')\n",
    "    \n",
    "    # 书籍特征输入\n",
    "    book_isbn = keras.layers.Input(shape=(1,),  dtype='int32', name='book_isbn_input')\n",
    "    book_author = keras.layers.Input(shape=(1,),  dtype='int32', name='book_author_input')\n",
    "    book_year = keras.layers.Input(shape=(1,),  dtype='int32', name='book_year_input')\n",
    "    book_publisher = keras.layers.Input(shape=(1,),  dtype='int32', name='book_publisher_input')  \n",
    "    book_title = keras.layers.Input(shape=(15, ), dtype='int32', name='book_title_input')\n",
    "    book_blurb = keras.layers.Input(shape=(200, ), dtype='int32', name='book_blurb_input')\n",
    "    return user_id, user_location, book_isbn, book_author, book_year, book_publisher, book_title, book_blurb"
   ]
  },
  {
   "cell_type": "code",
   "execution_count": 11,
   "metadata": {
    "collapsed": true
   },
   "outputs": [],
   "source": [
    "\"\"\"\n",
    "构建User神经网络\n",
    "\"\"\"\n",
    "def get_user_embedding(user_id,user_location):\n",
    "    uid_embed_layer = tf.keras.layers.Embedding(all_user_id_number,embedding_dim,input_length=1,name='uid_embed_layer')(user_id)\n",
    "    location_embed_layer = tf.keras.layers.Embedding(all_location_words_number,embedding_dim,input_length=location_length,name='location_embed_layer')(user_location)\n",
    "    return uid_embed_layer, location_embed_layer"
   ]
  },
  {
   "cell_type": "code",
   "execution_count": 12,
   "metadata": {
    "collapsed": true
   },
   "outputs": [],
   "source": [
    "def get_user_feature_layer(uid_embed_layer,location_embed_layer):\n",
    "#     第一层全连接\n",
    "    uid_fc_layer = tf.keras.layers.Dense(dense_dim,name='uid_fc_layer',activation='relu')(uid_embed_layer)\n",
    "    location_fc_layer = tf.keras.layers.Dense(dense_dim,name='location_fc_layer',activation='relu')(location_embed_layer)\n",
    "#  对location进行Encoder提取特征\n",
    "    location_gru_layer = tf.keras.layers.GRU(units=dense_dim,dropout=0.5,name='location_gru_layer')(location_fc_layer)\n",
    "#     [None,32]\n",
    "    print(location_gru_layer.shape)\n",
    "    location_gru_expand_layer = tf.expand_dims(location_gru_layer,axis=1)\n",
    "    \n",
    "#     第二层全连接\n",
    "    user_combine_layer = tf.keras.layers.concatenate([uid_fc_layer,location_gru_expand_layer],2)\n",
    "    user_dense_layer = tf.keras.layers.Dense(200,activation='tanh',name='user_dense_layer')(user_combine_layer)\n",
    "    user_dense_layer_flat = tf.keras.layers.Reshape([200], name=\"user_combine_layer_flat\")(user_dense_layer)\n",
    "    return user_dense_layer,user_dense_layer_flat"
   ]
  },
  {
   "cell_type": "code",
   "execution_count": 13,
   "metadata": {
    "collapsed": true
   },
   "outputs": [],
   "source": [
    "\"\"\"\n",
    "构建book神经网络\n",
    "\"\"\"\n",
    "def get_book_embedding(book_isbn, book_author, book_year, book_publisher, book_title, book_blurb):\n",
    "    book_isbn_embed_layer = tf.keras.layers.Embedding(all_isbn_words_number,embedding_dim,input_length = 1,name='book_isbn_embed_layer')(book_isbn)\n",
    "    book_author_embed_layer = tf.keras.layers.Embedding(all_author_words_number,embedding_dim,input_length=1,name='book_author_embed_layer')(book_author)\n",
    "    book_year_embed_layer = tf.keras.layers.Embedding(all_year_words_number,embedding_dim,input_length=1,name='book_year_embed_layer')(book_year)\n",
    "    book_publisher_embed_layer = tf.keras.layers.Embedding(all_publisher_words_number,embedding_dim,input_length = 1,name='book_publisher_embed_layer')(book_publisher)\n",
    "    book_title_embed_layer = tf.keras.layers.Embedding(all_title_words_number,embedding_dim,input_length=title_length,name='book_title_embed_layer')(book_title)\n",
    "    book_blurb_embed_layer = tf.keras.layers.Embedding(all_blurb_words_number,embedding_dim,input_length = blurb_length,name='book_blurb_embed_layer')(book_blurb)\n",
    "    return book_isbn_embed_layer,book_author_embed_layer,book_year_embed_layer,book_publisher_embed_layer,book_title_embed_layer,book_blurb_embed_layer\n",
    "    "
   ]
  },
  {
   "cell_type": "code",
   "execution_count": 14,
   "metadata": {
    "collapsed": true
   },
   "outputs": [],
   "source": [
    "def get_book_feature_layer(book_isbn_embed_layer,book_author_embed_layer,book_year_embed_layer,book_publisher_embed_layer,book_title_embed_layer,book_blurb_embed_layer):\n",
    "#     对isbn,author,year,publisher第一层全连接\n",
    "    book_isbn_dense_layer = tf.keras.layers.Dense(dense_dim,activation='relu',name='book_isbn_dense_layer')(book_isbn_embed_layer)\n",
    "    book_author_dense_layer = tf.keras.layers.Dense(dense_dim,activation='relu',name='book_author_dense_layer')(book_author_embed_layer)\n",
    "    book_year_dense_layer = tf.keras.layers.Dense(dense_dim,activation='relu',name='book_year_dense_layer')(book_year_embed_layer)\n",
    "    book_publisher_dense_layer = tf.keras.layers.Dense(dense_dim,activation='relu',name='book_publisher_dense_layer')(book_publisher_embed_layer)\n",
    "    book_title_embed_layer_expand = tf.expand_dims(book_title_embed_layer,axis=-1)\n",
    "#     对title进行文本卷积\n",
    "#     book_title_embed_layer_expand:[None,15,16,1]\n",
    "#     对文本嵌入层使用不同的卷积核做卷积核最大池化\n",
    "    pool_layer_list = []\n",
    "    for window_size in window_sizes:\n",
    "        title_conv_layer = tf.keras.layers.Conv2D(filters = filter_num,kernel_size = (window_size,embedding_dim),strides=1,activation='relu')(book_title_embed_layer_expand)\n",
    "        title_maxpool_layer = tf.keras.layers.MaxPooling2D(pool_size=(title_length-window_size+1,1),strides=1)(title_conv_layer)\n",
    "        pool_layer_list.append(title_maxpool_layer)\n",
    "    pool_layer_layer = tf.keras.layers.concatenate(pool_layer_list,axis=-1,name='title_pool_layer')\n",
    "    max_num = len(window_sizes)*filter_num\n",
    "    pool_layer_flat = tf.keras.layers.Reshape([1,max_num],name='pool_layer_flat')(pool_layer_layer)\n",
    "    dropout_layer = tf.keras.layers.Dropout(dropout_keep, name = \"dropout_layer\")(pool_layer_flat)\n",
    "\n",
    "    # 对简介进行Encoder特征提取\n",
    "    book_blurb_dense_layer = tf.keras.layers.Dense(dense_dim,activation='relu',name='book_blurb_dense_layer')(book_blurb_embed_layer)\n",
    "    book_blurb_gru_layer = tf.keras.layers.GRU(units=dense_dim,dropout=0.5,name='book_blurb_gru_layer')(book_blurb_dense_layer)\n",
    "    print('book_blurb_gru_layer=',book_blurb_gru_layer.shape)\n",
    "    book_blurb_gru_expand_layer = tf.expand_dims(book_blurb_gru_layer,axis=1)\n",
    "    book_combine_layer = tf.keras.layers.concatenate([book_isbn_dense_layer,book_author_dense_layer,book_year_dense_layer,book_publisher_dense_layer,dropout_layer,book_blurb_gru_expand_layer],axis=-1)\n",
    "    book_dense_layer = tf.keras.layers.Dense(200, activation='tanh')(book_combine_layer)\n",
    "    book_dense_layer_flat = tf.keras.layers.Reshape([200], name=\"book_dense_layer_flat\")(book_dense_layer)\n",
    "    return book_dense_layer,book_dense_layer_flat"
   ]
  },
  {
   "cell_type": "code",
   "execution_count": 15,
   "metadata": {
    "collapsed": true
   },
   "outputs": [],
   "source": [
    "def get_rating(user_feature, book_feature):\n",
    "    multiply_layer = keras.layers.Lambda(lambda layer: tf.reduce_sum(layer[0]*layer[1],axis=1,keepdims=True), name = 'user_book_feature')((user_feature, book_feature))\n",
    "    print(multiply_layer.shape)\n",
    "    return multiply_layer"
   ]
  },
  {
   "cell_type": "code",
   "execution_count": 16,
   "metadata": {},
   "outputs": [
    {
     "output_type": "execute_result",
     "data": {
      "text/plain": "TensorShape([2, 1])"
     },
     "metadata": {},
     "execution_count": 16
    }
   ],
   "source": [
    "a = tf.constant([[2,1,1],[1,3,4]])\n",
    "b = tf.constant([[0,1,1],[1,0,4]])\n",
    "c = inference = tf.keras.layers.Lambda(lambda layer:tf.reduce_sum(a * b, axis=1,keepdims=True))(a,b)\n",
    "c.shape"
   ]
  },
  {
   "cell_type": "code",
   "execution_count": 17,
   "metadata": {
    "collapsed": true
   },
   "outputs": [],
   "source": [
    "features = data.features.values"
   ]
  },
  {
   "cell_type": "code",
   "execution_count": 19,
   "metadata": {},
   "outputs": [
    {
     "output_type": "execute_result",
     "data": {
      "text/plain": "array([2918, list([1242, 7251, 5372]), 32719,\n       list([18416, 3305, 2794, 2794, 2794, 2794, 2794, 2794, 2794, 2794, 2794, 2794, 2794, 2794, 2794]),\n       13704, 63, 2346,\n       list([16743, 70936, 91023, 94647, 30725, 94201, 110675, 90181, 124050, 43353, 17884, 63098, 25481, 55269, 5885, 41278, 4336, 123778, 68058, 98997, 76124, 102306, 1763, 3630, 3630, 3630, 3630, 3630, 3630, 3630, 3630, 3630, 3630, 3630, 3630, 3630, 3630, 3630, 3630, 3630, 3630, 3630, 3630, 3630, 3630, 3630, 3630, 3630, 3630, 3630, 3630, 3630, 3630, 3630, 3630, 3630, 3630, 3630, 3630, 3630, 3630, 3630, 3630, 3630, 3630, 3630, 3630, 3630, 3630, 3630, 3630, 3630, 3630, 3630, 3630, 3630, 3630, 3630, 3630, 3630, 3630, 3630, 3630, 3630, 3630, 3630, 3630, 3630, 3630, 3630, 3630, 3630, 3630, 3630, 3630, 3630, 3630, 3630, 3630, 3630, 3630, 3630, 3630, 3630, 3630, 3630, 3630, 3630, 3630, 3630, 3630, 3630, 3630, 3630, 3630, 3630, 3630, 3630, 3630, 3630, 3630, 3630, 3630, 3630, 3630, 3630, 3630, 3630, 3630, 3630, 3630, 3630, 3630, 3630, 3630, 3630, 3630, 3630, 3630, 3630, 3630, 3630, 3630, 3630, 3630, 3630, 3630, 3630, 3630, 3630, 3630, 3630, 3630, 3630, 3630, 3630, 3630, 3630, 3630, 3630, 3630, 3630, 3630, 3630, 3630, 3630, 3630, 3630, 3630, 3630, 3630, 3630, 3630, 3630, 3630, 3630, 3630, 3630, 3630, 3630, 3630, 3630, 3630, 3630, 3630, 3630, 3630, 3630, 3630, 3630, 3630, 3630, 3630, 3630, 3630, 3630, 3630, 3630, 3630, 3630])],\n      dtype=object)"
     },
     "metadata": {},
     "execution_count": 19
    }
   ],
   "source": [
    "features[0]"
   ]
  },
  {
   "cell_type": "code",
   "execution_count": 20,
   "metadata": {},
   "outputs": [
    {
     "output_type": "execute_result",
     "data": {
      "text/plain": "numpy.ndarray"
     },
     "metadata": {},
     "execution_count": 20
    }
   ],
   "source": [
    "targets=data.labels.values\n",
    "type(targets)"
   ]
  },
  {
   "cell_type": "code",
   "execution_count": 21,
   "metadata": {
    "collapsed": true
   },
   "outputs": [],
   "source": [
    "# get_Batch\n",
    "def get_batch(Xs,ys,batchsize):\n",
    "    for start in range(0,len(Xx,batchsize)):\n",
    "        end = min(start+batchsize,len(Xs))\n",
    "        yield xS[start:end],ys[start:end]"
   ]
  },
  {
   "cell_type": "markdown",
   "metadata": {},
   "source": [
    "# 构建计算图\n",
    "将用户特征和书籍特征作为输入，经过一个全连接，输出预测"
   ]
  },
  {
   "cell_type": "code",
   "execution_count": 22,
   "metadata": {},
   "outputs": [
    {
     "output_type": "execute_result",
     "data": {
      "text/plain": "array([[1., 2., 5.],\n       [6., 5., 1.]])"
     },
     "metadata": {},
     "execution_count": 22
    }
   ],
   "source": [
    "# test\n",
    "a = np.array([[1, 2, 4, ([1, 2, 5])], \n",
    "             [3, 2, 6, ([6, 5, 1])],\n",
    "             [6, 9, 4, ([3, 7, 5])]])\n",
    "b = np.zeros([3,3])\n",
    "for i in range(3):\n",
    "    b[i] = a.take(3,1)[i]\n",
    "b[:2]    "
   ]
  },
  {
   "cell_type": "code",
   "execution_count": 23,
   "metadata": {
    "collapsed": true
   },
   "outputs": [],
   "source": [
    "import math\n",
    "dataset_length = len(features)\n",
    "\n",
    "def get_train_val_test():\n",
    "    location = np.zeros([dataset_length, 3])\n",
    "    title = np.zeros([dataset_length, 15])\n",
    "    blurb = np.zeros([dataset_length, 200])\n",
    "    for i in range(dataset_length):\n",
    "        location[i] = np.array(features[i, 1])\n",
    "        title[i] = np.array(features[i, 3])\n",
    "        blurb[i] = np.array(features[i, 7])\n",
    "    input_features = [features.take(0, 1).astype(np.float64),\n",
    "                      location,\n",
    "                      features.take(2, 1).astype(np.float64),\n",
    "                      title,\n",
    "                      features.take(4, 1).astype(np.float64),\n",
    "                      features.take(5, 1).astype(np.float64),\n",
    "                      features.take(6, 1).astype(np.float64),\n",
    "                      blurb]\n",
    "    for i in range(len(input_features)):\n",
    "        print(input_features[i].dtype)\n",
    "        print(type(input_features[i]))\n",
    "    labels = targets\n",
    "    #     分割数据集以及shuffle\n",
    "    np.random.seed(100)\n",
    "    number_features = len(input_features)\n",
    "    shuffle_index = np.random.permutation(dataset_length)\n",
    "    shuffle_train_index = shuffle_index[:math.ceil(dataset_length * 0.96)]\n",
    "    shuffle_val_index = shuffle_index[math.ceil(dataset_length * 0.96):math.ceil(dataset_length * 0.98)]\n",
    "    shuffle_test_index = shuffle_index[math.ceil(dataset_length * 0.98):]\n",
    "    train_features = [input_features[i][shuffle_train_index] for i in range(number_features)]\n",
    "    train_labels = labels[shuffle_train_index]\n",
    "    val_features = [input_features[i][shuffle_val_index] for i in range(number_features)]\n",
    "    val_lables = labels[shuffle_val_index]\n",
    "    test_features = [input_features[i][shuffle_test_index] for i in range(number_features)]\n",
    "    test_lables = labels[shuffle_test_index]\n",
    "    return train_features, train_labels, val_features, val_lables, test_features, test_lables"
   ]
  },
  {
   "cell_type": "code",
   "execution_count": 24,
   "metadata": {
    "scrolled": false
   },
   "outputs": [
    {
     "output_type": "stream",
     "name": "stdout",
     "text": "float64\n<class 'numpy.ndarray'>\nfloat64\n<class 'numpy.ndarray'>\nfloat64\n<class 'numpy.ndarray'>\nfloat64\n<class 'numpy.ndarray'>\nfloat64\n<class 'numpy.ndarray'>\nfloat64\n<class 'numpy.ndarray'>\nfloat64\n<class 'numpy.ndarray'>\nfloat64\n<class 'numpy.ndarray'>\n<class 'list'>\n<class 'numpy.ndarray'>\n(3442,)\n(3442,)\n"
    }
   ],
   "source": [
    "train_features, train_labels, val_features, val_lables, test_features, test_lables = get_train_val_test()\n",
    "print(type(train_features))\n",
    "print(type(train_labels))\n",
    "print(val_features[0].shape)\n",
    "print(test_features[0].shape)"
   ]
  },
  {
   "cell_type": "code",
   "execution_count": 25,
   "metadata": {
    "collapsed": true
   },
   "outputs": [],
   "source": [
    "class mv_network(object):\n",
    "    def __init__(self, batch_size,epoch):\n",
    "        self.batchsize = 256\n",
    "        self.epoch = 5\n",
    "         # 获取输入占位符\n",
    "        user_id, user_location, book_isbn, book_author, book_year, book_publisher, book_title, book_blurb = get_inputs()\n",
    "        # 获取User的2个嵌入向量\n",
    "        uid_embed_layer, location_embed_layer = get_user_embedding(user_id,user_location)\n",
    "        # 得到用户特征\n",
    "        user_dense_layer,user_dense_layer_flat =get_user_feature_layer(uid_embed_layer,location_embed_layer)\n",
    "        # 获取书籍的嵌入向量\n",
    "        book_isbn_embed_layer,book_author_embed_layer,book_year_embed_layer,book_publisher_embed_layer,book_title_embed_layer,book_blurb_embed_layer=get_book_embedding(book_isbn, book_author, book_year, book_publisher, book_title, book_blurb)\n",
    "        # 获取书籍特征\n",
    "        book_dense_layer,book_dense_layer_flat=get_book_feature_layer(book_isbn_embed_layer,book_author_embed_layer,book_year_embed_layer,book_publisher_embed_layer,book_title_embed_layer,book_blurb_embed_layer)\n",
    "        \n",
    "        # 计算出评分\n",
    "        # 将用户特征和电影特征做矩阵乘法得到一个预测评分的方案\n",
    "        print(\"user_dense_layer_flat=\",user_dense_layer_flat.shape)\n",
    "        print(\"book_dense_layer_flat=\",book_dense_layer_flat.shape)\n",
    "        inference = get_rating(user_dense_layer_flat,book_dense_layer_flat)\n",
    "\n",
    "        self.model = tf.keras.Model(\n",
    "            inputs=[user_id, user_location, book_isbn, book_title, book_author, book_year, book_publisher, book_blurb],\n",
    "            outputs=[inference])\n",
    "        self.model.summary()\n",
    "    def train_model(self):\n",
    "        model_optimizer = tf.keras.optimizers.Adam()\n",
    "        self.model.compile(optimizer=model_optimizer, loss=keras.losses.mse)\n",
    "        history = self.model.fit(train_features, train_labels, validation_data=(val_features, val_lables), epochs=self.epoch, batch_size=self.batchsize, verbose=1)\n",
    "        return  history\n",
    "    def predict_model(self, model):\n",
    "        test_loss = self.model.evaluate(test_features, test_lables, verbose=0)\n",
    "        return test_loss"
   ]
  },
  {
   "cell_type": "code",
   "execution_count": 26,
   "metadata": {
    "scrolled": false
   },
   "outputs": [
    {
     "output_type": "stream",
     "name": "stdout",
     "text": "(None, 32)\nbook_blurb_gru_layer= (None, 32)\nuser_dense_layer_flat= (None, 200)\nbook_dense_layer_flat= (None, 200)\n(None, 1)\nModel: \"model\"\n__________________________________________________________________________________________________\nLayer (type)                    Output Shape         Param #     Connected to                     \n==================================================================================================\nbook_title_input (InputLayer)   [(None, 15)]         0                                            \n__________________________________________________________________________________________________\nbook_title_embed_layer (Embeddi (None, 15, 16)       379696      book_title_input[0][0]           \n__________________________________________________________________________________________________\ntf_op_layer_ExpandDims_1 (Tenso [(None, 15, 16, 1)]  0           book_title_embed_layer[0][0]     \n__________________________________________________________________________________________________\nuser_location_input (InputLayer [(None, 3)]          0                                            \n__________________________________________________________________________________________________\nconv2d (Conv2D)                 (None, 14, 1, 8)     264         tf_op_layer_ExpandDims_1[0][0]   \n__________________________________________________________________________________________________\nconv2d_1 (Conv2D)               (None, 13, 1, 8)     392         tf_op_layer_ExpandDims_1[0][0]   \n__________________________________________________________________________________________________\nconv2d_2 (Conv2D)               (None, 12, 1, 8)     520         tf_op_layer_ExpandDims_1[0][0]   \n__________________________________________________________________________________________________\nconv2d_3 (Conv2D)               (None, 11, 1, 8)     648         tf_op_layer_ExpandDims_1[0][0]   \n__________________________________________________________________________________________________\nbook_blurb_input (InputLayer)   [(None, 200)]        0                                            \n__________________________________________________________________________________________________\nlocation_embed_layer (Embedding (None, 3, 16)        121184      user_location_input[0][0]        \n__________________________________________________________________________________________________\nmax_pooling2d (MaxPooling2D)    (None, 1, 1, 8)      0           conv2d[0][0]                     \n__________________________________________________________________________________________________\nmax_pooling2d_1 (MaxPooling2D)  (None, 1, 1, 8)      0           conv2d_1[0][0]                   \n__________________________________________________________________________________________________\nmax_pooling2d_2 (MaxPooling2D)  (None, 1, 1, 8)      0           conv2d_2[0][0]                   \n__________________________________________________________________________________________________\nmax_pooling2d_3 (MaxPooling2D)  (None, 1, 1, 8)      0           conv2d_3[0][0]                   \n__________________________________________________________________________________________________\nbook_blurb_embed_layer (Embeddi (None, 200, 16)      2032560     book_blurb_input[0][0]           \n__________________________________________________________________________________________________\nuser_id_input (InputLayer)      [(None, 1)]          0                                            \n__________________________________________________________________________________________________\nlocation_fc_layer (Dense)       (None, 3, 32)        544         location_embed_layer[0][0]       \n__________________________________________________________________________________________________\nbook_isbn_input (InputLayer)    [(None, 1)]          0                                            \n__________________________________________________________________________________________________\nbook_author_input (InputLayer)  [(None, 1)]          0                                            \n__________________________________________________________________________________________________\nbook_year_input (InputLayer)    [(None, 1)]          0                                            \n__________________________________________________________________________________________________\nbook_publisher_input (InputLaye [(None, 1)]          0                                            \n__________________________________________________________________________________________________\ntitle_pool_layer (Concatenate)  (None, 1, 1, 32)     0           max_pooling2d[0][0]              \n                                                                 max_pooling2d_1[0][0]            \n                                                                 max_pooling2d_2[0][0]            \n                                                                 max_pooling2d_3[0][0]            \n__________________________________________________________________________________________________\nbook_blurb_dense_layer (Dense)  (None, 200, 32)      544         book_blurb_embed_layer[0][0]     \n__________________________________________________________________________________________________\nuid_embed_layer (Embedding)     (None, 1, 16)        461376      user_id_input[0][0]              \n__________________________________________________________________________________________________\nlocation_gru_layer (GRU)        (None, 32)           6336        location_fc_layer[0][0]          \n__________________________________________________________________________________________________\nbook_isbn_embed_layer (Embeddin (None, 1, 16)        608576      book_isbn_input[0][0]            \n__________________________________________________________________________________________________\nbook_author_embed_layer (Embedd (None, 1, 16)        243136      book_author_input[0][0]          \n__________________________________________________________________________________________________\nbook_year_embed_layer (Embeddin (None, 1, 16)        1296        book_year_input[0][0]            \n__________________________________________________________________________________________________\nbook_publisher_embed_layer (Emb (None, 1, 16)        46544       book_publisher_input[0][0]       \n__________________________________________________________________________________________________\npool_layer_flat (Reshape)       (None, 1, 32)        0           title_pool_layer[0][0]           \n__________________________________________________________________________________________________\nbook_blurb_gru_layer (GRU)      (None, 32)           6336        book_blurb_dense_layer[0][0]     \n__________________________________________________________________________________________________\nuid_fc_layer (Dense)            (None, 1, 32)        544         uid_embed_layer[0][0]            \n__________________________________________________________________________________________________\ntf_op_layer_ExpandDims (TensorF [(None, 1, 32)]      0           location_gru_layer[0][0]         \n__________________________________________________________________________________________________\nbook_isbn_dense_layer (Dense)   (None, 1, 32)        544         book_isbn_embed_layer[0][0]      \n__________________________________________________________________________________________________\nbook_author_dense_layer (Dense) (None, 1, 32)        544         book_author_embed_layer[0][0]    \n__________________________________________________________________________________________________\nbook_year_dense_layer (Dense)   (None, 1, 32)        544         book_year_embed_layer[0][0]      \n__________________________________________________________________________________________________\nbook_publisher_dense_layer (Den (None, 1, 32)        544         book_publisher_embed_layer[0][0] \n__________________________________________________________________________________________________\ndropout_layer (Dropout)         (None, 1, 32)        0           pool_layer_flat[0][0]            \n__________________________________________________________________________________________________\ntf_op_layer_ExpandDims_2 (Tenso [(None, 1, 32)]      0           book_blurb_gru_layer[0][0]       \n__________________________________________________________________________________________________\nconcatenate (Concatenate)       (None, 1, 64)        0           uid_fc_layer[0][0]               \n                                                                 tf_op_layer_ExpandDims[0][0]     \n__________________________________________________________________________________________________\nconcatenate_1 (Concatenate)     (None, 1, 192)       0           book_isbn_dense_layer[0][0]      \n                                                                 book_author_dense_layer[0][0]    \n                                                                 book_year_dense_layer[0][0]      \n                                                                 book_publisher_dense_layer[0][0] \n                                                                 dropout_layer[0][0]              \n                                                                 tf_op_layer_ExpandDims_2[0][0]   \n__________________________________________________________________________________________________\nuser_dense_layer (Dense)        (None, 1, 200)       13000       concatenate[0][0]                \n__________________________________________________________________________________________________\ndense (Dense)                   (None, 1, 200)       38600       concatenate_1[0][0]              \n__________________________________________________________________________________________________\nuser_combine_layer_flat (Reshap (None, 200)          0           user_dense_layer[0][0]           \n__________________________________________________________________________________________________\nbook_dense_layer_flat (Reshape) (None, 200)          0           dense[0][0]                      \n__________________________________________________________________________________________________\nuser_book_feature (Lambda)      (None, 1)            0           user_combine_layer_flat[0][0]    \n                                                                 book_dense_layer_flat[0][0]      \n==================================================================================================\nTotal params: 3,964,272\nTrainable params: 3,964,272\nNon-trainable params: 0\n__________________________________________________________________________________________________\nTrain on 165218 samples, validate on 3442 samples\nEpoch 1/5\n165218/165218 [==============================] - 49s 295us/sample - loss: 13.0236 - val_loss: 11.5677\nEpoch 2/5\n165218/165218 [==============================] - 41s 249us/sample - loss: 10.4381 - val_loss: 11.8913\nEpoch 3/5\n165218/165218 [==============================] - 42s 252us/sample - loss: 9.0000 - val_loss: 12.3401\nEpoch 4/5\n165218/165218 [==============================] - 42s 254us/sample - loss: 7.9501 - val_loss: 12.8350\nEpoch 5/5\n165218/165218 [==============================] - 41s 245us/sample - loss: 7.1196 - val_loss: 13.6874\n"
    },
    {
     "output_type": "display_data",
     "data": {
      "text/plain": "<Figure size 432x288 with 1 Axes>",
      "image/svg+xml": "<?xml version=\"1.0\" encoding=\"utf-8\" standalone=\"no\"?>\r\n<!DOCTYPE svg PUBLIC \"-//W3C//DTD SVG 1.1//EN\"\r\n  \"http://www.w3.org/Graphics/SVG/1.1/DTD/svg11.dtd\">\r\n<!-- Created with matplotlib (https://matplotlib.org/) -->\r\n<svg height=\"251.842843pt\" version=\"1.1\" viewBox=\"0 0 368.925 251.842843\" width=\"368.925pt\" xmlns=\"http://www.w3.org/2000/svg\" xmlns:xlink=\"http://www.w3.org/1999/xlink\">\r\n <defs>\r\n  <style type=\"text/css\">\r\n*{stroke-linecap:butt;stroke-linejoin:round;}\r\n  </style>\r\n </defs>\r\n <g id=\"figure_1\">\r\n  <g id=\"patch_1\">\r\n   <path d=\"M -0 251.842843 \r\nL 368.925 251.842843 \r\nL 368.925 0 \r\nL -0 0 \r\nz\r\n\" style=\"fill:none;\"/>\r\n  </g>\r\n  <g id=\"axes_1\">\r\n   <g id=\"patch_2\">\r\n    <path d=\"M 26.925 227.964718 \r\nL 361.725 227.964718 \r\nL 361.725 10.524718 \r\nL 26.925 10.524718 \r\nz\r\n\" style=\"fill:#ffffff;\"/>\r\n   </g>\r\n   <g id=\"matplotlib.axis_1\">\r\n    <g id=\"xtick_1\">\r\n     <g id=\"line2d_1\">\r\n      <defs>\r\n       <path d=\"M 0 0 \r\nL 0 3.5 \r\n\" id=\"m207ecdd115\" style=\"stroke:#000000;stroke-width:0.8;\"/>\r\n      </defs>\r\n      <g>\r\n       <use style=\"stroke:#000000;stroke-width:0.8;\" x=\"26.925\" xlink:href=\"#m207ecdd115\" y=\"227.964718\"/>\r\n      </g>\r\n     </g>\r\n     <g id=\"text_1\">\r\n      <!-- 0 -->\r\n      <defs>\r\n       <path d=\"M 31.78125 66.40625 \r\nQ 24.171875 66.40625 20.328125 58.90625 \r\nQ 16.5 51.421875 16.5 36.375 \r\nQ 16.5 21.390625 20.328125 13.890625 \r\nQ 24.171875 6.390625 31.78125 6.390625 \r\nQ 39.453125 6.390625 43.28125 13.890625 \r\nQ 47.125 21.390625 47.125 36.375 \r\nQ 47.125 51.421875 43.28125 58.90625 \r\nQ 39.453125 66.40625 31.78125 66.40625 \r\nz\r\nM 31.78125 74.21875 \r\nQ 44.046875 74.21875 50.515625 64.515625 \r\nQ 56.984375 54.828125 56.984375 36.375 \r\nQ 56.984375 17.96875 50.515625 8.265625 \r\nQ 44.046875 -1.421875 31.78125 -1.421875 \r\nQ 19.53125 -1.421875 13.0625 8.265625 \r\nQ 6.59375 17.96875 6.59375 36.375 \r\nQ 6.59375 54.828125 13.0625 64.515625 \r\nQ 19.53125 74.21875 31.78125 74.21875 \r\nz\r\n\" id=\"DejaVuSans-48\"/>\r\n      </defs>\r\n      <g transform=\"translate(23.74375 242.563155)scale(0.1 -0.1)\">\r\n       <use xlink:href=\"#DejaVuSans-48\"/>\r\n      </g>\r\n     </g>\r\n    </g>\r\n    <g id=\"xtick_2\">\r\n     <g id=\"line2d_2\">\r\n      <g>\r\n       <use style=\"stroke:#000000;stroke-width:0.8;\" x=\"71.565\" xlink:href=\"#m207ecdd115\" y=\"227.964718\"/>\r\n      </g>\r\n     </g>\r\n     <g id=\"text_2\">\r\n      <!-- 2 -->\r\n      <defs>\r\n       <path d=\"M 19.1875 8.296875 \r\nL 53.609375 8.296875 \r\nL 53.609375 0 \r\nL 7.328125 0 \r\nL 7.328125 8.296875 \r\nQ 12.9375 14.109375 22.625 23.890625 \r\nQ 32.328125 33.6875 34.8125 36.53125 \r\nQ 39.546875 41.84375 41.421875 45.53125 \r\nQ 43.3125 49.21875 43.3125 52.78125 \r\nQ 43.3125 58.59375 39.234375 62.25 \r\nQ 35.15625 65.921875 28.609375 65.921875 \r\nQ 23.96875 65.921875 18.8125 64.3125 \r\nQ 13.671875 62.703125 7.8125 59.421875 \r\nL 7.8125 69.390625 \r\nQ 13.765625 71.78125 18.9375 73 \r\nQ 24.125 74.21875 28.421875 74.21875 \r\nQ 39.75 74.21875 46.484375 68.546875 \r\nQ 53.21875 62.890625 53.21875 53.421875 \r\nQ 53.21875 48.921875 51.53125 44.890625 \r\nQ 49.859375 40.875 45.40625 35.40625 \r\nQ 44.1875 33.984375 37.640625 27.21875 \r\nQ 31.109375 20.453125 19.1875 8.296875 \r\nz\r\n\" id=\"DejaVuSans-50\"/>\r\n      </defs>\r\n      <g transform=\"translate(68.38375 242.563155)scale(0.1 -0.1)\">\r\n       <use xlink:href=\"#DejaVuSans-50\"/>\r\n      </g>\r\n     </g>\r\n    </g>\r\n    <g id=\"xtick_3\">\r\n     <g id=\"line2d_3\">\r\n      <g>\r\n       <use style=\"stroke:#000000;stroke-width:0.8;\" x=\"116.205\" xlink:href=\"#m207ecdd115\" y=\"227.964718\"/>\r\n      </g>\r\n     </g>\r\n     <g id=\"text_3\">\r\n      <!-- 4 -->\r\n      <defs>\r\n       <path d=\"M 37.796875 64.3125 \r\nL 12.890625 25.390625 \r\nL 37.796875 25.390625 \r\nz\r\nM 35.203125 72.90625 \r\nL 47.609375 72.90625 \r\nL 47.609375 25.390625 \r\nL 58.015625 25.390625 \r\nL 58.015625 17.1875 \r\nL 47.609375 17.1875 \r\nL 47.609375 0 \r\nL 37.796875 0 \r\nL 37.796875 17.1875 \r\nL 4.890625 17.1875 \r\nL 4.890625 26.703125 \r\nz\r\n\" id=\"DejaVuSans-52\"/>\r\n      </defs>\r\n      <g transform=\"translate(113.02375 242.563155)scale(0.1 -0.1)\">\r\n       <use xlink:href=\"#DejaVuSans-52\"/>\r\n      </g>\r\n     </g>\r\n    </g>\r\n    <g id=\"xtick_4\">\r\n     <g id=\"line2d_4\">\r\n      <g>\r\n       <use style=\"stroke:#000000;stroke-width:0.8;\" x=\"160.845\" xlink:href=\"#m207ecdd115\" y=\"227.964718\"/>\r\n      </g>\r\n     </g>\r\n     <g id=\"text_4\">\r\n      <!-- 6 -->\r\n      <defs>\r\n       <path d=\"M 33.015625 40.375 \r\nQ 26.375 40.375 22.484375 35.828125 \r\nQ 18.609375 31.296875 18.609375 23.390625 \r\nQ 18.609375 15.53125 22.484375 10.953125 \r\nQ 26.375 6.390625 33.015625 6.390625 \r\nQ 39.65625 6.390625 43.53125 10.953125 \r\nQ 47.40625 15.53125 47.40625 23.390625 \r\nQ 47.40625 31.296875 43.53125 35.828125 \r\nQ 39.65625 40.375 33.015625 40.375 \r\nz\r\nM 52.59375 71.296875 \r\nL 52.59375 62.3125 \r\nQ 48.875 64.0625 45.09375 64.984375 \r\nQ 41.3125 65.921875 37.59375 65.921875 \r\nQ 27.828125 65.921875 22.671875 59.328125 \r\nQ 17.53125 52.734375 16.796875 39.40625 \r\nQ 19.671875 43.65625 24.015625 45.921875 \r\nQ 28.375 48.1875 33.59375 48.1875 \r\nQ 44.578125 48.1875 50.953125 41.515625 \r\nQ 57.328125 34.859375 57.328125 23.390625 \r\nQ 57.328125 12.15625 50.6875 5.359375 \r\nQ 44.046875 -1.421875 33.015625 -1.421875 \r\nQ 20.359375 -1.421875 13.671875 8.265625 \r\nQ 6.984375 17.96875 6.984375 36.375 \r\nQ 6.984375 53.65625 15.1875 63.9375 \r\nQ 23.390625 74.21875 37.203125 74.21875 \r\nQ 40.921875 74.21875 44.703125 73.484375 \r\nQ 48.484375 72.75 52.59375 71.296875 \r\nz\r\n\" id=\"DejaVuSans-54\"/>\r\n      </defs>\r\n      <g transform=\"translate(157.66375 242.563155)scale(0.1 -0.1)\">\r\n       <use xlink:href=\"#DejaVuSans-54\"/>\r\n      </g>\r\n     </g>\r\n    </g>\r\n    <g id=\"xtick_5\">\r\n     <g id=\"line2d_5\">\r\n      <g>\r\n       <use style=\"stroke:#000000;stroke-width:0.8;\" x=\"205.485\" xlink:href=\"#m207ecdd115\" y=\"227.964718\"/>\r\n      </g>\r\n     </g>\r\n     <g id=\"text_5\">\r\n      <!-- 8 -->\r\n      <defs>\r\n       <path d=\"M 31.78125 34.625 \r\nQ 24.75 34.625 20.71875 30.859375 \r\nQ 16.703125 27.09375 16.703125 20.515625 \r\nQ 16.703125 13.921875 20.71875 10.15625 \r\nQ 24.75 6.390625 31.78125 6.390625 \r\nQ 38.8125 6.390625 42.859375 10.171875 \r\nQ 46.921875 13.96875 46.921875 20.515625 \r\nQ 46.921875 27.09375 42.890625 30.859375 \r\nQ 38.875 34.625 31.78125 34.625 \r\nz\r\nM 21.921875 38.8125 \r\nQ 15.578125 40.375 12.03125 44.71875 \r\nQ 8.5 49.078125 8.5 55.328125 \r\nQ 8.5 64.0625 14.71875 69.140625 \r\nQ 20.953125 74.21875 31.78125 74.21875 \r\nQ 42.671875 74.21875 48.875 69.140625 \r\nQ 55.078125 64.0625 55.078125 55.328125 \r\nQ 55.078125 49.078125 51.53125 44.71875 \r\nQ 48 40.375 41.703125 38.8125 \r\nQ 48.828125 37.15625 52.796875 32.3125 \r\nQ 56.78125 27.484375 56.78125 20.515625 \r\nQ 56.78125 9.90625 50.3125 4.234375 \r\nQ 43.84375 -1.421875 31.78125 -1.421875 \r\nQ 19.734375 -1.421875 13.25 4.234375 \r\nQ 6.78125 9.90625 6.78125 20.515625 \r\nQ 6.78125 27.484375 10.78125 32.3125 \r\nQ 14.796875 37.15625 21.921875 38.8125 \r\nz\r\nM 18.3125 54.390625 \r\nQ 18.3125 48.734375 21.84375 45.5625 \r\nQ 25.390625 42.390625 31.78125 42.390625 \r\nQ 38.140625 42.390625 41.71875 45.5625 \r\nQ 45.3125 48.734375 45.3125 54.390625 \r\nQ 45.3125 60.0625 41.71875 63.234375 \r\nQ 38.140625 66.40625 31.78125 66.40625 \r\nQ 25.390625 66.40625 21.84375 63.234375 \r\nQ 18.3125 60.0625 18.3125 54.390625 \r\nz\r\n\" id=\"DejaVuSans-56\"/>\r\n      </defs>\r\n      <g transform=\"translate(202.30375 242.563155)scale(0.1 -0.1)\">\r\n       <use xlink:href=\"#DejaVuSans-56\"/>\r\n      </g>\r\n     </g>\r\n    </g>\r\n    <g id=\"xtick_6\">\r\n     <g id=\"line2d_6\">\r\n      <g>\r\n       <use style=\"stroke:#000000;stroke-width:0.8;\" x=\"250.125\" xlink:href=\"#m207ecdd115\" y=\"227.964718\"/>\r\n      </g>\r\n     </g>\r\n     <g id=\"text_6\">\r\n      <!-- 10 -->\r\n      <defs>\r\n       <path d=\"M 12.40625 8.296875 \r\nL 28.515625 8.296875 \r\nL 28.515625 63.921875 \r\nL 10.984375 60.40625 \r\nL 10.984375 69.390625 \r\nL 28.421875 72.90625 \r\nL 38.28125 72.90625 \r\nL 38.28125 8.296875 \r\nL 54.390625 8.296875 \r\nL 54.390625 0 \r\nL 12.40625 0 \r\nz\r\n\" id=\"DejaVuSans-49\"/>\r\n      </defs>\r\n      <g transform=\"translate(243.7625 242.563155)scale(0.1 -0.1)\">\r\n       <use xlink:href=\"#DejaVuSans-49\"/>\r\n       <use x=\"63.623047\" xlink:href=\"#DejaVuSans-48\"/>\r\n      </g>\r\n     </g>\r\n    </g>\r\n    <g id=\"xtick_7\">\r\n     <g id=\"line2d_7\">\r\n      <g>\r\n       <use style=\"stroke:#000000;stroke-width:0.8;\" x=\"294.765\" xlink:href=\"#m207ecdd115\" y=\"227.964718\"/>\r\n      </g>\r\n     </g>\r\n     <g id=\"text_7\">\r\n      <!-- 12 -->\r\n      <g transform=\"translate(288.4025 242.563155)scale(0.1 -0.1)\">\r\n       <use xlink:href=\"#DejaVuSans-49\"/>\r\n       <use x=\"63.623047\" xlink:href=\"#DejaVuSans-50\"/>\r\n      </g>\r\n     </g>\r\n    </g>\r\n    <g id=\"xtick_8\">\r\n     <g id=\"line2d_8\">\r\n      <g>\r\n       <use style=\"stroke:#000000;stroke-width:0.8;\" x=\"339.405\" xlink:href=\"#m207ecdd115\" y=\"227.964718\"/>\r\n      </g>\r\n     </g>\r\n     <g id=\"text_8\">\r\n      <!-- 14 -->\r\n      <g transform=\"translate(333.0425 242.563155)scale(0.1 -0.1)\">\r\n       <use xlink:href=\"#DejaVuSans-49\"/>\r\n       <use x=\"63.623047\" xlink:href=\"#DejaVuSans-52\"/>\r\n      </g>\r\n     </g>\r\n    </g>\r\n   </g>\r\n   <g id=\"matplotlib.axis_2\">\r\n    <g id=\"ytick_1\">\r\n     <g id=\"line2d_9\">\r\n      <defs>\r\n       <path d=\"M 0 0 \r\nL -3.5 0 \r\n\" id=\"mc210c50f4a\" style=\"stroke:#000000;stroke-width:0.8;\"/>\r\n      </defs>\r\n      <g>\r\n       <use style=\"stroke:#000000;stroke-width:0.8;\" x=\"26.925\" xlink:href=\"#mc210c50f4a\" y=\"221.680881\"/>\r\n      </g>\r\n     </g>\r\n     <g id=\"text_9\">\r\n      <!-- 7 -->\r\n      <defs>\r\n       <path d=\"M 8.203125 72.90625 \r\nL 55.078125 72.90625 \r\nL 55.078125 68.703125 \r\nL 28.609375 0 \r\nL 18.3125 0 \r\nL 43.21875 64.59375 \r\nL 8.203125 64.59375 \r\nz\r\n\" id=\"DejaVuSans-55\"/>\r\n      </defs>\r\n      <g transform=\"translate(13.5625 225.4801)scale(0.1 -0.1)\">\r\n       <use xlink:href=\"#DejaVuSans-55\"/>\r\n      </g>\r\n     </g>\r\n    </g>\r\n    <g id=\"ytick_2\">\r\n     <g id=\"line2d_10\">\r\n      <g>\r\n       <use style=\"stroke:#000000;stroke-width:0.8;\" x=\"26.925\" xlink:href=\"#mc210c50f4a\" y=\"191.583501\"/>\r\n      </g>\r\n     </g>\r\n     <g id=\"text_10\">\r\n      <!-- 8 -->\r\n      <g transform=\"translate(13.5625 195.38272)scale(0.1 -0.1)\">\r\n       <use xlink:href=\"#DejaVuSans-56\"/>\r\n      </g>\r\n     </g>\r\n    </g>\r\n    <g id=\"ytick_3\">\r\n     <g id=\"line2d_11\">\r\n      <g>\r\n       <use style=\"stroke:#000000;stroke-width:0.8;\" x=\"26.925\" xlink:href=\"#mc210c50f4a\" y=\"161.486121\"/>\r\n      </g>\r\n     </g>\r\n     <g id=\"text_11\">\r\n      <!-- 9 -->\r\n      <defs>\r\n       <path d=\"M 10.984375 1.515625 \r\nL 10.984375 10.5 \r\nQ 14.703125 8.734375 18.5 7.8125 \r\nQ 22.3125 6.890625 25.984375 6.890625 \r\nQ 35.75 6.890625 40.890625 13.453125 \r\nQ 46.046875 20.015625 46.78125 33.40625 \r\nQ 43.953125 29.203125 39.59375 26.953125 \r\nQ 35.25 24.703125 29.984375 24.703125 \r\nQ 19.046875 24.703125 12.671875 31.3125 \r\nQ 6.296875 37.9375 6.296875 49.421875 \r\nQ 6.296875 60.640625 12.9375 67.421875 \r\nQ 19.578125 74.21875 30.609375 74.21875 \r\nQ 43.265625 74.21875 49.921875 64.515625 \r\nQ 56.59375 54.828125 56.59375 36.375 \r\nQ 56.59375 19.140625 48.40625 8.859375 \r\nQ 40.234375 -1.421875 26.421875 -1.421875 \r\nQ 22.703125 -1.421875 18.890625 -0.6875 \r\nQ 15.09375 0.046875 10.984375 1.515625 \r\nz\r\nM 30.609375 32.421875 \r\nQ 37.25 32.421875 41.125 36.953125 \r\nQ 45.015625 41.5 45.015625 49.421875 \r\nQ 45.015625 57.28125 41.125 61.84375 \r\nQ 37.25 66.40625 30.609375 66.40625 \r\nQ 23.96875 66.40625 20.09375 61.84375 \r\nQ 16.21875 57.28125 16.21875 49.421875 \r\nQ 16.21875 41.5 20.09375 36.953125 \r\nQ 23.96875 32.421875 30.609375 32.421875 \r\nz\r\n\" id=\"DejaVuSans-57\"/>\r\n      </defs>\r\n      <g transform=\"translate(13.5625 165.285339)scale(0.1 -0.1)\">\r\n       <use xlink:href=\"#DejaVuSans-57\"/>\r\n      </g>\r\n     </g>\r\n    </g>\r\n    <g id=\"ytick_4\">\r\n     <g id=\"line2d_12\">\r\n      <g>\r\n       <use style=\"stroke:#000000;stroke-width:0.8;\" x=\"26.925\" xlink:href=\"#mc210c50f4a\" y=\"131.38874\"/>\r\n      </g>\r\n     </g>\r\n     <g id=\"text_12\">\r\n      <!-- 10 -->\r\n      <g transform=\"translate(7.2 135.187959)scale(0.1 -0.1)\">\r\n       <use xlink:href=\"#DejaVuSans-49\"/>\r\n       <use x=\"63.623047\" xlink:href=\"#DejaVuSans-48\"/>\r\n      </g>\r\n     </g>\r\n    </g>\r\n    <g id=\"ytick_5\">\r\n     <g id=\"line2d_13\">\r\n      <g>\r\n       <use style=\"stroke:#000000;stroke-width:0.8;\" x=\"26.925\" xlink:href=\"#mc210c50f4a\" y=\"101.29136\"/>\r\n      </g>\r\n     </g>\r\n     <g id=\"text_13\">\r\n      <!-- 11 -->\r\n      <g transform=\"translate(7.2 105.090579)scale(0.1 -0.1)\">\r\n       <use xlink:href=\"#DejaVuSans-49\"/>\r\n       <use x=\"63.623047\" xlink:href=\"#DejaVuSans-49\"/>\r\n      </g>\r\n     </g>\r\n    </g>\r\n    <g id=\"ytick_6\">\r\n     <g id=\"line2d_14\">\r\n      <g>\r\n       <use style=\"stroke:#000000;stroke-width:0.8;\" x=\"26.925\" xlink:href=\"#mc210c50f4a\" y=\"71.193979\"/>\r\n      </g>\r\n     </g>\r\n     <g id=\"text_14\">\r\n      <!-- 12 -->\r\n      <g transform=\"translate(7.2 74.993198)scale(0.1 -0.1)\">\r\n       <use xlink:href=\"#DejaVuSans-49\"/>\r\n       <use x=\"63.623047\" xlink:href=\"#DejaVuSans-50\"/>\r\n      </g>\r\n     </g>\r\n    </g>\r\n    <g id=\"ytick_7\">\r\n     <g id=\"line2d_15\">\r\n      <g>\r\n       <use style=\"stroke:#000000;stroke-width:0.8;\" x=\"26.925\" xlink:href=\"#mc210c50f4a\" y=\"41.096599\"/>\r\n      </g>\r\n     </g>\r\n     <g id=\"text_15\">\r\n      <!-- 13 -->\r\n      <defs>\r\n       <path d=\"M 40.578125 39.3125 \r\nQ 47.65625 37.796875 51.625 33 \r\nQ 55.609375 28.21875 55.609375 21.1875 \r\nQ 55.609375 10.40625 48.1875 4.484375 \r\nQ 40.765625 -1.421875 27.09375 -1.421875 \r\nQ 22.515625 -1.421875 17.65625 -0.515625 \r\nQ 12.796875 0.390625 7.625 2.203125 \r\nL 7.625 11.71875 \r\nQ 11.71875 9.328125 16.59375 8.109375 \r\nQ 21.484375 6.890625 26.8125 6.890625 \r\nQ 36.078125 6.890625 40.9375 10.546875 \r\nQ 45.796875 14.203125 45.796875 21.1875 \r\nQ 45.796875 27.640625 41.28125 31.265625 \r\nQ 36.765625 34.90625 28.71875 34.90625 \r\nL 20.21875 34.90625 \r\nL 20.21875 43.015625 \r\nL 29.109375 43.015625 \r\nQ 36.375 43.015625 40.234375 45.921875 \r\nQ 44.09375 48.828125 44.09375 54.296875 \r\nQ 44.09375 59.90625 40.109375 62.90625 \r\nQ 36.140625 65.921875 28.71875 65.921875 \r\nQ 24.65625 65.921875 20.015625 65.03125 \r\nQ 15.375 64.15625 9.8125 62.3125 \r\nL 9.8125 71.09375 \r\nQ 15.4375 72.65625 20.34375 73.4375 \r\nQ 25.25 74.21875 29.59375 74.21875 \r\nQ 40.828125 74.21875 47.359375 69.109375 \r\nQ 53.90625 64.015625 53.90625 55.328125 \r\nQ 53.90625 49.265625 50.4375 45.09375 \r\nQ 46.96875 40.921875 40.578125 39.3125 \r\nz\r\n\" id=\"DejaVuSans-51\"/>\r\n      </defs>\r\n      <g transform=\"translate(7.2 44.895818)scale(0.1 -0.1)\">\r\n       <use xlink:href=\"#DejaVuSans-49\"/>\r\n       <use x=\"63.623047\" xlink:href=\"#DejaVuSans-51\"/>\r\n      </g>\r\n     </g>\r\n    </g>\r\n    <g id=\"ytick_8\">\r\n     <g id=\"line2d_16\">\r\n      <g>\r\n       <use style=\"stroke:#000000;stroke-width:0.8;\" x=\"26.925\" xlink:href=\"#mc210c50f4a\" y=\"10.999219\"/>\r\n      </g>\r\n     </g>\r\n     <g id=\"text_16\">\r\n      <!-- 14 -->\r\n      <g transform=\"translate(7.2 14.798437)scale(0.1 -0.1)\">\r\n       <use xlink:href=\"#DejaVuSans-49\"/>\r\n       <use x=\"63.623047\" xlink:href=\"#DejaVuSans-52\"/>\r\n      </g>\r\n     </g>\r\n    </g>\r\n   </g>\r\n   <g id=\"line2d_17\">\r\n    <path clip-path=\"url(#p6f3a25be02)\" d=\"M 26.925 40.387462 \r\nL 49.245 118.202539 \r\nL 71.565 161.484916 \r\nL 93.885 193.086398 \r\nL 116.205 218.081081 \r\n\" style=\"fill:none;stroke:#ff0000;stroke-linecap:square;stroke-width:1.5;\"/>\r\n   </g>\r\n   <g id=\"line2d_18\">\r\n    <path clip-path=\"url(#p6f3a25be02)\" d=\"M 26.925 84.204057 \r\nL 49.245 74.465084 \r\nL 71.565 60.959038 \r\nL 93.885 46.063893 \r\nL 116.205 20.408354 \r\n\" style=\"fill:none;stroke:#0000ff;stroke-linecap:square;stroke-width:1.5;\"/>\r\n   </g>\r\n   <g id=\"patch_3\">\r\n    <path d=\"M 26.925 227.964718 \r\nL 26.925 10.524718 \r\n\" style=\"fill:none;stroke:#000000;stroke-linecap:square;stroke-linejoin:miter;stroke-width:0.8;\"/>\r\n   </g>\r\n   <g id=\"patch_4\">\r\n    <path d=\"M 361.725 227.964718 \r\nL 361.725 10.524718 \r\n\" style=\"fill:none;stroke:#000000;stroke-linecap:square;stroke-linejoin:miter;stroke-width:0.8;\"/>\r\n   </g>\r\n   <g id=\"patch_5\">\r\n    <path d=\"M 26.925 227.964718 \r\nL 361.725 227.964718 \r\n\" style=\"fill:none;stroke:#000000;stroke-linecap:square;stroke-linejoin:miter;stroke-width:0.8;\"/>\r\n   </g>\r\n   <g id=\"patch_6\">\r\n    <path d=\"M 26.925 10.524718 \r\nL 361.725 10.524718 \r\n\" style=\"fill:none;stroke:#000000;stroke-linecap:square;stroke-linejoin:miter;stroke-width:0.8;\"/>\r\n   </g>\r\n   <g id=\"legend_1\">\r\n    <g id=\"patch_7\">\r\n     <path d=\"M 275.134375 48.437218 \r\nL 354.725 48.437218 \r\nQ 356.725 48.437218 356.725 46.437218 \r\nL 356.725 17.524718 \r\nQ 356.725 15.524718 354.725 15.524718 \r\nL 275.134375 15.524718 \r\nQ 273.134375 15.524718 273.134375 17.524718 \r\nL 273.134375 46.437218 \r\nQ 273.134375 48.437218 275.134375 48.437218 \r\nz\r\n\" style=\"fill:#ffffff;opacity:0.8;stroke:#cccccc;stroke-linejoin:miter;\"/>\r\n    </g>\r\n    <g id=\"line2d_19\">\r\n     <path d=\"M 277.134375 23.623155 \r\nL 297.134375 23.623155 \r\n\" style=\"fill:none;stroke:#ff0000;stroke-linecap:square;stroke-width:1.5;\"/>\r\n    </g>\r\n    <g id=\"line2d_20\"/>\r\n    <g id=\"text_17\">\r\n     <!-- train_loss -->\r\n     <defs>\r\n      <path d=\"M 18.3125 70.21875 \r\nL 18.3125 54.6875 \r\nL 36.8125 54.6875 \r\nL 36.8125 47.703125 \r\nL 18.3125 47.703125 \r\nL 18.3125 18.015625 \r\nQ 18.3125 11.328125 20.140625 9.421875 \r\nQ 21.96875 7.515625 27.59375 7.515625 \r\nL 36.8125 7.515625 \r\nL 36.8125 0 \r\nL 27.59375 0 \r\nQ 17.1875 0 13.234375 3.875 \r\nQ 9.28125 7.765625 9.28125 18.015625 \r\nL 9.28125 47.703125 \r\nL 2.6875 47.703125 \r\nL 2.6875 54.6875 \r\nL 9.28125 54.6875 \r\nL 9.28125 70.21875 \r\nz\r\n\" id=\"DejaVuSans-116\"/>\r\n      <path d=\"M 41.109375 46.296875 \r\nQ 39.59375 47.171875 37.8125 47.578125 \r\nQ 36.03125 48 33.890625 48 \r\nQ 26.265625 48 22.1875 43.046875 \r\nQ 18.109375 38.09375 18.109375 28.8125 \r\nL 18.109375 0 \r\nL 9.078125 0 \r\nL 9.078125 54.6875 \r\nL 18.109375 54.6875 \r\nL 18.109375 46.1875 \r\nQ 20.953125 51.171875 25.484375 53.578125 \r\nQ 30.03125 56 36.53125 56 \r\nQ 37.453125 56 38.578125 55.875 \r\nQ 39.703125 55.765625 41.0625 55.515625 \r\nz\r\n\" id=\"DejaVuSans-114\"/>\r\n      <path d=\"M 34.28125 27.484375 \r\nQ 23.390625 27.484375 19.1875 25 \r\nQ 14.984375 22.515625 14.984375 16.5 \r\nQ 14.984375 11.71875 18.140625 8.90625 \r\nQ 21.296875 6.109375 26.703125 6.109375 \r\nQ 34.1875 6.109375 38.703125 11.40625 \r\nQ 43.21875 16.703125 43.21875 25.484375 \r\nL 43.21875 27.484375 \r\nz\r\nM 52.203125 31.203125 \r\nL 52.203125 0 \r\nL 43.21875 0 \r\nL 43.21875 8.296875 \r\nQ 40.140625 3.328125 35.546875 0.953125 \r\nQ 30.953125 -1.421875 24.3125 -1.421875 \r\nQ 15.921875 -1.421875 10.953125 3.296875 \r\nQ 6 8.015625 6 15.921875 \r\nQ 6 25.140625 12.171875 29.828125 \r\nQ 18.359375 34.515625 30.609375 34.515625 \r\nL 43.21875 34.515625 \r\nL 43.21875 35.40625 \r\nQ 43.21875 41.609375 39.140625 45 \r\nQ 35.0625 48.390625 27.6875 48.390625 \r\nQ 23 48.390625 18.546875 47.265625 \r\nQ 14.109375 46.140625 10.015625 43.890625 \r\nL 10.015625 52.203125 \r\nQ 14.9375 54.109375 19.578125 55.046875 \r\nQ 24.21875 56 28.609375 56 \r\nQ 40.484375 56 46.34375 49.84375 \r\nQ 52.203125 43.703125 52.203125 31.203125 \r\nz\r\n\" id=\"DejaVuSans-97\"/>\r\n      <path d=\"M 9.421875 54.6875 \r\nL 18.40625 54.6875 \r\nL 18.40625 0 \r\nL 9.421875 0 \r\nz\r\nM 9.421875 75.984375 \r\nL 18.40625 75.984375 \r\nL 18.40625 64.59375 \r\nL 9.421875 64.59375 \r\nz\r\n\" id=\"DejaVuSans-105\"/>\r\n      <path d=\"M 54.890625 33.015625 \r\nL 54.890625 0 \r\nL 45.90625 0 \r\nL 45.90625 32.71875 \r\nQ 45.90625 40.484375 42.875 44.328125 \r\nQ 39.84375 48.1875 33.796875 48.1875 \r\nQ 26.515625 48.1875 22.3125 43.546875 \r\nQ 18.109375 38.921875 18.109375 30.90625 \r\nL 18.109375 0 \r\nL 9.078125 0 \r\nL 9.078125 54.6875 \r\nL 18.109375 54.6875 \r\nL 18.109375 46.1875 \r\nQ 21.34375 51.125 25.703125 53.5625 \r\nQ 30.078125 56 35.796875 56 \r\nQ 45.21875 56 50.046875 50.171875 \r\nQ 54.890625 44.34375 54.890625 33.015625 \r\nz\r\n\" id=\"DejaVuSans-110\"/>\r\n      <path d=\"M 50.984375 -16.609375 \r\nL 50.984375 -23.578125 \r\nL -0.984375 -23.578125 \r\nL -0.984375 -16.609375 \r\nz\r\n\" id=\"DejaVuSans-95\"/>\r\n      <path d=\"M 9.421875 75.984375 \r\nL 18.40625 75.984375 \r\nL 18.40625 0 \r\nL 9.421875 0 \r\nz\r\n\" id=\"DejaVuSans-108\"/>\r\n      <path d=\"M 30.609375 48.390625 \r\nQ 23.390625 48.390625 19.1875 42.75 \r\nQ 14.984375 37.109375 14.984375 27.296875 \r\nQ 14.984375 17.484375 19.15625 11.84375 \r\nQ 23.34375 6.203125 30.609375 6.203125 \r\nQ 37.796875 6.203125 41.984375 11.859375 \r\nQ 46.1875 17.53125 46.1875 27.296875 \r\nQ 46.1875 37.015625 41.984375 42.703125 \r\nQ 37.796875 48.390625 30.609375 48.390625 \r\nz\r\nM 30.609375 56 \r\nQ 42.328125 56 49.015625 48.375 \r\nQ 55.71875 40.765625 55.71875 27.296875 \r\nQ 55.71875 13.875 49.015625 6.21875 \r\nQ 42.328125 -1.421875 30.609375 -1.421875 \r\nQ 18.84375 -1.421875 12.171875 6.21875 \r\nQ 5.515625 13.875 5.515625 27.296875 \r\nQ 5.515625 40.765625 12.171875 48.375 \r\nQ 18.84375 56 30.609375 56 \r\nz\r\n\" id=\"DejaVuSans-111\"/>\r\n      <path d=\"M 44.28125 53.078125 \r\nL 44.28125 44.578125 \r\nQ 40.484375 46.53125 36.375 47.5 \r\nQ 32.28125 48.484375 27.875 48.484375 \r\nQ 21.1875 48.484375 17.84375 46.4375 \r\nQ 14.5 44.390625 14.5 40.28125 \r\nQ 14.5 37.15625 16.890625 35.375 \r\nQ 19.28125 33.59375 26.515625 31.984375 \r\nL 29.59375 31.296875 \r\nQ 39.15625 29.25 43.1875 25.515625 \r\nQ 47.21875 21.78125 47.21875 15.09375 \r\nQ 47.21875 7.46875 41.1875 3.015625 \r\nQ 35.15625 -1.421875 24.609375 -1.421875 \r\nQ 20.21875 -1.421875 15.453125 -0.5625 \r\nQ 10.6875 0.296875 5.421875 2 \r\nL 5.421875 11.28125 \r\nQ 10.40625 8.6875 15.234375 7.390625 \r\nQ 20.0625 6.109375 24.8125 6.109375 \r\nQ 31.15625 6.109375 34.5625 8.28125 \r\nQ 37.984375 10.453125 37.984375 14.40625 \r\nQ 37.984375 18.0625 35.515625 20.015625 \r\nQ 33.0625 21.96875 24.703125 23.78125 \r\nL 21.578125 24.515625 \r\nQ 13.234375 26.265625 9.515625 29.90625 \r\nQ 5.8125 33.546875 5.8125 39.890625 \r\nQ 5.8125 47.609375 11.28125 51.796875 \r\nQ 16.75 56 26.8125 56 \r\nQ 31.78125 56 36.171875 55.265625 \r\nQ 40.578125 54.546875 44.28125 53.078125 \r\nz\r\n\" id=\"DejaVuSans-115\"/>\r\n     </defs>\r\n     <g transform=\"translate(305.134375 27.123155)scale(0.1 -0.1)\">\r\n      <use xlink:href=\"#DejaVuSans-116\"/>\r\n      <use x=\"39.208984\" xlink:href=\"#DejaVuSans-114\"/>\r\n      <use x=\"80.322266\" xlink:href=\"#DejaVuSans-97\"/>\r\n      <use x=\"141.601562\" xlink:href=\"#DejaVuSans-105\"/>\r\n      <use x=\"169.384766\" xlink:href=\"#DejaVuSans-110\"/>\r\n      <use x=\"232.763672\" xlink:href=\"#DejaVuSans-95\"/>\r\n      <use x=\"282.763672\" xlink:href=\"#DejaVuSans-108\"/>\r\n      <use x=\"310.546875\" xlink:href=\"#DejaVuSans-111\"/>\r\n      <use x=\"371.728516\" xlink:href=\"#DejaVuSans-115\"/>\r\n      <use x=\"423.828125\" xlink:href=\"#DejaVuSans-115\"/>\r\n     </g>\r\n    </g>\r\n    <g id=\"line2d_21\">\r\n     <path d=\"M 277.134375 38.579405 \r\nL 297.134375 38.579405 \r\n\" style=\"fill:none;stroke:#0000ff;stroke-linecap:square;stroke-width:1.5;\"/>\r\n    </g>\r\n    <g id=\"line2d_22\"/>\r\n    <g id=\"text_18\">\r\n     <!-- val_loss -->\r\n     <defs>\r\n      <path d=\"M 2.984375 54.6875 \r\nL 12.5 54.6875 \r\nL 29.59375 8.796875 \r\nL 46.6875 54.6875 \r\nL 56.203125 54.6875 \r\nL 35.6875 0 \r\nL 23.484375 0 \r\nz\r\n\" id=\"DejaVuSans-118\"/>\r\n     </defs>\r\n     <g transform=\"translate(305.134375 42.079405)scale(0.1 -0.1)\">\r\n      <use xlink:href=\"#DejaVuSans-118\"/>\r\n      <use x=\"59.179688\" xlink:href=\"#DejaVuSans-97\"/>\r\n      <use x=\"120.458984\" xlink:href=\"#DejaVuSans-108\"/>\r\n      <use x=\"148.242188\" xlink:href=\"#DejaVuSans-95\"/>\r\n      <use x=\"198.242188\" xlink:href=\"#DejaVuSans-108\"/>\r\n      <use x=\"226.025391\" xlink:href=\"#DejaVuSans-111\"/>\r\n      <use x=\"287.207031\" xlink:href=\"#DejaVuSans-115\"/>\r\n      <use x=\"339.306641\" xlink:href=\"#DejaVuSans-115\"/>\r\n     </g>\r\n    </g>\r\n   </g>\r\n  </g>\r\n </g>\r\n <defs>\r\n  <clipPath id=\"p6f3a25be02\">\r\n   <rect height=\"217.44\" width=\"334.8\" x=\"26.925\" y=\"10.524718\"/>\r\n  </clipPath>\r\n </defs>\r\n</svg>\r\n",
      "image/png": "[encoded data removed]"
     },
     "metadata": {
      "needs_background": "light"
     }
    }
   ],
   "source": [
    "model = mv_network(256,5)\n",
    "history = model.train_model()\n",
    "train_loss = history.history['loss']\n",
    "val_loss = history.history['val_loss']\n",
    "plt.figure(1)\n",
    "plt.plot(train_loss, c='r', label='train_loss')\n",
    "plt.plot(val_loss, c='b', label='val_loss')\n",
    "plt.legend()\n",
    "plt.xlim([0, 15])\n",
    "plt.show()"
   ]
  },
  {
   "cell_type": "code",
   "execution_count": 27,
   "metadata": {},
   "outputs": [
    {
     "output_type": "stream",
     "name": "stdout",
     "text": "Failed to import pydot. You must install pydot and graphviz for `pydotprint` to work.\n"
    }
   ],
   "source": [
    "keras.utils.plot_model(model, to_file='model_2.png', show_shapes=True, show_layer_names=True)"
   ]
  }
 ],
 "metadata": {
  "kernelspec": {
   "display_name": "Python 3",
   "language": "python",
   "name": "python3"
  },
  "language_info": {
   "codemirror_mode": {
    "name": "ipython",
    "version": 3
   },
   "file_extension": ".py",
   "mimetype": "text/x-python",
   "name": "python",
   "nbconvert_exporter": "python",
   "pygments_lexer": "ipython3",
   "version": "3.6.7-final"
  }
 },
 "nbformat": 4,
 "nbformat_minor": 1
}